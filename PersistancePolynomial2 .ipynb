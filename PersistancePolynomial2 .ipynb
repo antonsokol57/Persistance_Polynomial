{
 "cells": [
  {
   "cell_type": "code",
   "execution_count": 1,
   "id": "c4c0c6d0-2126-4104-9f0c-5b7580ab9006",
   "metadata": {
    "tags": []
   },
   "outputs": [],
   "source": [
    "import numpy as np\n",
    "from scipy.sparse import csr_matrix\n",
    "from scipy.sparse.csgraph import connected_components\n",
    "from collections import defaultdict\n",
    "import networkx as nx\n",
    "from math import comb\n",
    "import matplotlib.pyplot as plt\n",
    "from tqdm.contrib.concurrent import process_map\n",
    "from itertools import repeat\n",
    "from tqdm.auto import tqdm\n",
    "import pandas as pd\n",
    "from components import increasing_components"
   ]
  },
  {
   "cell_type": "code",
   "execution_count": 17,
   "id": "1db1f734-a3a3-4b2a-9ea5-1ab55b287045",
   "metadata": {
    "tags": []
   },
   "outputs": [],
   "source": [
    "from sklearn.linear_model import LogisticRegression\n",
    "from sklearn.model_selection import KFold\n",
    "from sklearn.model_selection import train_test_split, cross_val_score, GridSearchCV\n",
    "from sklearn.pipeline import Pipeline\n",
    "from sklearn.preprocessing import StandardScaler\n",
    "from sklearn.svm import SVC\n",
    "from sklearn.preprocessing import PolynomialFeatures\n",
    "from sklearn.metrics import accuracy_score"
   ]
  },
  {
   "cell_type": "code",
   "execution_count": 18,
   "id": "54fea031-231e-41bd-ab97-b30484679087",
   "metadata": {
    "tags": []
   },
   "outputs": [],
   "source": [
    "from dgl.data import TUDataset\n",
    "from dgl import to_networkx\n",
    "from dgl.data import MiniGCDataset"
   ]
  },
  {
   "cell_type": "code",
   "execution_count": 19,
   "id": "6dbb1b3e-6208-44be-8304-a969b54e3930",
   "metadata": {
    "tags": []
   },
   "outputs": [],
   "source": [
    "from sklearn.ensemble import GradientBoostingClassifier"
   ]
  },
  {
   "cell_type": "code",
   "execution_count": 6,
   "id": "454ff538",
   "metadata": {
    "tags": []
   },
   "outputs": [],
   "source": [
    "# X = pd.read_pickle('X.pkl')\n",
    "# y = pd.read_pickle('y.pkl')"
   ]
  },
  {
   "cell_type": "code",
   "execution_count": 62,
   "id": "03d007b3-1123-47e5-bfcb-a60808137e2d",
   "metadata": {
    "tags": []
   },
   "outputs": [],
   "source": [
    "def PPprobs(Graph, iters):\n",
    "    G = nx.from_numpy_array(Graph)\n",
    "    L = nx.line_graph(G)\n",
    "    edges = np.array(L.nodes())\n",
    "    B = nx.to_numpy_array(L)\n",
    "    C= B.copy()\n",
    "    #C = C + np.diag(np.ones(len(C)))\n",
    "    for i in range(len(C)):\n",
    "        if C[i].sum() == 0:\n",
    "            C[i][i] = 1\n",
    "        else:\n",
    "            C[i]=C[i]/(C[i].sum())\n",
    "    C=np.transpose(C)\n",
    "    retprobs = np.diag(np.linalg.matrix_power(C, iters))\n",
    "    times = []\n",
    "    for i in range(len(retprobs)):\n",
    "        els = set()\n",
    "        for j in retprobs:\n",
    "            if j < retprobs[i]:\n",
    "                els.add(j)\n",
    "        times.append(len(els))\n",
    "\n",
    "    n = max(Graph[i].sum() for i in range(len(Graph)))\n",
    "    V = len(Graph)\n",
    "    PPP = np.poly1d([])\n",
    "    PPQ = np.poly1d([])\n",
    "\n",
    "    Graphi = np.zeros(V*V).reshape(V,V)\n",
    "    left = V\n",
    "    cycles = 0\n",
    "    i = 0\n",
    "    get_indexes = lambda x, xs: [i for (y, i) in zip(xs, range(len(xs))) if x == y]\n",
    "    if len(times)>0:\n",
    "        for tau in range(max(times)+1):\n",
    "            i_indexes = get_indexes(i, times)\n",
    "\n",
    "            for edge in i_indexes:\n",
    "\n",
    "                Graphi[edges[edge][0], edges[edge][1]] = 1\n",
    "                Graphi[edges[edge][1], edges[edge][0]] = 1\n",
    "\n",
    "            comps = connected_components(Graphi)[0]\n",
    "            PPP[i] = left - comps\n",
    "            left = left - (left - comps)\n",
    "            PPQ[i] = Graphi.sum()/2 - V + comps - cycles\n",
    "            cycles = Graphi.sum()/2 - V + comps\n",
    "            i += 1\n",
    "    PPP[i] = left\n",
    "    PPP = tuple(PPP)\n",
    "    PPQ = list(PPQ)\n",
    "    for i in range(len(PPQ)):\n",
    "        if PPQ[0] == 0:\n",
    "            PPQ = PPQ[1:]\n",
    "    PPQ = tuple(PPQ)\n",
    "    polys = (PPP, PPQ)\n",
    "    return polys, Graph"
   ]
  },
  {
   "cell_type": "code",
   "execution_count": 7,
   "id": "03ca6c2f-5446-45ac-b84f-3ff3656ff250",
   "metadata": {
    "tags": []
   },
   "outputs": [],
   "source": [
    "def PPfromrandict(Graph, state):\n",
    "    k = len(Graph)-2\n",
    "    arr = np.arange(int((k+2)*(k+1)/2))\n",
    "    np.random.seed(state)\n",
    "    np.random.shuffle(arr)\n",
    "    dicof = {}\n",
    "    t = 0\n",
    "    for a in range(1, k+2):\n",
    "        for b in range(1, a+1):\n",
    "            dicof[arr[t]] = [a, b]\n",
    "            t += 1\n",
    "    n = max(Graph[i].sum() for i in range(len(Graph)))\n",
    "    V = len(Graph)\n",
    "    PPP = np.poly1d([])\n",
    "    PPQ = np.poly1d([])\n",
    "    Graphi = np.zeros(V*V).reshape(V,V)\n",
    "    left = V\n",
    "    cycles = 0\n",
    "    i = 0\n",
    "    while np.array_equal(Graphi, Graph) == 0: \n",
    "        for a in range(V):\n",
    "            for b in range(V):\n",
    "                macs = max(Graph[a].sum(), Graph[b].sum())\n",
    "                mi = min(Graph[a].sum(), Graph[b].sum())\n",
    "                if dicof[i] == [macs, mi]:\n",
    "                    Graphi[a][b] = Graph[a][b]\n",
    "\n",
    "        comps = connected_components(Graphi)[0]\n",
    "        PPP[i] = left - comps\n",
    "        left = left - (left - comps)\n",
    "        PPQ[i] = Graphi.sum()/2 - V + comps - cycles\n",
    "        cicles = Graphi.sum()/2 - V + comps\n",
    "        i += 1 \n",
    "    PPP[i] = left\n",
    "    PPP = tuple(PPP)\n",
    "    PPQ = list(PPQ)\n",
    "    for i in range(len(PPQ)):\n",
    "        if PPQ[0] == 0:\n",
    "            PPQ = PPQ[1:]\n",
    "    PPQ = tuple(PPQ)\n",
    "    polys = (PPP, PPQ)\n",
    "    return polys, Graph"
   ]
  },
  {
   "cell_type": "code",
   "execution_count": 2,
   "id": "9a7f142b-2974-46ea-86a6-1e2aac8d364d",
   "metadata": {
    "tags": []
   },
   "outputs": [
    {
     "name": "stdout",
     "output_type": "stream",
     "text": [
      "/bin/bash: line 1: ./showg: Permission denied\n",
      "/bin/bash: line 1: ./showg: Permission denied\n",
      "/bin/bash: line 1: ./showg: Permission denied\n",
      "/bin/bash: line 1: ./showg: Permission denied\n",
      "/bin/bash: line 1: ./showg: Permission denied\n",
      "/bin/bash: line 1: ./showg: Permission denied\n",
      "/bin/bash: line 1: ./showg: Permission denied\n",
      "/bin/bash: line 1: ./showg: Permission denied\n"
     ]
    }
   ],
   "source": [
    "adj_matrices = []\n",
    "for i in range(2, 10):\n",
    "    g6_name = f'graph{i}.g6'\n",
    "    adj_name = f'graph{i}.adj'\n",
    "    link = f'https://users.cecs.anu.edu.au/~bdm/data/{g6_name}'\n",
    "    !wget -cq $link\n",
    "    !./showg -Aq $g6_name $adj_name\n",
    "    adj_matrices.append(np.loadtxt(adj_name, dtype = int).reshape(-1, i, i))"
   ]
  },
  {
   "cell_type": "code",
   "execution_count": 64,
   "id": "3ada65d8-089f-41ee-a63c-d181cd7764a3",
   "metadata": {
    "collapsed": true,
    "jupyter": {
     "outputs_hidden": true
    },
    "tags": []
   },
   "outputs": [
    {
     "data": {
      "text/plain": [
       "[array([[[0, 0],\n",
       "         [0, 0]],\n",
       " \n",
       "        [[0, 1],\n",
       "         [1, 0]]]),\n",
       " array([[[0, 0, 0],\n",
       "         [0, 0, 0],\n",
       "         [0, 0, 0]],\n",
       " \n",
       "        [[0, 0, 1],\n",
       "         [0, 0, 0],\n",
       "         [1, 0, 0]],\n",
       " \n",
       "        [[0, 0, 1],\n",
       "         [0, 0, 1],\n",
       "         [1, 1, 0]],\n",
       " \n",
       "        [[0, 1, 1],\n",
       "         [1, 0, 1],\n",
       "         [1, 1, 0]]]),\n",
       " array([[[0, 0, 0, 0],\n",
       "         [0, 0, 0, 0],\n",
       "         [0, 0, 0, 0],\n",
       "         [0, 0, 0, 0]],\n",
       " \n",
       "        [[0, 0, 0, 1],\n",
       "         [0, 0, 0, 0],\n",
       "         [0, 0, 0, 0],\n",
       "         [1, 0, 0, 0]],\n",
       " \n",
       "        [[0, 0, 0, 1],\n",
       "         [0, 0, 0, 1],\n",
       "         [0, 0, 0, 0],\n",
       "         [1, 1, 0, 0]],\n",
       " \n",
       "        [[0, 0, 0, 1],\n",
       "         [0, 0, 0, 1],\n",
       "         [0, 0, 0, 1],\n",
       "         [1, 1, 1, 0]],\n",
       " \n",
       "        [[0, 0, 1, 0],\n",
       "         [0, 0, 0, 1],\n",
       "         [1, 0, 0, 0],\n",
       "         [0, 1, 0, 0]],\n",
       " \n",
       "        [[0, 0, 1, 1],\n",
       "         [0, 0, 0, 0],\n",
       "         [1, 0, 0, 1],\n",
       "         [1, 0, 1, 0]],\n",
       " \n",
       "        [[0, 0, 1, 1],\n",
       "         [0, 0, 0, 1],\n",
       "         [1, 0, 0, 0],\n",
       "         [1, 1, 0, 0]],\n",
       " \n",
       "        [[0, 0, 1, 1],\n",
       "         [0, 0, 0, 1],\n",
       "         [1, 0, 0, 1],\n",
       "         [1, 1, 1, 0]],\n",
       " \n",
       "        [[0, 0, 1, 1],\n",
       "         [0, 0, 1, 1],\n",
       "         [1, 1, 0, 0],\n",
       "         [1, 1, 0, 0]],\n",
       " \n",
       "        [[0, 0, 1, 1],\n",
       "         [0, 0, 1, 1],\n",
       "         [1, 1, 0, 1],\n",
       "         [1, 1, 1, 0]],\n",
       " \n",
       "        [[0, 1, 1, 1],\n",
       "         [1, 0, 1, 1],\n",
       "         [1, 1, 0, 1],\n",
       "         [1, 1, 1, 0]]]),\n",
       " array([[[0, 0, 0, 0, 0],\n",
       "         [0, 0, 0, 0, 0],\n",
       "         [0, 0, 0, 0, 0],\n",
       "         [0, 0, 0, 0, 0],\n",
       "         [0, 0, 0, 0, 0]],\n",
       " \n",
       "        [[0, 0, 0, 0, 1],\n",
       "         [0, 0, 0, 0, 0],\n",
       "         [0, 0, 0, 0, 0],\n",
       "         [0, 0, 0, 0, 0],\n",
       "         [1, 0, 0, 0, 0]],\n",
       " \n",
       "        [[0, 0, 0, 0, 1],\n",
       "         [0, 0, 0, 0, 1],\n",
       "         [0, 0, 0, 0, 0],\n",
       "         [0, 0, 0, 0, 0],\n",
       "         [1, 1, 0, 0, 0]],\n",
       " \n",
       "        [[0, 0, 0, 0, 1],\n",
       "         [0, 0, 0, 0, 1],\n",
       "         [0, 0, 0, 0, 1],\n",
       "         [0, 0, 0, 0, 0],\n",
       "         [1, 1, 1, 0, 0]],\n",
       " \n",
       "        [[0, 0, 0, 0, 1],\n",
       "         [0, 0, 0, 0, 1],\n",
       "         [0, 0, 0, 0, 1],\n",
       "         [0, 0, 0, 0, 1],\n",
       "         [1, 1, 1, 1, 0]],\n",
       " \n",
       "        [[0, 0, 0, 1, 0],\n",
       "         [0, 0, 0, 0, 1],\n",
       "         [0, 0, 0, 0, 0],\n",
       "         [1, 0, 0, 0, 0],\n",
       "         [0, 1, 0, 0, 0]],\n",
       " \n",
       "        [[0, 0, 0, 1, 0],\n",
       "         [0, 0, 0, 0, 1],\n",
       "         [0, 0, 0, 0, 1],\n",
       "         [1, 0, 0, 0, 0],\n",
       "         [0, 1, 1, 0, 0]],\n",
       " \n",
       "        [[0, 0, 0, 1, 1],\n",
       "         [0, 0, 0, 0, 0],\n",
       "         [0, 0, 0, 0, 0],\n",
       "         [1, 0, 0, 0, 1],\n",
       "         [1, 0, 0, 1, 0]],\n",
       " \n",
       "        [[0, 0, 0, 1, 1],\n",
       "         [0, 0, 0, 0, 1],\n",
       "         [0, 0, 0, 0, 0],\n",
       "         [1, 0, 0, 0, 0],\n",
       "         [1, 1, 0, 0, 0]],\n",
       " \n",
       "        [[0, 0, 0, 1, 1],\n",
       "         [0, 0, 0, 0, 1],\n",
       "         [0, 0, 0, 0, 0],\n",
       "         [1, 0, 0, 0, 1],\n",
       "         [1, 1, 0, 1, 0]],\n",
       " \n",
       "        [[0, 0, 0, 1, 1],\n",
       "         [0, 0, 0, 0, 1],\n",
       "         [0, 0, 0, 0, 1],\n",
       "         [1, 0, 0, 0, 0],\n",
       "         [1, 1, 1, 0, 0]],\n",
       " \n",
       "        [[0, 0, 0, 1, 1],\n",
       "         [0, 0, 0, 0, 1],\n",
       "         [0, 0, 0, 0, 1],\n",
       "         [1, 0, 0, 0, 1],\n",
       "         [1, 1, 1, 1, 0]],\n",
       " \n",
       "        [[0, 0, 0, 1, 1],\n",
       "         [0, 0, 0, 1, 0],\n",
       "         [0, 0, 0, 0, 1],\n",
       "         [1, 1, 0, 0, 1],\n",
       "         [1, 0, 1, 1, 0]],\n",
       " \n",
       "        [[0, 0, 0, 1, 1],\n",
       "         [0, 0, 0, 1, 1],\n",
       "         [0, 0, 0, 0, 0],\n",
       "         [1, 1, 0, 0, 0],\n",
       "         [1, 1, 0, 0, 0]],\n",
       " \n",
       "        [[0, 0, 0, 1, 1],\n",
       "         [0, 0, 0, 1, 1],\n",
       "         [0, 0, 0, 0, 0],\n",
       "         [1, 1, 0, 0, 1],\n",
       "         [1, 1, 0, 1, 0]],\n",
       " \n",
       "        [[0, 0, 0, 1, 1],\n",
       "         [0, 0, 0, 1, 1],\n",
       "         [0, 0, 0, 0, 1],\n",
       "         [1, 1, 0, 0, 0],\n",
       "         [1, 1, 1, 0, 0]],\n",
       " \n",
       "        [[0, 0, 0, 1, 1],\n",
       "         [0, 0, 0, 1, 1],\n",
       "         [0, 0, 0, 0, 1],\n",
       "         [1, 1, 0, 0, 1],\n",
       "         [1, 1, 1, 1, 0]],\n",
       " \n",
       "        [[0, 0, 0, 1, 1],\n",
       "         [0, 0, 0, 1, 1],\n",
       "         [0, 0, 0, 1, 1],\n",
       "         [1, 1, 1, 0, 0],\n",
       "         [1, 1, 1, 0, 0]],\n",
       " \n",
       "        [[0, 0, 0, 1, 1],\n",
       "         [0, 0, 0, 1, 1],\n",
       "         [0, 0, 0, 1, 1],\n",
       "         [1, 1, 1, 0, 1],\n",
       "         [1, 1, 1, 1, 0]],\n",
       " \n",
       "        [[0, 0, 1, 0, 1],\n",
       "         [0, 0, 0, 1, 0],\n",
       "         [1, 0, 0, 0, 1],\n",
       "         [0, 1, 0, 0, 0],\n",
       "         [1, 0, 1, 0, 0]],\n",
       " \n",
       "        [[0, 0, 1, 0, 1],\n",
       "         [0, 0, 0, 1, 1],\n",
       "         [1, 0, 0, 0, 0],\n",
       "         [0, 1, 0, 0, 0],\n",
       "         [1, 1, 0, 0, 0]],\n",
       " \n",
       "        [[0, 0, 1, 0, 1],\n",
       "         [0, 0, 0, 1, 1],\n",
       "         [1, 0, 0, 0, 1],\n",
       "         [0, 1, 0, 0, 0],\n",
       "         [1, 1, 1, 0, 0]],\n",
       " \n",
       "        [[0, 0, 1, 0, 1],\n",
       "         [0, 0, 0, 1, 1],\n",
       "         [1, 0, 0, 0, 1],\n",
       "         [0, 1, 0, 0, 1],\n",
       "         [1, 1, 1, 1, 0]],\n",
       " \n",
       "        [[0, 0, 1, 1, 1],\n",
       "         [0, 0, 0, 0, 0],\n",
       "         [1, 0, 0, 1, 1],\n",
       "         [1, 0, 1, 0, 1],\n",
       "         [1, 0, 1, 1, 0]],\n",
       " \n",
       "        [[0, 0, 1, 1, 1],\n",
       "         [0, 0, 0, 0, 1],\n",
       "         [1, 0, 0, 1, 1],\n",
       "         [1, 0, 1, 0, 0],\n",
       "         [1, 1, 1, 0, 0]],\n",
       " \n",
       "        [[0, 0, 1, 1, 1],\n",
       "         [0, 0, 0, 0, 1],\n",
       "         [1, 0, 0, 1, 1],\n",
       "         [1, 0, 1, 0, 1],\n",
       "         [1, 1, 1, 1, 0]],\n",
       " \n",
       "        [[0, 0, 1, 1, 0],\n",
       "         [0, 0, 0, 1, 1],\n",
       "         [1, 0, 0, 0, 1],\n",
       "         [1, 1, 0, 0, 0],\n",
       "         [0, 1, 1, 0, 0]],\n",
       " \n",
       "        [[0, 0, 1, 1, 1],\n",
       "         [0, 0, 0, 1, 1],\n",
       "         [1, 0, 0, 0, 1],\n",
       "         [1, 1, 0, 0, 0],\n",
       "         [1, 1, 1, 0, 0]],\n",
       " \n",
       "        [[0, 0, 1, 1, 1],\n",
       "         [0, 0, 0, 1, 1],\n",
       "         [1, 0, 0, 0, 1],\n",
       "         [1, 1, 0, 0, 1],\n",
       "         [1, 1, 1, 1, 0]],\n",
       " \n",
       "        [[0, 0, 1, 1, 1],\n",
       "         [0, 0, 0, 1, 1],\n",
       "         [1, 0, 0, 1, 1],\n",
       "         [1, 1, 1, 0, 1],\n",
       "         [1, 1, 1, 1, 0]],\n",
       " \n",
       "        [[0, 0, 1, 1, 1],\n",
       "         [0, 0, 1, 1, 1],\n",
       "         [1, 1, 0, 0, 1],\n",
       "         [1, 1, 0, 0, 0],\n",
       "         [1, 1, 1, 0, 0]],\n",
       " \n",
       "        [[0, 0, 1, 1, 1],\n",
       "         [0, 0, 1, 1, 1],\n",
       "         [1, 1, 0, 0, 1],\n",
       "         [1, 1, 0, 0, 1],\n",
       "         [1, 1, 1, 1, 0]],\n",
       " \n",
       "        [[0, 0, 1, 1, 1],\n",
       "         [0, 0, 1, 1, 1],\n",
       "         [1, 1, 0, 1, 1],\n",
       "         [1, 1, 1, 0, 1],\n",
       "         [1, 1, 1, 1, 0]],\n",
       " \n",
       "        [[0, 1, 1, 1, 1],\n",
       "         [1, 0, 1, 1, 1],\n",
       "         [1, 1, 0, 1, 1],\n",
       "         [1, 1, 1, 0, 1],\n",
       "         [1, 1, 1, 1, 0]]]),\n",
       " array([[[0, 0, 0, 0, 0, 0],\n",
       "         [0, 0, 0, 0, 0, 0],\n",
       "         [0, 0, 0, 0, 0, 0],\n",
       "         [0, 0, 0, 0, 0, 0],\n",
       "         [0, 0, 0, 0, 0, 0],\n",
       "         [0, 0, 0, 0, 0, 0]],\n",
       " \n",
       "        [[0, 0, 0, 0, 0, 1],\n",
       "         [0, 0, 0, 0, 0, 0],\n",
       "         [0, 0, 0, 0, 0, 0],\n",
       "         [0, 0, 0, 0, 0, 0],\n",
       "         [0, 0, 0, 0, 0, 0],\n",
       "         [1, 0, 0, 0, 0, 0]],\n",
       " \n",
       "        [[0, 0, 0, 0, 0, 1],\n",
       "         [0, 0, 0, 0, 0, 1],\n",
       "         [0, 0, 0, 0, 0, 0],\n",
       "         [0, 0, 0, 0, 0, 0],\n",
       "         [0, 0, 0, 0, 0, 0],\n",
       "         [1, 1, 0, 0, 0, 0]],\n",
       " \n",
       "        ...,\n",
       " \n",
       "        [[0, 0, 1, 1, 1, 1],\n",
       "         [0, 0, 1, 1, 1, 1],\n",
       "         [1, 1, 0, 0, 1, 1],\n",
       "         [1, 1, 0, 0, 1, 1],\n",
       "         [1, 1, 1, 1, 0, 1],\n",
       "         [1, 1, 1, 1, 1, 0]],\n",
       " \n",
       "        [[0, 0, 1, 1, 1, 1],\n",
       "         [0, 0, 1, 1, 1, 1],\n",
       "         [1, 1, 0, 1, 1, 1],\n",
       "         [1, 1, 1, 0, 1, 1],\n",
       "         [1, 1, 1, 1, 0, 1],\n",
       "         [1, 1, 1, 1, 1, 0]],\n",
       " \n",
       "        [[0, 1, 1, 1, 1, 1],\n",
       "         [1, 0, 1, 1, 1, 1],\n",
       "         [1, 1, 0, 1, 1, 1],\n",
       "         [1, 1, 1, 0, 1, 1],\n",
       "         [1, 1, 1, 1, 0, 1],\n",
       "         [1, 1, 1, 1, 1, 0]]]),\n",
       " array([[[0, 0, 0, ..., 0, 0, 0],\n",
       "         [0, 0, 0, ..., 0, 0, 0],\n",
       "         [0, 0, 0, ..., 0, 0, 0],\n",
       "         ...,\n",
       "         [0, 0, 0, ..., 0, 0, 0],\n",
       "         [0, 0, 0, ..., 0, 0, 0],\n",
       "         [0, 0, 0, ..., 0, 0, 0]],\n",
       " \n",
       "        [[0, 0, 0, ..., 0, 0, 1],\n",
       "         [0, 0, 0, ..., 0, 0, 0],\n",
       "         [0, 0, 0, ..., 0, 0, 0],\n",
       "         ...,\n",
       "         [0, 0, 0, ..., 0, 0, 0],\n",
       "         [0, 0, 0, ..., 0, 0, 0],\n",
       "         [1, 0, 0, ..., 0, 0, 0]],\n",
       " \n",
       "        [[0, 0, 0, ..., 0, 0, 1],\n",
       "         [0, 0, 0, ..., 0, 0, 1],\n",
       "         [0, 0, 0, ..., 0, 0, 0],\n",
       "         ...,\n",
       "         [0, 0, 0, ..., 0, 0, 0],\n",
       "         [0, 0, 0, ..., 0, 0, 0],\n",
       "         [1, 1, 0, ..., 0, 0, 0]],\n",
       " \n",
       "        ...,\n",
       " \n",
       "        [[0, 0, 1, ..., 1, 1, 1],\n",
       "         [0, 0, 1, ..., 1, 1, 1],\n",
       "         [1, 1, 0, ..., 1, 1, 1],\n",
       "         ...,\n",
       "         [1, 1, 1, ..., 0, 1, 1],\n",
       "         [1, 1, 1, ..., 1, 0, 1],\n",
       "         [1, 1, 1, ..., 1, 1, 0]],\n",
       " \n",
       "        [[0, 0, 1, ..., 1, 1, 1],\n",
       "         [0, 0, 1, ..., 1, 1, 1],\n",
       "         [1, 1, 0, ..., 1, 1, 1],\n",
       "         ...,\n",
       "         [1, 1, 1, ..., 0, 1, 1],\n",
       "         [1, 1, 1, ..., 1, 0, 1],\n",
       "         [1, 1, 1, ..., 1, 1, 0]],\n",
       " \n",
       "        [[0, 1, 1, ..., 1, 1, 1],\n",
       "         [1, 0, 1, ..., 1, 1, 1],\n",
       "         [1, 1, 0, ..., 1, 1, 1],\n",
       "         ...,\n",
       "         [1, 1, 1, ..., 0, 1, 1],\n",
       "         [1, 1, 1, ..., 1, 0, 1],\n",
       "         [1, 1, 1, ..., 1, 1, 0]]]),\n",
       " array([[[0, 0, 0, ..., 0, 0, 0],\n",
       "         [0, 0, 0, ..., 0, 0, 0],\n",
       "         [0, 0, 0, ..., 0, 0, 0],\n",
       "         ...,\n",
       "         [0, 0, 0, ..., 0, 0, 0],\n",
       "         [0, 0, 0, ..., 0, 0, 0],\n",
       "         [0, 0, 0, ..., 0, 0, 0]],\n",
       " \n",
       "        [[0, 0, 0, ..., 0, 0, 1],\n",
       "         [0, 0, 0, ..., 0, 0, 0],\n",
       "         [0, 0, 0, ..., 0, 0, 0],\n",
       "         ...,\n",
       "         [0, 0, 0, ..., 0, 0, 0],\n",
       "         [0, 0, 0, ..., 0, 0, 0],\n",
       "         [1, 0, 0, ..., 0, 0, 0]],\n",
       " \n",
       "        [[0, 0, 0, ..., 0, 0, 1],\n",
       "         [0, 0, 0, ..., 0, 0, 1],\n",
       "         [0, 0, 0, ..., 0, 0, 0],\n",
       "         ...,\n",
       "         [0, 0, 0, ..., 0, 0, 0],\n",
       "         [0, 0, 0, ..., 0, 0, 0],\n",
       "         [1, 1, 0, ..., 0, 0, 0]],\n",
       " \n",
       "        ...,\n",
       " \n",
       "        [[0, 0, 1, ..., 1, 1, 1],\n",
       "         [0, 0, 1, ..., 1, 1, 1],\n",
       "         [1, 1, 0, ..., 1, 1, 1],\n",
       "         ...,\n",
       "         [1, 1, 1, ..., 0, 1, 1],\n",
       "         [1, 1, 1, ..., 1, 0, 1],\n",
       "         [1, 1, 1, ..., 1, 1, 0]],\n",
       " \n",
       "        [[0, 0, 1, ..., 1, 1, 1],\n",
       "         [0, 0, 1, ..., 1, 1, 1],\n",
       "         [1, 1, 0, ..., 1, 1, 1],\n",
       "         ...,\n",
       "         [1, 1, 1, ..., 0, 1, 1],\n",
       "         [1, 1, 1, ..., 1, 0, 1],\n",
       "         [1, 1, 1, ..., 1, 1, 0]],\n",
       " \n",
       "        [[0, 1, 1, ..., 1, 1, 1],\n",
       "         [1, 0, 1, ..., 1, 1, 1],\n",
       "         [1, 1, 0, ..., 1, 1, 1],\n",
       "         ...,\n",
       "         [1, 1, 1, ..., 0, 1, 1],\n",
       "         [1, 1, 1, ..., 1, 0, 1],\n",
       "         [1, 1, 1, ..., 1, 1, 0]]]),\n",
       " array([[[0, 0, 0, ..., 0, 0, 0],\n",
       "         [0, 0, 0, ..., 0, 0, 0],\n",
       "         [0, 0, 0, ..., 0, 0, 0],\n",
       "         ...,\n",
       "         [0, 0, 0, ..., 0, 0, 0],\n",
       "         [0, 0, 0, ..., 0, 0, 0],\n",
       "         [0, 0, 0, ..., 0, 0, 0]],\n",
       " \n",
       "        [[0, 0, 0, ..., 0, 0, 1],\n",
       "         [0, 0, 0, ..., 0, 0, 0],\n",
       "         [0, 0, 0, ..., 0, 0, 0],\n",
       "         ...,\n",
       "         [0, 0, 0, ..., 0, 0, 0],\n",
       "         [0, 0, 0, ..., 0, 0, 0],\n",
       "         [1, 0, 0, ..., 0, 0, 0]],\n",
       " \n",
       "        [[0, 0, 0, ..., 0, 0, 1],\n",
       "         [0, 0, 0, ..., 0, 0, 1],\n",
       "         [0, 0, 0, ..., 0, 0, 0],\n",
       "         ...,\n",
       "         [0, 0, 0, ..., 0, 0, 0],\n",
       "         [0, 0, 0, ..., 0, 0, 0],\n",
       "         [1, 1, 0, ..., 0, 0, 0]],\n",
       " \n",
       "        ...,\n",
       " \n",
       "        [[0, 0, 1, ..., 1, 1, 1],\n",
       "         [0, 0, 1, ..., 1, 1, 1],\n",
       "         [1, 1, 0, ..., 1, 1, 1],\n",
       "         ...,\n",
       "         [1, 1, 1, ..., 0, 1, 1],\n",
       "         [1, 1, 1, ..., 1, 0, 1],\n",
       "         [1, 1, 1, ..., 1, 1, 0]],\n",
       " \n",
       "        [[0, 0, 1, ..., 1, 1, 1],\n",
       "         [0, 0, 1, ..., 1, 1, 1],\n",
       "         [1, 1, 0, ..., 1, 1, 1],\n",
       "         ...,\n",
       "         [1, 1, 1, ..., 0, 1, 1],\n",
       "         [1, 1, 1, ..., 1, 0, 1],\n",
       "         [1, 1, 1, ..., 1, 1, 0]],\n",
       " \n",
       "        [[0, 1, 1, ..., 1, 1, 1],\n",
       "         [1, 0, 1, ..., 1, 1, 1],\n",
       "         [1, 1, 0, ..., 1, 1, 1],\n",
       "         ...,\n",
       "         [1, 1, 1, ..., 0, 1, 1],\n",
       "         [1, 1, 1, ..., 1, 0, 1],\n",
       "         [1, 1, 1, ..., 1, 1, 0]]])]"
      ]
     },
     "execution_count": 64,
     "metadata": {},
     "output_type": "execute_result"
    }
   ],
   "source": [
    "adj_matrices"
   ]
  },
  {
   "cell_type": "code",
   "execution_count": 65,
   "id": "6c74c027-7b30-48d7-96bf-8e9e8ad57580",
   "metadata": {
    "tags": []
   },
   "outputs": [],
   "source": [
    "def PPbij(Graph):\n",
    " n = max(Graph[i].sum() for i in range(len(Graph)))\n",
    " V = len(Graph)\n",
    " PPP = np.poly1d([])\n",
    " PPQ = np.poly1d([])\n",
    "\n",
    " Graphi = np.zeros(V*V).reshape(V,V)\n",
    " left = V\n",
    " cycles = 0\n",
    " i = 0\n",
    " while np.array_equal(Graphi, Graph) == 0:\n",
    "     for a in range(V):\n",
    "         for b in range(V):\n",
    "             macs = max(Graph[a].sum(), Graph[b].sum())\n",
    "             mi = min(Graph[a].sum(), Graph[b].sum())\n",
    "             if int(macs*(macs-1)/2) + mi == i:\n",
    "                 Graphi[a][b] = Graph[a][b]\n",
    "     comps = connected_components(Graphi)[0]\n",
    "     PPP[i] = left - comps\n",
    "     left = left - (left - comps)\n",
    "     PPQ[i] = Graphi.sum()/2 - V + comps - cycles\n",
    "     cycles = Graphi.sum()/2 - V + comps\n",
    "     i += 1\n",
    " PPP[i] = left\n",
    " PPP = tuple(PPP)\n",
    " PPQ = list(PPQ)\n",
    " for i in range(len(PPQ)):\n",
    "     if PPQ[0] == 0:\n",
    "         PPQ = PPQ[1:]\n",
    " PPQ = tuple(PPQ)\n",
    " polys = (PPP, PPQ)\n",
    " return polys, Graph\n"
   ]
  },
  {
   "cell_type": "code",
   "execution_count": 3,
   "id": "f54698d2-1430-4fc5-beaa-b2158544957d",
   "metadata": {
    "tags": []
   },
   "outputs": [],
   "source": [
    "\n",
    "def PPfastprobs(Graph, iters):\n",
    "    if isinstance(Graph, np.ndarray):\n",
    "        G = nx.from_numpy_array(Graph)\n",
    "    else:\n",
    "        G = Graph\n",
    "    L = nx.line_graph(G)\n",
    "    edges = np.array(L.nodes())\n",
    "    C = nx.to_numpy_array(L)\n",
    "    #C = C + np.diag(np.ones(len(C)))\n",
    "    \n",
    "    C[np.diag(np.all(C==0, axis=0))]=1\n",
    "    C=C/C.sum(axis=0)\n",
    "    \n",
    "    Matprobs=C.copy()\n",
    "    \n",
    "    allpolys=[]\n",
    "    for k in range(iters):\n",
    "        times = []\n",
    "        retprobs = np.diag(Matprobs)\n",
    "        for i in range(len(retprobs)):\n",
    "            els = set()\n",
    "            for j in retprobs:\n",
    "                if j < retprobs[i]:\n",
    "                    els.add(j)\n",
    "            times.append(len(els))\n",
    "        times = np.array(times, dtype=np.int32)\n",
    "        PPP, PPQ  = increasing_components(G.number_of_nodes(), *(edges[times == i] for i in range(times.max(initial=-1) + 1)))\n",
    "        # PPP = np.poly1d(PPP, dtype=np.uint8)\n",
    "        # PPQ = np.poly1d(PPQ, dtype=np.uint8)\n",
    "        PPP = np.array(PPP, dtype=np.uint8)\n",
    "        PPQ = np.array(PPQ, dtype=np.uint8)\n",
    "       \n",
    "        PPP = tuple(PPP)\n",
    "        PPQ = list(PPQ)\n",
    "        for i in range(len(PPQ)):\n",
    "            if PPQ[0] == 0:\n",
    "                PPQ = PPQ[1:]\n",
    "        PPQ = tuple(PPQ)\n",
    "        polys = (PPP, PPQ)\n",
    "        allpolys.append(polys)\n",
    "        Matprobs=np.matmul(Matprobs,C)\n",
    "    return tuple(allpolys), Graph\n",
    "\n",
    "def job(i, maxdeg):\n",
    "\n",
    "    polyslist = []\n",
    "    # polys, Graph = PPbij(i)\n",
    "    # polyslist.append(polys)\n",
    "    \n",
    "    # for t in []:\n",
    "    #     polys, Graph = PPfromrandict(i, t)\n",
    "    #     polyslist.append(polys)\n",
    "    \n",
    "    polys, Graph = PPfastprobs(i, maxdeg)\n",
    "    polyslist.append(polys)\n",
    "    \n",
    "    counts = np.unique(sum(i), return_counts=True)\n",
    "    coord = 0\n",
    "    for t in range(len(i)):\n",
    "        if len(counts[0]) > coord:\n",
    "            if counts[0][coord]==t:\n",
    "                polyslist.append(counts[1][coord])\n",
    "                coord += 1\n",
    "            else:\n",
    "                polyslist.append(0)\n",
    "        else: \n",
    "            polyslist.append(0)\n",
    "        \n",
    "        \n",
    "    polyslist = tuple((polyslist))\n",
    "    # for t in range(2, 100):\n",
    "    #     polys, Graph = PPprobs(i, t)\n",
    "    #     polyslist.append(polys)\n",
    "    \n",
    "    return polyslist, i"
   ]
  },
  {
   "cell_type": "code",
   "execution_count": 4,
   "id": "8b44cfee-0614-4499-ab6f-12997bf02831",
   "metadata": {
    "tags": []
   },
   "outputs": [
    {
     "data": {
      "application/vnd.jupyter.widget-view+json": {
       "model_id": "d3cfb6b0d6a440a0888e7379dfbf9f03",
       "version_major": 2,
       "version_minor": 0
      },
      "text/plain": [
       "  0%|          | 0/274668 [00:00<?, ?it/s]"
      ]
     },
     "metadata": {},
     "output_type": "display_data"
    },
    {
     "name": "stdout",
     "output_type": "stream",
     "text": [
      "From 274668 graphs on 9 vertices\n",
      "number of equivalence classes is 273907\n",
      "probability to distinguish two random graphs from dataset is 0.9999999778638585\n",
      "CPU times: user 43.8 s, sys: 4.53 s, total: 48.3 s\n",
      "Wall time: 1min 19s\n"
     ]
    }
   ],
   "source": [
    "%%time\n",
    "for j in np.arange(7,8):\n",
    "\n",
    "    Polynomials = defaultdict(list)\n",
    "    for a, b in process_map(job, adj_matrices[j], repeat(20), chunksize=max(1, int(len(adj_matrices[j])/100))):\n",
    "        Polynomials[a].append(b)\n",
    "\n",
    "        \n",
    "        \n",
    "    print('From ' + str(len(adj_matrices[j])) + ' graphs on', j+2, 'vertices')\n",
    "    negprob = 0\n",
    "    for i in Polynomials:\n",
    "        negprob += comb(len(Polynomials[i]), 2)\n",
    "    print('number of equivalence classes is ' + str(len(Polynomials)) )\n",
    "    print('probability to distinguish two random graphs from dataset is ' + str(1 - negprob/comb(len(adj_matrices[j]), 2)))\n"
   ]
  },
  {
   "cell_type": "code",
   "execution_count": 5,
   "id": "fdadc167-5e2b-45c7-8eb7-977ee8ebe440",
   "metadata": {
    "tags": []
   },
   "outputs": [],
   "source": [
    "Graphsleft=[]\n",
    "for i in Polynomials:\n",
    "    if len(Polynomials[i])>1:\n",
    "        for g in Polynomials[i]:\n",
    "            Graphsleft.append(g)"
   ]
  },
  {
   "cell_type": "code",
   "execution_count": 6,
   "id": "9268780a-3549-4063-951b-8ff4ba9615e3",
   "metadata": {
    "tags": []
   },
   "outputs": [
    {
     "name": "stdout",
     "output_type": "stream",
     "text": [
      "1458\n"
     ]
    },
    {
     "data": {
      "application/vnd.jupyter.widget-view+json": {
       "model_id": "b59b9d8a296b41c08bf3031961f20164",
       "version_major": 2,
       "version_minor": 0
      },
      "text/plain": [
       "  0%|          | 0/1458 [00:00<?, ?it/s]"
      ]
     },
     "metadata": {},
     "output_type": "display_data"
    },
    {
     "name": "stdout",
     "output_type": "stream",
     "text": [
      "From 1458 graphs on 9 vertices\n",
      "number of equivalence classes is 1458\n",
      "probability to distinguish two random graphs from dataset is 1.0\n"
     ]
    }
   ],
   "source": [
    "print(len(Graphsleft))\n",
    "Polynomials = defaultdict(list)\n",
    "for a, b in process_map(job, Graphsleft, repeat(102), chunksize=max(1, int(len(Graphsleft)/100))):\n",
    "    Polynomials[a].append(b)\n",
    "\n",
    "\n",
    "\n",
    "print('From ' + str(len(Graphsleft)) + ' graphs on', j+2, 'vertices')\n",
    "negprob = 0\n",
    "for i in Polynomials:\n",
    "    negprob += comb(len(Polynomials[i]), 2)\n",
    "print('number of equivalence classes is ' + str(len(Polynomials)) )\n",
    "print('probability to distinguish two random graphs from dataset is ' + str(1 - negprob/comb(len(Graphsleft), 2)))"
   ]
  },
  {
   "cell_type": "code",
   "execution_count": 194,
   "id": "ee76841a-e28f-4e21-8835-c6c9c769df6b",
   "metadata": {
    "tags": []
   },
   "outputs": [
    {
     "name": "stdout",
     "output_type": "stream",
     "text": [
      "[array([[0, 0, 0, 0, 1, 1, 0],\n",
      "       [0, 0, 0, 0, 0, 0, 1],\n",
      "       [0, 0, 0, 0, 0, 0, 1],\n",
      "       [0, 0, 0, 0, 0, 0, 1],\n",
      "       [1, 0, 0, 0, 0, 1, 0],\n",
      "       [1, 0, 0, 0, 1, 0, 0],\n",
      "       [0, 1, 1, 1, 0, 0, 0]]), array([[0, 0, 0, 0, 1, 1, 0],\n",
      "       [0, 0, 0, 0, 1, 0, 1],\n",
      "       [0, 0, 0, 0, 0, 1, 1],\n",
      "       [0, 0, 0, 0, 0, 0, 0],\n",
      "       [1, 1, 0, 0, 0, 0, 0],\n",
      "       [1, 0, 1, 0, 0, 0, 0],\n",
      "       [0, 1, 1, 0, 0, 0, 0]])]\n"
     ]
    }
   ],
   "source": [
    "for i in Polynomials:\n",
    "    if len(Polynomials[i]) > 1:\n",
    "        print(Polynomials[i])"
   ]
  },
  {
   "cell_type": "code",
   "execution_count": 203,
   "id": "e63dedc5-99a0-4d59-8bd4-a294265d9f9e",
   "metadata": {
    "tags": []
   },
   "outputs": [
    {
     "data": {
      "text/plain": [
       "array([0, 1, 2])"
      ]
     },
     "execution_count": 203,
     "metadata": {},
     "output_type": "execute_result"
    }
   ],
   "source": [
    "np.sort(np.unique(sum(np.array([[0, 0, 0, 0, 0, 1],\n",
    "       [0, 0, 0, 0, 0, 1],\n",
    "       [0, 0, 0, 0, 0, 0],\n",
    "       [0, 0, 0, 0, 0, 0],\n",
    "       [0, 0, 0, 0, 0, 0],\n",
    "       [1, 1, 0, 0, 0, 0]])), return_counts=True)[0])"
   ]
  },
  {
   "cell_type": "code",
   "execution_count": 205,
   "id": "b4b32748-38da-4e16-a851-d139828d659d",
   "metadata": {
    "tags": []
   },
   "outputs": [
    {
     "data": {
      "text/plain": [
       "array([  2,  10,  57,  69, 100])"
      ]
     },
     "execution_count": 205,
     "metadata": {},
     "output_type": "execute_result"
    }
   ],
   "source": [
    "np.unique([10, 100, 2, 57,57 , 69])"
   ]
  },
  {
   "cell_type": "code",
   "execution_count": 253,
   "id": "e8392bc2-9295-4646-b401-ee44987ae282",
   "metadata": {
    "jupyter": {
     "source_hidden": true
    },
    "tags": []
   },
   "outputs": [
    {
     "name": "stdout",
     "output_type": "stream",
     "text": [
      "Overwriting minigccreate.py\n"
     ]
    }
   ],
   "source": [
    "%%writefile minigccreate.py\n",
    "import numpy as np\n",
    "import pandas as pd\n",
    "import networkx as nx\n",
    "from scipy.sparse.csgraph import connected_components\n",
    "from tqdm.contrib.concurrent import process_map\n",
    "from itertools import repeat\n",
    "from tqdm.auto import tqdm\n",
    "from dgl.data import MiniGCDataset\n",
    "\n",
    "def PPfromrandict(Graph, state):\n",
    "    k = len(Graph)-2\n",
    "    arr = np.arange(int((k+2)*(k+1)/2))\n",
    "    np.random.seed(state)\n",
    "    np.random.shuffle(arr)\n",
    "    dicof = {}\n",
    "    t = 0\n",
    "    for a in range(1, k+2):\n",
    "        for b in range(1, a+1):\n",
    "            dicof[arr[t]] = [a, b]\n",
    "            t += 1\n",
    "    n = max(Graph[i].sum() for i in range(len(Graph)))\n",
    "    V = len(Graph)\n",
    "    PPP = np.poly1d([])\n",
    "    PPQ = np.poly1d([])\n",
    "    Graphi = np.zeros(V*V).reshape(V,V)\n",
    "    left = V\n",
    "    cycles = 0\n",
    "    i = 0\n",
    "    while np.array_equal(Graphi, Graph) == 0: \n",
    "        for a in range(V):\n",
    "            for b in range(V):\n",
    "                macs = max(Graph[a].sum(), Graph[b].sum())\n",
    "                mi = min(Graph[a].sum(), Graph[b].sum())\n",
    "                if dicof[i] == [macs, mi]:\n",
    "                    Graphi[a][b] = Graph[a][b]\n",
    "\n",
    "        comps = connected_components(Graphi)[0]\n",
    "        PPP[i] = left - comps\n",
    "        left = left - (left - comps)\n",
    "        PPQ[i] = Graphi.sum()/2 - V + comps - cycles\n",
    "        cicles = Graphi.sum()/2 - V + comps\n",
    "        i += 1 \n",
    "    PPP[i] = left\n",
    "    PPP = tuple(PPP)\n",
    "    PPQ = list(PPQ)\n",
    "    for i in range(len(PPQ)):\n",
    "        if PPQ[0] == 0:\n",
    "            PPQ = PPQ[1:]\n",
    "    PPQ = tuple(PPQ)\n",
    "    polys = (PPP, PPQ)\n",
    "    return polys, Graph\n",
    "\n",
    "def PPfastprobs(Graph, iters):\n",
    "    G = nx.from_numpy_array(Graph)\n",
    "    L = nx.line_graph(G)\n",
    "    edges = np.array(L.nodes())\n",
    "    B = nx.to_numpy_array(L)\n",
    "    C= B.copy()\n",
    "    #C = C + np.diag(np.ones(len(C)))\n",
    "    for i in range(len(C)):\n",
    "        if C[i].sum() == 0:\n",
    "            C[i][i] = 1\n",
    "        else:\n",
    "            C[i]=C[i]/(C[i].sum())\n",
    "    C=np.transpose(C)\n",
    "    Matprobs=C.copy()\n",
    "    allpolys=[]\n",
    "    for k in range(iters):\n",
    "        times = []\n",
    "        retprobs = np.diag(Matprobs)\n",
    "        for i in range(len(retprobs)):\n",
    "            els = set()\n",
    "            for j in retprobs:\n",
    "                if j < retprobs[i]:\n",
    "                    els.add(j)\n",
    "            times.append(len(els))\n",
    "\n",
    "        n = max(Graph[i].sum() for i in range(len(Graph)))\n",
    "        V = len(Graph)\n",
    "        PPP = np.poly1d([])\n",
    "        PPQ = np.poly1d([])\n",
    "\n",
    "        Graphi = np.zeros(V*V).reshape(V,V)\n",
    "        left = V\n",
    "        cycles = 0\n",
    "        i = 0\n",
    "        get_indexes = lambda x, xs: [i for (y, i) in zip(xs, range(len(xs))) if x == y]\n",
    "        if len(times)>0:\n",
    "            for tau in range(max(times)+1):\n",
    "                i_indexes = get_indexes(i, times)\n",
    "\n",
    "                for edge in i_indexes:\n",
    "\n",
    "                    Graphi[edges[edge][0], edges[edge][1]] = 1\n",
    "                    Graphi[edges[edge][1], edges[edge][0]] = 1\n",
    "\n",
    "                comps = connected_components(Graphi)[0]\n",
    "                PPP[i] = left - comps\n",
    "                left = left - (left - comps)\n",
    "                PPQ[i] = Graphi.sum()/2 - V + comps - cycles\n",
    "                cycles = Graphi.sum()/2 - V + comps\n",
    "                i += 1\n",
    "        PPP[i] = left\n",
    "        PPP = tuple(PPP)\n",
    "        PPQ = list(PPQ)\n",
    "        for i in range(len(PPQ)):\n",
    "            if PPQ[0] == 0:\n",
    "                PPQ = PPQ[1:]\n",
    "        PPQ = tuple(PPQ)\n",
    "        polys = (PPP, PPQ)\n",
    "        allpolys.append(polys)\n",
    "        Matprobs=np.matmul(Matprobs,C)\n",
    "    return tuple(allpolys), Graph\n",
    "\n",
    "def job(i):\n",
    "\n",
    "    polyslist = []\n",
    "    polys, Graph = PPbij(i)\n",
    "    polyslist.append(polys)\n",
    "    \n",
    "    for t in []:\n",
    "        polys, Graph = PPfromrandict(i, t)\n",
    "        polyslist.append(polys)\n",
    "    \n",
    "    polys, Graph = PPfastprobs(i, 65)\n",
    "    polyslist.append(polys)\n",
    "    polyslist = tuple((polyslist))\n",
    "    \n",
    "    # for t in range(2, 100):\n",
    "    #     polys, Graph = PPprobs(i, t)\n",
    "    #     polyslist.append(polys)\n",
    "    \n",
    "    return polyslist, i\n",
    "\n",
    "def treatment(datachunk, seedsfordicts, maxdegforretprobs):\n",
    "    g, label = datachunk\n",
    "    target = int(label)\n",
    "    #g = nx.to_numpy_array(to_networkx(g))\n",
    "    g = g - np.diag(np.diag(g))\n",
    "    features = createfeatures(g, seedsfordicts, maxdegforretprobs)\n",
    "    return target, features\n",
    "    \n",
    "def createfeatures(graph, seedsfordicts, maxdegforretprobs):\n",
    "    polyslist = []\n",
    "    for t in seedsfordicts:\n",
    "        polys, Graph = PPfromrandict(graph, t)\n",
    "        polyslist.append(polys)\n",
    "    \n",
    "    # for t in range(1, maxdegforretprobs):\n",
    "    #     polys, Graph = PPprobs(graph, t)\n",
    "    #     polyslist.append(polys)\n",
    "\n",
    "    polys, Graph = PPfastprobs(graph, maxdegforretprobs-1)\n",
    "\n",
    "    for t in range(len(polys)):\n",
    "        polyslist.append(list(polys)[t])\n",
    "    return polyslist\n",
    "\n",
    "def createMiniGCDataset(numofgraphs, minnumofnodes, maxnumofnodes, seedfordata, seedsfordicts, maxdegforretprobs):\n",
    "    data = MiniGCDataset(numofgraphs, minnumofnodes, maxnumofnodes, save_graph = False, seed=seedfordata, transform=lambda g: g.adj(scipy_fmt='coo').toarray())\n",
    "\n",
    "\n",
    "    dataset = process_map(treatment, data, repeat(seedsfordicts), repeat(maxdegforretprobs), chunksize = 7 , max_workers=1)\n",
    "    targets, allfeatures = zip(*dataset)\n",
    "\n",
    "\n",
    "    dfs = []\n",
    "    for i, poly in enumerate(zip(*allfeatures)):\n",
    "        x, y = zip(*poly)\n",
    "        dfs.append(pd.DataFrame(map(reversed, x)).add_prefix(f'poly_{i}/x^'))\n",
    "        dfs.append(pd.DataFrame(map(reversed, y)).add_prefix(f'poly_{i}/y^'))\n",
    "    return pd.concat(dfs, axis=1).fillna(0), targets\n",
    "if __name__ == '__main__':\n",
    "    X, y = createMiniGCDataset(2000, 6, 200, 57, [], 6)\n",
    "    X['target'] = y\n",
    "    X.to_pickle('X.pkl')\n",
    "    "
   ]
  },
  {
   "cell_type": "code",
   "execution_count": 7,
   "id": "c3890e2b-6396-4595-b0ac-d6ee55c5cd6b",
   "metadata": {
    "tags": []
   },
   "outputs": [],
   "source": [
    "\n",
    "\n",
    "def treatment(datachunk, seedsfordicts, maxdegforretprobs):\n",
    "    g, label = datachunk\n",
    "    target = int(label)\n",
    "    #g = nx.to_numpy_array(to_networkx(g))\n",
    "    g = g - np.diag(np.diag(g))\n",
    "    features = createfeatures(g, seedsfordicts, maxdegforretprobs)\n",
    "    return target, features\n",
    "    \n",
    "def createfeatures(graph, seedsfordicts, maxdegforretprobs):\n",
    "    polyslist = []\n",
    "\n",
    "    for t in seedsfordicts:\n",
    "        polys, Graph = PPfromrandict(graph, t)\n",
    "        polyslist.append(polys)\n",
    "\n",
    "        \n",
    "    degs = []\n",
    "    counts = np.unique(sum(graph), return_counts=True)\n",
    "    coord = 0\n",
    "    for t in range(len(graph)):\n",
    "        if len(counts[0]) > coord:\n",
    "            if counts[0][coord]==t:\n",
    "                degs.append(counts[1][coord])\n",
    "                coord += 1\n",
    "            else:\n",
    "                degs.append(0)\n",
    "        else: \n",
    "            degs.append(0)\n",
    "    degpoly = tuple((tuple(degs), tuple()))\n",
    "    polyslist.append(degpoly)  \n",
    "    # polys, Graph = PPbij(graph)\n",
    "    # polyslist.append(polys)\n",
    "    # for t in range(1, maxdegforretprobs):\n",
    "    #     polys, Graph = PPprobs(graph, t)\n",
    "    #     polyslist.append(polys)\n",
    "\n",
    "    polys, Graph = PPfastprobs(graph, maxdegforretprobs-1)\n",
    "\n",
    "    for t in range(len(polys)):\n",
    "        polyslist.append(list(polys)[t])\n",
    "    return polyslist\n",
    "\n",
    "def createMiniGCDataset(numofgraphs, minnumofnodes, maxnumofnodes, seedfordata, seedsfordicts, maxdegforretprobs):\n",
    "    data = MiniGCDataset(numofgraphs, minnumofnodes, maxnumofnodes, save_graph = False, seed=seedfordata, transform=lambda g: g.adj(scipy_fmt='coo').toarray())\n",
    "\n",
    "\n",
    "    dataset = process_map(treatment, data, repeat(seedsfordicts), repeat(maxdegforretprobs), chunksize = int(numofgraphs/100)+1, max_workers=5)\n",
    "    targets, allfeatures = zip(*dataset)\n",
    "\n",
    "\n",
    "    dfs = []\n",
    "    for i, poly in enumerate(zip(*allfeatures)):\n",
    "        x, y = zip(*poly)\n",
    "        dfs.append(pd.DataFrame(map(reversed, x)).add_prefix(f'poly_{i}/x^'))\n",
    "        dfs.append(pd.DataFrame(map(reversed, y)).add_prefix(f'poly_{i}/y^'))\n",
    "    return pd.concat(dfs, axis=1).fillna(0), targets\n",
    "\n",
    "        \n",
    "        \n",
    "    "
   ]
  },
  {
   "cell_type": "raw",
   "id": "267125f7-e4b4-4022-9d50-717e9a756236",
   "metadata": {},
   "source": [
    "acc = 73.86708860759494 +- 2.707936373687845 - createMiniGCDataset(1000, 6, 100, 57, [], 2), shape=(526, 3)\n",
    "acc = 94.73456790123451 +- 1.661984736157968 - createMiniGCDataset(1000, 6, 100, 57, [], 3), shape=(538, 42)\n",
    "acc = 96.93209876543209 +- 1.0988868014532571 - createMiniGCDataset(1000, 6, 100, 57, [], 4), shape=(538, 75)\n",
    "acc = 97.73456790123457 +- 1.094021524965966 - createMiniGCDataset(1000, 6, 100, 57, [], 5), shape=(539, 210)\n",
    "acc = 97.46296296296295 +- 1.1902380714238086 - createMiniGCDataset(1000, 6, 100, 57, [], 6), (539, 309)\n",
    "acc = 97.56172839506169 +- 1.122625523424272 - createMiniGCDataset(1000, 6, 100, 57, [], 7), (539, 474)\n",
    "acc = 97.64814814814811 +- 1.0716412066457361 - createMiniGCDataset(1000, 6, 100, 57, [], 8), (539, 637)"
   ]
  },
  {
   "cell_type": "code",
   "execution_count": 12,
   "id": "67b9d43a-2772-412b-b34a-44cbc0a184f9",
   "metadata": {
    "tags": []
   },
   "outputs": [
    {
     "data": {
      "application/vnd.jupyter.widget-view+json": {
       "model_id": "9cac55a238e04256a675891f95892f16",
       "version_major": 2,
       "version_minor": 0
      },
      "text/plain": [
       "  0%|          | 0/1000 [00:00<?, ?it/s]"
      ]
     },
     "metadata": {},
     "output_type": "display_data"
    }
   ],
   "source": [
    " X, y = createMiniGCDataset(1000, 6, 65, 57, [], 3)"
   ]
  },
  {
   "cell_type": "code",
   "execution_count": 13,
   "id": "5fd1ddd1-0377-4c1c-a1f3-1d4d2f04c652",
   "metadata": {
    "tags": []
   },
   "outputs": [],
   "source": [
    "X['target'] = y"
   ]
  },
  {
   "cell_type": "code",
   "execution_count": 303,
   "id": "96f02ea8-1d46-49cb-8aa3-415de5bb8b18",
   "metadata": {
    "tags": []
   },
   "outputs": [],
   "source": [
    "X.drop_duplicates(inplace=True)"
   ]
  },
  {
   "cell_type": "code",
   "execution_count": 24,
   "id": "03e34dca-c25c-4cdf-9a1f-cbd5a6b38d98",
   "metadata": {
    "tags": []
   },
   "outputs": [],
   "source": [
    "y = X.target\n",
    "X = X.drop(columns = ['target'])"
   ]
  },
  {
   "cell_type": "code",
   "execution_count": 25,
   "id": "7a99c83f-a89f-4e42-80ad-efad0d925ab1",
   "metadata": {
    "tags": []
   },
   "outputs": [
    {
     "data": {
      "text/plain": [
       "(1000, 106)"
      ]
     },
     "execution_count": 25,
     "metadata": {},
     "output_type": "execute_result"
    }
   ],
   "source": [
    "X.shape"
   ]
  },
  {
   "cell_type": "code",
   "execution_count": 15,
   "id": "735b7fc6-9407-4772-a141-9f0375adc70c",
   "metadata": {
    "tags": []
   },
   "outputs": [],
   "source": [
    "X_train, X_test, y_train, y_test = train_test_split(X, y, test_size=0.3, random_state=0x575757, stratify=y)"
   ]
  },
  {
   "cell_type": "code",
   "execution_count": 26,
   "id": "8e93c83b-eed4-4224-bebf-cefcd695a68d",
   "metadata": {
    "tags": []
   },
   "outputs": [
    {
     "name": "stdout",
     "output_type": "stream",
     "text": [
      "99.36666666666667 +- 0.40688518719112543\n",
      "CPU times: user 10.2 s, sys: 11.6 ms, total: 10.3 s\n",
      "Wall time: 10.3 s\n"
     ]
    }
   ],
   "source": [
    "%%time\n",
    "gradboost = GradientBoostingClassifier()\n",
    "meanacc=[]\n",
    "for i in range(10):\n",
    "    X_train, X_test, y_train, y_test = train_test_split(X, y, test_size=0.3, stratify=y)\n",
    "    gradboost.fit(X_train, y_train)\n",
    "    #print(accuracy_score(y_test, gradboost.predict(X_test)), accuracy_score(y_train, gradboost.predict(X_train)))\n",
    "    meanacc.append(accuracy_score(y_test, gradboost.predict(X_test)))\n",
    "print(sum(meanacc) / len(meanacc)*100, '+-', np.std(meanacc)*100)"
   ]
  },
  {
   "cell_type": "code",
   "execution_count": 30,
   "id": "a918d3d3-aec5-4f70-aa5c-2d5bb3d723c9",
   "metadata": {
    "tags": []
   },
   "outputs": [],
   "source": [
    "importances = {}\n",
    "num = 0\n",
    "for i in X.columns:\n",
    "\n",
    "    importances[i] = gradboost.feature_importances_[num]\n",
    "    num+=1\n"
   ]
  },
  {
   "cell_type": "code",
   "execution_count": 31,
   "id": "a0b8e10f-ac49-422b-a1da-5e091bc90059",
   "metadata": {
    "tags": []
   },
   "outputs": [],
   "source": [
    "thresh= 0.015\n",
    "valuable= {}\n",
    "for i in importances:\n",
    "    if importances[i]>thresh:\n",
    "        valuable[i]=importances[i]"
   ]
  },
  {
   "cell_type": "code",
   "execution_count": 32,
   "id": "92e73fb2-e943-4ec9-a650-eaa995531236",
   "metadata": {
    "tags": []
   },
   "outputs": [
    {
     "data": {
      "image/png": "[encoded data removed]",
      "text/plain": [
       "<Figure size 640x480 with 1 Axes>"
      ]
     },
     "metadata": {},
     "output_type": "display_data"
    }
   ],
   "source": [
    "names = list(valuable.keys())\n",
    "values = list(valuable.values())\n",
    "fig, ax = plt.subplots()\n",
    "plt.bar(range(len(valuable)), values, tick_label=names)\n",
    "plt.setp( ax.xaxis.get_majorticklabels(), rotation=45, ha=\"right\" )\n",
    "plt.gcf().subplots_adjust(bottom=0.15)\n",
    "plt.show()\n"
   ]
  },
  {
   "cell_type": "code",
   "execution_count": 33,
   "id": "8a834429-05d1-4d53-8347-f0ad7947c771",
   "metadata": {
    "tags": []
   },
   "outputs": [
    {
     "name": "stdout",
     "output_type": "stream",
     "text": [
      "GradientBoostingClassifier(learning_rate=0.10999999999999999, max_depth=2,\n",
      "                           n_estimators=113)\n",
      "0.99 0.9985714285714286\n",
      "CPU times: user 4.89 s, sys: 864 ms, total: 5.75 s\n",
      "Wall time: 2min 26s\n"
     ]
    }
   ],
   "source": [
    "%%time\n",
    "gsboost = GridSearchCV(gradboost, param_grid={'n_estimators': np.arange(100, 145, 1), 'max_depth': [1, 2, 3], 'learning_rate': np.arange(0.09, 0.12, 0.01)}, scoring='accuracy', cv=KFold(n_splits=7, shuffle=True, random_state=0x575757), n_jobs=-1)\n",
    "gsboost.fit(X_train, y_train)\n",
    "print(gsboost.best_estimator_)\n",
    "print(accuracy_score(y_test, gsboost.best_estimator_.predict(X_test)), accuracy_score(y_train, gsboost.best_estimator_.predict(X_train)))"
   ]
  },
  {
   "cell_type": "code",
   "execution_count": 35,
   "id": "dabf8636-b025-415a-ae7a-fe5ccccf9ed8",
   "metadata": {
    "tags": []
   },
   "outputs": [
    {
     "data": {
      "text/plain": [
       "0.99"
      ]
     },
     "execution_count": 35,
     "metadata": {},
     "output_type": "execute_result"
    }
   ],
   "source": [
    "accuracy_score(y_test, gsboost.best_estimator_.predict(X_test))"
   ]
  },
  {
   "cell_type": "code",
   "execution_count": 35,
   "id": "71e5daf0-4b8f-414e-abed-7e2455219117",
   "metadata": {
    "tags": []
   },
   "outputs": [
    {
     "name": "stdout",
     "output_type": "stream",
     "text": [
      "0.937984496124031 0.9833518312985572\n"
     ]
    }
   ],
   "source": [
    "lregpipe = Pipeline([('Poly', PolynomialFeatures()), ('scaler', StandardScaler()), ('model', LogisticRegression(multi_class = 'ovr', max_iter = 10000))])\n",
    "lregpipe.fit(X_train, y_train)\n",
    "print(accuracy_score(y_test, lregpipe.predict(X_test)), accuracy_score(y_train, lregpipe.predict(X_train)))"
   ]
  },
  {
   "cell_type": "code",
   "execution_count": 66,
   "id": "48c59d31-5809-4fd4-9071-939ae4e17473",
   "metadata": {
    "tags": []
   },
   "outputs": [
    {
     "name": "stdout",
     "output_type": "stream",
     "text": [
      "Best model: Pipeline(steps=[('Poly', PolynomialFeatures()), ('scaler', StandardScaler()),\n",
      "                ('model',\n",
      "                 LogisticRegression(C=13, max_iter=10000, multi_class='ovr'))])\n",
      "Best score: 0.8626179245283019\n"
     ]
    }
   ],
   "source": [
    "print('Best model:', gslreg.best_estimator_)\n",
    "print('Best score:', gslreg.best_score_)"
   ]
  },
  {
   "cell_type": "code",
   "execution_count": 65,
   "id": "1b0b2239-9fb4-4a2e-ad5a-4a4db27ae3f4",
   "metadata": {
    "tags": []
   },
   "outputs": [
    {
     "name": "stdout",
     "output_type": "stream",
     "text": [
      "CPU times: user 57.1 s, sys: 2min 12s, total: 3min 10s\n",
      "Wall time: 1min 5s\n"
     ]
    },
    {
     "data": {
      "text/html": [
       "<style>#sk-container-id-8 {color: black;background-color: white;}#sk-container-id-8 pre{padding: 0;}#sk-container-id-8 div.sk-toggleable {background-color: white;}#sk-container-id-8 label.sk-toggleable__label {cursor: pointer;display: block;width: 100%;margin-bottom: 0;padding: 0.3em;box-sizing: border-box;text-align: center;}#sk-container-id-8 label.sk-toggleable__label-arrow:before {content: \"▸\";float: left;margin-right: 0.25em;color: #696969;}#sk-container-id-8 label.sk-toggleable__label-arrow:hover:before {color: black;}#sk-container-id-8 div.sk-estimator:hover label.sk-toggleable__label-arrow:before {color: black;}#sk-container-id-8 div.sk-toggleable__content {max-height: 0;max-width: 0;overflow: hidden;text-align: left;background-color: #f0f8ff;}#sk-container-id-8 div.sk-toggleable__content pre {margin: 0.2em;color: black;border-radius: 0.25em;background-color: #f0f8ff;}#sk-container-id-8 input.sk-toggleable__control:checked~div.sk-toggleable__content {max-height: 200px;max-width: 100%;overflow: auto;}#sk-container-id-8 input.sk-toggleable__control:checked~label.sk-toggleable__label-arrow:before {content: \"▾\";}#sk-container-id-8 div.sk-estimator input.sk-toggleable__control:checked~label.sk-toggleable__label {background-color: #d4ebff;}#sk-container-id-8 div.sk-label input.sk-toggleable__control:checked~label.sk-toggleable__label {background-color: #d4ebff;}#sk-container-id-8 input.sk-hidden--visually {border: 0;clip: rect(1px 1px 1px 1px);clip: rect(1px, 1px, 1px, 1px);height: 1px;margin: -1px;overflow: hidden;padding: 0;position: absolute;width: 1px;}#sk-container-id-8 div.sk-estimator {font-family: monospace;background-color: #f0f8ff;border: 1px dotted black;border-radius: 0.25em;box-sizing: border-box;margin-bottom: 0.5em;}#sk-container-id-8 div.sk-estimator:hover {background-color: #d4ebff;}#sk-container-id-8 div.sk-parallel-item::after {content: \"\";width: 100%;border-bottom: 1px solid gray;flex-grow: 1;}#sk-container-id-8 div.sk-label:hover label.sk-toggleable__label {background-color: #d4ebff;}#sk-container-id-8 div.sk-serial::before {content: \"\";position: absolute;border-left: 1px solid gray;box-sizing: border-box;top: 0;bottom: 0;left: 50%;z-index: 0;}#sk-container-id-8 div.sk-serial {display: flex;flex-direction: column;align-items: center;background-color: white;padding-right: 0.2em;padding-left: 0.2em;position: relative;}#sk-container-id-8 div.sk-item {position: relative;z-index: 1;}#sk-container-id-8 div.sk-parallel {display: flex;align-items: stretch;justify-content: center;background-color: white;position: relative;}#sk-container-id-8 div.sk-item::before, #sk-container-id-8 div.sk-parallel-item::before {content: \"\";position: absolute;border-left: 1px solid gray;box-sizing: border-box;top: 0;bottom: 0;left: 50%;z-index: -1;}#sk-container-id-8 div.sk-parallel-item {display: flex;flex-direction: column;z-index: 1;position: relative;background-color: white;}#sk-container-id-8 div.sk-parallel-item:first-child::after {align-self: flex-end;width: 50%;}#sk-container-id-8 div.sk-parallel-item:last-child::after {align-self: flex-start;width: 50%;}#sk-container-id-8 div.sk-parallel-item:only-child::after {width: 0;}#sk-container-id-8 div.sk-dashed-wrapped {border: 1px dashed gray;margin: 0 0.4em 0.5em 0.4em;box-sizing: border-box;padding-bottom: 0.4em;background-color: white;}#sk-container-id-8 div.sk-label label {font-family: monospace;font-weight: bold;display: inline-block;line-height: 1.2em;}#sk-container-id-8 div.sk-label-container {text-align: center;}#sk-container-id-8 div.sk-container {/* jupyter's `normalize.less` sets `[hidden] { display: none; }` but bootstrap.min.css set `[hidden] { display: none !important; }` so we also need the `!important` here to be able to override the default hidden behavior on the sphinx rendered scikit-learn.org. See: https://github.com/scikit-learn/scikit-learn/issues/21755 */display: inline-block !important;position: relative;}#sk-container-id-8 div.sk-text-repr-fallback {display: none;}</style><div id=\"sk-container-id-8\" class=\"sk-top-container\"><div class=\"sk-text-repr-fallback\"><pre>GridSearchCV(cv=KFold(n_splits=8, random_state=5723991, shuffle=True),\n",
       "             estimator=Pipeline(steps=[(&#x27;Poly&#x27;, PolynomialFeatures()),\n",
       "                                       (&#x27;scaler&#x27;, StandardScaler()),\n",
       "                                       (&#x27;model&#x27;,\n",
       "                                        LogisticRegression(max_iter=10000,\n",
       "                                                           multi_class=&#x27;ovr&#x27;))]),\n",
       "             n_jobs=-1,\n",
       "             param_grid={&#x27;Poly__degree&#x27;: array([1, 2]),\n",
       "                         &#x27;model__C&#x27;: array([ 1,  2,  3,  4,  5,  6,  7,  8,  9, 10, 11, 12, 13, 14, 15, 16, 17,\n",
       "       18, 19])},\n",
       "             scoring=&#x27;accuracy&#x27;)</pre><b>In a Jupyter environment, please rerun this cell to show the HTML representation or trust the notebook. <br />On GitHub, the HTML representation is unable to render, please try loading this page with nbviewer.org.</b></div><div class=\"sk-container\" hidden><div class=\"sk-item sk-dashed-wrapped\"><div class=\"sk-label-container\"><div class=\"sk-label sk-toggleable\"><input class=\"sk-toggleable__control sk-hidden--visually\" id=\"sk-estimator-id-32\" type=\"checkbox\" ><label for=\"sk-estimator-id-32\" class=\"sk-toggleable__label sk-toggleable__label-arrow\">GridSearchCV</label><div class=\"sk-toggleable__content\"><pre>GridSearchCV(cv=KFold(n_splits=8, random_state=5723991, shuffle=True),\n",
       "             estimator=Pipeline(steps=[(&#x27;Poly&#x27;, PolynomialFeatures()),\n",
       "                                       (&#x27;scaler&#x27;, StandardScaler()),\n",
       "                                       (&#x27;model&#x27;,\n",
       "                                        LogisticRegression(max_iter=10000,\n",
       "                                                           multi_class=&#x27;ovr&#x27;))]),\n",
       "             n_jobs=-1,\n",
       "             param_grid={&#x27;Poly__degree&#x27;: array([1, 2]),\n",
       "                         &#x27;model__C&#x27;: array([ 1,  2,  3,  4,  5,  6,  7,  8,  9, 10, 11, 12, 13, 14, 15, 16, 17,\n",
       "       18, 19])},\n",
       "             scoring=&#x27;accuracy&#x27;)</pre></div></div></div><div class=\"sk-parallel\"><div class=\"sk-parallel-item\"><div class=\"sk-item\"><div class=\"sk-label-container\"><div class=\"sk-label sk-toggleable\"><input class=\"sk-toggleable__control sk-hidden--visually\" id=\"sk-estimator-id-33\" type=\"checkbox\" ><label for=\"sk-estimator-id-33\" class=\"sk-toggleable__label sk-toggleable__label-arrow\">estimator: Pipeline</label><div class=\"sk-toggleable__content\"><pre>Pipeline(steps=[(&#x27;Poly&#x27;, PolynomialFeatures()), (&#x27;scaler&#x27;, StandardScaler()),\n",
       "                (&#x27;model&#x27;,\n",
       "                 LogisticRegression(max_iter=10000, multi_class=&#x27;ovr&#x27;))])</pre></div></div></div><div class=\"sk-serial\"><div class=\"sk-item\"><div class=\"sk-serial\"><div class=\"sk-item\"><div class=\"sk-estimator sk-toggleable\"><input class=\"sk-toggleable__control sk-hidden--visually\" id=\"sk-estimator-id-34\" type=\"checkbox\" ><label for=\"sk-estimator-id-34\" class=\"sk-toggleable__label sk-toggleable__label-arrow\">PolynomialFeatures</label><div class=\"sk-toggleable__content\"><pre>PolynomialFeatures()</pre></div></div></div><div class=\"sk-item\"><div class=\"sk-estimator sk-toggleable\"><input class=\"sk-toggleable__control sk-hidden--visually\" id=\"sk-estimator-id-35\" type=\"checkbox\" ><label for=\"sk-estimator-id-35\" class=\"sk-toggleable__label sk-toggleable__label-arrow\">StandardScaler</label><div class=\"sk-toggleable__content\"><pre>StandardScaler()</pre></div></div></div><div class=\"sk-item\"><div class=\"sk-estimator sk-toggleable\"><input class=\"sk-toggleable__control sk-hidden--visually\" id=\"sk-estimator-id-36\" type=\"checkbox\" ><label for=\"sk-estimator-id-36\" class=\"sk-toggleable__label sk-toggleable__label-arrow\">LogisticRegression</label><div class=\"sk-toggleable__content\"><pre>LogisticRegression(max_iter=10000, multi_class=&#x27;ovr&#x27;)</pre></div></div></div></div></div></div></div></div></div></div></div></div>"
      ],
      "text/plain": [
       "GridSearchCV(cv=KFold(n_splits=8, random_state=5723991, shuffle=True),\n",
       "             estimator=Pipeline(steps=[('Poly', PolynomialFeatures()),\n",
       "                                       ('scaler', StandardScaler()),\n",
       "                                       ('model',\n",
       "                                        LogisticRegression(max_iter=10000,\n",
       "                                                           multi_class='ovr'))]),\n",
       "             n_jobs=-1,\n",
       "             param_grid={'Poly__degree': array([1, 2]),\n",
       "                         'model__C': array([ 1,  2,  3,  4,  5,  6,  7,  8,  9, 10, 11, 12, 13, 14, 15, 16, 17,\n",
       "       18, 19])},\n",
       "             scoring='accuracy')"
      ]
     },
     "execution_count": 65,
     "metadata": {},
     "output_type": "execute_result"
    }
   ],
   "source": [
    "%%time\n",
    "lregpipe = Pipeline([('Poly', PolynomialFeatures()), ('scaler', StandardScaler()), ('model', LogisticRegression(multi_class = 'ovr', max_iter = 10000))])\n",
    "gslreg = GridSearchCV(lregpipe, param_grid={'Poly__degree': np.arange(1, 3, 1), 'model__C': np.arange(1, 20, 1)}, scoring='accuracy', cv=KFold(n_splits=8, shuffle=True, random_state=0x575757), n_jobs=-1)\n",
    "gslreg.fit(X_train, y_train)"
   ]
  },
  {
   "cell_type": "code",
   "execution_count": 67,
   "id": "c1fbcaf0-46b5-4101-bc87-cbf5fe273e40",
   "metadata": {
    "tags": []
   },
   "outputs": [
    {
     "name": "stdout",
     "output_type": "stream",
     "text": [
      "test score: 0.8791208791208791 train score: 0.9360189573459715\n"
     ]
    }
   ],
   "source": [
    "print('test score:', gslreg.best_estimator_.score(X_test, y_test), 'train score:', gslreg.best_estimator_.score(X_train, y_train))"
   ]
  },
  {
   "cell_type": "code",
   "execution_count": 36,
   "id": "53b49bb8-b69b-477a-98d6-0c7df75fe102",
   "metadata": {
    "tags": []
   },
   "outputs": [],
   "source": [
    "def treatment(datachunk, seedsfordicts, maxdegforretprobs):\n",
    "    g, label = datachunk\n",
    "    target = int(label)\n",
    "    #g = nx.to_numpy_array(to_networkx(g))\n",
    "    g = g - np.diag(np.diag(g))\n",
    "    features = createfeatures(g, seedsfordicts, maxdegforretprobs)\n",
    "    return target, features\n",
    "    \n",
    "\n",
    "def createfeatures(graph, seedsfordicts, maxdegforretprobs):\n",
    "    polyslist = []\n",
    "    # for t in seedsfordicts:\n",
    "    #     polys, Graph = PPfromrandict(graph, t)\n",
    "    #     polyslist.append(polys)\n",
    "    \n",
    "    # polys, Graph = PPbij(graph)\n",
    "    # polyslist.append(polys)\n",
    "    # for t in range(1, maxdegforretprobs):\n",
    "    #     polys, Graph = PPprobs(graph, t)\n",
    "    #     polyslist.append(polys)\n",
    "    \n",
    "    # degs = []\n",
    "    # counts = np.unique(sum(graph), return_counts=True)\n",
    "    # coord = 0\n",
    "    # for t in range(len(graph)):\n",
    "    #     if len(counts[0]) > coord:\n",
    "    #         if counts[0][coord]==t:\n",
    "    #             degs.append(counts[1][coord])\n",
    "    #             coord += 1\n",
    "    #         else:\n",
    "    #             degs.append(0)\n",
    "    #     else: \n",
    "    #         degs.append(0)\n",
    "    # degpoly = tuple((tuple(degs), tuple()))\n",
    "    # polyslist.append(degpoly)  \n",
    "    \n",
    "\n",
    "    polys, Graph = PPfastprobs(graph, maxdegforretprobs)\n",
    "\n",
    "    for t in range(len(polys)):\n",
    "        polyslist.append(list(polys)[t])\n",
    "    return polyslist\n",
    "\n",
    "def createTUDataset(name, seedsfordicts, maxdegforretprobs):\n",
    "    data = TUDataset(name, transform=lambda g: g.adj(scipy_fmt='coo').toarray())\n",
    "\n",
    "\n",
    "\n",
    "    dataset = process_map(treatment, data, repeat(seedsfordicts), repeat(maxdegforretprobs), chunksize = min(int(len(data)/50), 100))\n",
    "    targets, allfeatures = zip(*dataset)\n",
    "\n",
    "\n",
    "    dfs = []\n",
    "    for i, poly in enumerate(zip(*allfeatures)):\n",
    "        x, y = zip(*poly)\n",
    "        dfs.append(pd.DataFrame(map(reversed, x)).add_prefix(f'poly_{i}/x^'))\n",
    "        dfs.append(pd.DataFrame(map(reversed, y)).add_prefix(f'poly_{i}/y^'))\n",
    "    return pd.concat(dfs, axis=1).fillna(0), targets\n"
   ]
  },
  {
   "cell_type": "code",
   "execution_count": 10,
   "id": "ee4b30c5-e95a-4410-a669-96d4dd7cfc41",
   "metadata": {
    "collapsed": true,
    "jupyter": {
     "outputs_hidden": true
    },
    "tags": []
   },
   "outputs": [
    {
     "ename": "KeyboardInterrupt",
     "evalue": "",
     "output_type": "error",
     "traceback": [
      "\u001b[0;31m---------------------------------------------------------------------------\u001b[0m",
      "\u001b[0;31mKeyboardInterrupt\u001b[0m                         Traceback (most recent call last)",
      "Cell \u001b[0;32mIn[10], line 1\u001b[0m\n\u001b[0;32m----> 1\u001b[0m data \u001b[38;5;241m=\u001b[39m \u001b[43mTUDataset\u001b[49m\u001b[43m(\u001b[49m\u001b[38;5;124;43m'\u001b[39;49m\u001b[38;5;124;43mreddit_threads\u001b[39;49m\u001b[38;5;124;43m'\u001b[39;49m\u001b[43m)\u001b[49m\n",
      "File \u001b[0;32m~/.local/lib/python3.11/site-packages/dgl/data/tu.py:327\u001b[0m, in \u001b[0;36mTUDataset.__init__\u001b[0;34m(self, name, raw_dir, force_reload, verbose, transform)\u001b[0m\n\u001b[1;32m    325\u001b[0m \u001b[38;5;28;01mdef\u001b[39;00m \u001b[38;5;21m__init__\u001b[39m(\u001b[38;5;28mself\u001b[39m, name, raw_dir\u001b[38;5;241m=\u001b[39m\u001b[38;5;28;01mNone\u001b[39;00m, force_reload\u001b[38;5;241m=\u001b[39m\u001b[38;5;28;01mFalse\u001b[39;00m, verbose\u001b[38;5;241m=\u001b[39m\u001b[38;5;28;01mFalse\u001b[39;00m, transform\u001b[38;5;241m=\u001b[39m\u001b[38;5;28;01mNone\u001b[39;00m):\n\u001b[1;32m    326\u001b[0m     url \u001b[38;5;241m=\u001b[39m \u001b[38;5;28mself\u001b[39m\u001b[38;5;241m.\u001b[39m_url\u001b[38;5;241m.\u001b[39mformat(name)\n\u001b[0;32m--> 327\u001b[0m     \u001b[38;5;28;43msuper\u001b[39;49m\u001b[43m(\u001b[49m\u001b[43mTUDataset\u001b[49m\u001b[43m,\u001b[49m\u001b[43m \u001b[49m\u001b[38;5;28;43mself\u001b[39;49m\u001b[43m)\u001b[49m\u001b[38;5;241;43m.\u001b[39;49m\u001b[38;5;21;43m__init__\u001b[39;49m\u001b[43m(\u001b[49m\u001b[43mname\u001b[49m\u001b[38;5;241;43m=\u001b[39;49m\u001b[43mname\u001b[49m\u001b[43m,\u001b[49m\u001b[43m \u001b[49m\u001b[43murl\u001b[49m\u001b[38;5;241;43m=\u001b[39;49m\u001b[43murl\u001b[49m\u001b[43m,\u001b[49m\n\u001b[1;32m    328\u001b[0m \u001b[43m                                    \u001b[49m\u001b[43mraw_dir\u001b[49m\u001b[38;5;241;43m=\u001b[39;49m\u001b[43mraw_dir\u001b[49m\u001b[43m,\u001b[49m\u001b[43m \u001b[49m\u001b[43mforce_reload\u001b[49m\u001b[38;5;241;43m=\u001b[39;49m\u001b[43mforce_reload\u001b[49m\u001b[43m,\u001b[49m\n\u001b[1;32m    329\u001b[0m \u001b[43m                                    \u001b[49m\u001b[43mverbose\u001b[49m\u001b[38;5;241;43m=\u001b[39;49m\u001b[43mverbose\u001b[49m\u001b[43m,\u001b[49m\u001b[43m \u001b[49m\u001b[43mtransform\u001b[49m\u001b[38;5;241;43m=\u001b[39;49m\u001b[43mtransform\u001b[49m\u001b[43m)\u001b[49m\n",
      "File \u001b[0;32m~/.local/lib/python3.11/site-packages/dgl/data/dgl_dataset.py:321\u001b[0m, in \u001b[0;36mDGLBuiltinDataset.__init__\u001b[0;34m(self, name, url, raw_dir, hash_key, force_reload, verbose, transform)\u001b[0m\n\u001b[1;32m    311\u001b[0m \u001b[38;5;28;01mdef\u001b[39;00m \u001b[38;5;21m__init__\u001b[39m(\n\u001b[1;32m    312\u001b[0m     \u001b[38;5;28mself\u001b[39m,\n\u001b[1;32m    313\u001b[0m     name,\n\u001b[0;32m   (...)\u001b[0m\n\u001b[1;32m    319\u001b[0m     transform\u001b[38;5;241m=\u001b[39m\u001b[38;5;28;01mNone\u001b[39;00m,\n\u001b[1;32m    320\u001b[0m ):\n\u001b[0;32m--> 321\u001b[0m     \u001b[38;5;28;43msuper\u001b[39;49m\u001b[43m(\u001b[49m\u001b[43mDGLBuiltinDataset\u001b[49m\u001b[43m,\u001b[49m\u001b[43m \u001b[49m\u001b[38;5;28;43mself\u001b[39;49m\u001b[43m)\u001b[49m\u001b[38;5;241;43m.\u001b[39;49m\u001b[38;5;21;43m__init__\u001b[39;49m\u001b[43m(\u001b[49m\n\u001b[1;32m    322\u001b[0m \u001b[43m        \u001b[49m\u001b[43mname\u001b[49m\u001b[43m,\u001b[49m\n\u001b[1;32m    323\u001b[0m \u001b[43m        \u001b[49m\u001b[43murl\u001b[49m\u001b[38;5;241;43m=\u001b[39;49m\u001b[43murl\u001b[49m\u001b[43m,\u001b[49m\n\u001b[1;32m    324\u001b[0m \u001b[43m        \u001b[49m\u001b[43mraw_dir\u001b[49m\u001b[38;5;241;43m=\u001b[39;49m\u001b[43mraw_dir\u001b[49m\u001b[43m,\u001b[49m\n\u001b[1;32m    325\u001b[0m \u001b[43m        \u001b[49m\u001b[43msave_dir\u001b[49m\u001b[38;5;241;43m=\u001b[39;49m\u001b[38;5;28;43;01mNone\u001b[39;49;00m\u001b[43m,\u001b[49m\n\u001b[1;32m    326\u001b[0m \u001b[43m        \u001b[49m\u001b[43mhash_key\u001b[49m\u001b[38;5;241;43m=\u001b[39;49m\u001b[43mhash_key\u001b[49m\u001b[43m,\u001b[49m\n\u001b[1;32m    327\u001b[0m \u001b[43m        \u001b[49m\u001b[43mforce_reload\u001b[49m\u001b[38;5;241;43m=\u001b[39;49m\u001b[43mforce_reload\u001b[49m\u001b[43m,\u001b[49m\n\u001b[1;32m    328\u001b[0m \u001b[43m        \u001b[49m\u001b[43mverbose\u001b[49m\u001b[38;5;241;43m=\u001b[39;49m\u001b[43mverbose\u001b[49m\u001b[43m,\u001b[49m\n\u001b[1;32m    329\u001b[0m \u001b[43m        \u001b[49m\u001b[43mtransform\u001b[49m\u001b[38;5;241;43m=\u001b[39;49m\u001b[43mtransform\u001b[49m\u001b[43m,\u001b[49m\n\u001b[1;32m    330\u001b[0m \u001b[43m    \u001b[49m\u001b[43m)\u001b[49m\n",
      "File \u001b[0;32m~/.local/lib/python3.11/site-packages/dgl/data/dgl_dataset.py:113\u001b[0m, in \u001b[0;36mDGLDataset.__init__\u001b[0;34m(self, name, url, raw_dir, save_dir, hash_key, force_reload, verbose, transform)\u001b[0m\n\u001b[1;32m    110\u001b[0m \u001b[38;5;28;01melse\u001b[39;00m:\n\u001b[1;32m    111\u001b[0m     \u001b[38;5;28mself\u001b[39m\u001b[38;5;241m.\u001b[39m_save_dir \u001b[38;5;241m=\u001b[39m save_dir\n\u001b[0;32m--> 113\u001b[0m \u001b[38;5;28;43mself\u001b[39;49m\u001b[38;5;241;43m.\u001b[39;49m\u001b[43m_load\u001b[49m\u001b[43m(\u001b[49m\u001b[43m)\u001b[49m\n",
      "File \u001b[0;32m~/.local/lib/python3.11/site-packages/dgl/data/dgl_dataset.py:204\u001b[0m, in \u001b[0;36mDGLDataset._load\u001b[0;34m(self)\u001b[0m\n\u001b[1;32m    202\u001b[0m \u001b[38;5;28;01mif\u001b[39;00m \u001b[38;5;129;01mnot\u001b[39;00m load_flag:\n\u001b[1;32m    203\u001b[0m     \u001b[38;5;28mself\u001b[39m\u001b[38;5;241m.\u001b[39m_download()\n\u001b[0;32m--> 204\u001b[0m     \u001b[38;5;28;43mself\u001b[39;49m\u001b[38;5;241;43m.\u001b[39;49m\u001b[43mprocess\u001b[49m\u001b[43m(\u001b[49m\u001b[43m)\u001b[49m\n\u001b[1;32m    205\u001b[0m     \u001b[38;5;28mself\u001b[39m\u001b[38;5;241m.\u001b[39msave()\n\u001b[1;32m    206\u001b[0m     \u001b[38;5;28;01mif\u001b[39;00m \u001b[38;5;28mself\u001b[39m\u001b[38;5;241m.\u001b[39mverbose:\n",
      "File \u001b[0;32m~/.local/lib/python3.11/site-packages/dgl/data/tu.py:356\u001b[0m, in \u001b[0;36mTUDataset.process\u001b[0;34m(self)\u001b[0m\n\u001b[1;32m    354\u001b[0m \u001b[38;5;28mself\u001b[39m\u001b[38;5;241m.\u001b[39mmax_num_node \u001b[38;5;241m=\u001b[39m \u001b[38;5;241m0\u001b[39m\n\u001b[1;32m    355\u001b[0m \u001b[38;5;28;01mfor\u001b[39;00m idx \u001b[38;5;129;01min\u001b[39;00m \u001b[38;5;28mrange\u001b[39m(np\u001b[38;5;241m.\u001b[39mmax(DS_indicator) \u001b[38;5;241m+\u001b[39m \u001b[38;5;241m1\u001b[39m):\n\u001b[0;32m--> 356\u001b[0m     node_idx \u001b[38;5;241m=\u001b[39m \u001b[43mnp\u001b[49m\u001b[38;5;241;43m.\u001b[39;49m\u001b[43mwhere\u001b[49m\u001b[43m(\u001b[49m\u001b[43mDS_indicator\u001b[49m\u001b[43m \u001b[49m\u001b[38;5;241;43m==\u001b[39;49m\u001b[43m \u001b[49m\u001b[43midx\u001b[49m\u001b[43m)\u001b[49m\n\u001b[1;32m    357\u001b[0m     node_idx_list\u001b[38;5;241m.\u001b[39mappend(node_idx[\u001b[38;5;241m0\u001b[39m])\n\u001b[1;32m    358\u001b[0m     \u001b[38;5;28;01mif\u001b[39;00m \u001b[38;5;28mlen\u001b[39m(node_idx[\u001b[38;5;241m0\u001b[39m]) \u001b[38;5;241m>\u001b[39m \u001b[38;5;28mself\u001b[39m\u001b[38;5;241m.\u001b[39mmax_num_node:\n",
      "File \u001b[0;32m<__array_function__ internals>:200\u001b[0m, in \u001b[0;36mwhere\u001b[0;34m(*args, **kwargs)\u001b[0m\n",
      "\u001b[0;31mKeyboardInterrupt\u001b[0m: "
     ]
    }
   ],
   "source": [
    "data = TUDataset('reddit_threads')"
   ]
  },
  {
   "cell_type": "code",
   "execution_count": 137,
   "id": "8d9cd148-edb8-436a-bfa2-32ef64f730d4",
   "metadata": {
    "tags": []
   },
   "outputs": [
    {
     "data": {
      "text/plain": [
       "(Graph(num_nodes=47, num_edges=106,\n",
       "       ndata_schemes={'_ID': Scheme(shape=(), dtype=torch.int64), 'node_attr': Scheme(shape=(4,), dtype=torch.float64), 'node_labels': Scheme(shape=(1,), dtype=torch.int64)}\n",
       "       edata_schemes={'_ID': Scheme(shape=(), dtype=torch.int64), 'edge_labels': Scheme(shape=(1,), dtype=torch.int64)}),\n",
       " tensor([0]))"
      ]
     },
     "execution_count": 137,
     "metadata": {},
     "output_type": "execute_result"
    }
   ],
   "source": [
    "data[0]"
   ]
  },
  {
   "cell_type": "code",
   "execution_count": 78,
   "id": "2df2b4b8-f3f2-4cbe-8728-96a1f27f6068",
   "metadata": {
    "tags": []
   },
   "outputs": [],
   "source": [
    "from pprint import pprint"
   ]
  },
  {
   "cell_type": "code",
   "execution_count": 139,
   "id": "1d430ec2-89a3-47d9-9d9b-12672672212a",
   "metadata": {
    "tags": []
   },
   "outputs": [
    {
     "name": "stdout",
     "output_type": "stream",
     "text": [
      "((((1.0, 15.0), (2.0,)), ((1.0, 1.0, 0.0, 1.0, 0.0, 1.0, 1.0, 1.0, 4.0, 1.0, 3.0, 2.0), (1.0, 0.0, 1.0, 0.0, 0.0, 0.0, 0.0, 0.0, 0.0, 0.0)), ((1.0, 0.0, 0.0, 3.0, 1.0, 4.0, 4.0, 1.0, 2.0), (1.0, 1.0, 0.0, 0.0, 0.0, 0.0, 0.0, 0.0))), array([[0., 1., 0., 0., 0., 1., 1., 0., 0., 0., 0., 0., 0., 0., 0., 0.],\n",
      "       [1., 0., 1., 0., 0., 0., 0., 0., 0., 0., 0., 0., 0., 0., 0., 0.],\n",
      "       [0., 1., 0., 1., 0., 0., 0., 1., 0., 0., 0., 0., 0., 0., 0., 0.],\n",
      "       [0., 0., 1., 0., 1., 0., 0., 0., 0., 0., 0., 0., 0., 0., 0., 0.],\n",
      "       [0., 0., 0., 1., 0., 1., 0., 0., 0., 0., 0., 0., 0., 0., 0., 0.],\n",
      "       [1., 0., 0., 0., 1., 0., 0., 0., 1., 0., 0., 0., 0., 0., 0., 0.],\n",
      "       [1., 0., 0., 0., 0., 0., 0., 0., 0., 0., 0., 0., 0., 0., 0., 0.],\n",
      "       [0., 0., 1., 0., 0., 0., 0., 0., 0., 0., 0., 0., 0., 0., 0., 0.],\n",
      "       [0., 0., 0., 0., 0., 1., 0., 0., 0., 1., 0., 0., 1., 0., 0., 0.],\n",
      "       [0., 0., 0., 0., 0., 0., 0., 0., 1., 0., 1., 0., 0., 0., 0., 0.],\n",
      "       [0., 0., 0., 0., 0., 0., 0., 0., 0., 1., 0., 1., 0., 0., 1., 0.],\n",
      "       [0., 0., 0., 0., 0., 0., 0., 0., 0., 0., 1., 0., 1., 1., 0., 0.],\n",
      "       [0., 0., 0., 0., 0., 0., 0., 0., 1., 0., 0., 1., 0., 0., 0., 0.],\n",
      "       [0., 0., 0., 0., 0., 0., 0., 0., 0., 0., 0., 1., 0., 0., 0., 0.],\n",
      "       [0., 0., 0., 0., 0., 0., 0., 0., 0., 0., 1., 0., 0., 0., 0., 1.],\n",
      "       [0., 0., 0., 0., 0., 0., 0., 0., 0., 0., 0., 0., 0., 0., 1., 0.]]))\n"
     ]
    }
   ],
   "source": [
    "print(PPfastprobs(nx.to_numpy_array(to_networkx(data[4][0])), 3))"
   ]
  },
  {
   "cell_type": "code",
   "execution_count": null,
   "id": "26544195-166d-43ea-bcaf-5dc9a6300bad",
   "metadata": {
    "tags": []
   },
   "outputs": [],
   "source": [
    "data = TUDataset('reddit_threads', transform=lambda g: g.adj(scipy_fmt='coo').toarray())"
   ]
  },
  {
   "cell_type": "code",
   "execution_count": 340,
   "id": "861733dc-99d2-4a42-9689-b882053752cb",
   "metadata": {
    "tags": []
   },
   "outputs": [
    {
     "data": {
      "text/plain": [
       "Dataset(\"AIDS\", num_graphs=2000, save_path=/home/opl1do/.dgl/AIDS)"
      ]
     },
     "execution_count": 340,
     "metadata": {},
     "output_type": "execute_result"
    }
   ],
   "source": [
    "data"
   ]
  },
  {
   "cell_type": "code",
   "execution_count": null,
   "id": "f7b4ad71-3f4b-4020-a7cf-8d2492117f39",
   "metadata": {
    "tags": []
   },
   "outputs": [
    {
     "data": {
      "application/vnd.jupyter.widget-view+json": {
       "model_id": "b751a029c7514f35b99b0ec1dcf7b1be",
       "version_major": 2,
       "version_minor": 0
      },
      "text/plain": [
       "  0%|          | 0/2000 [00:00<?, ?it/s]"
      ]
     },
     "metadata": {},
     "output_type": "display_data"
    }
   ],
   "source": [
    "X, y = createTUDataset('REDDIT-BINARY', [], 1)"
   ]
  },
  {
   "cell_type": "code",
   "execution_count": 335,
   "id": "e85ab310-4815-4a76-a9e0-209bf545092a",
   "metadata": {
    "tags": []
   },
   "outputs": [
    {
     "data": {
      "text/plain": [
       "(1500, 6265)"
      ]
     },
     "execution_count": 335,
     "metadata": {},
     "output_type": "execute_result"
    }
   ],
   "source": [
    "X.shape"
   ]
  },
  {
   "cell_type": "code",
   "execution_count": 336,
   "id": "78886ae8-e73d-4d53-9b43-d130aa9182ce",
   "metadata": {
    "tags": []
   },
   "outputs": [
    {
     "data": {
      "text/html": [
       "<div>\n",
       "<style scoped>\n",
       "    .dataframe tbody tr th:only-of-type {\n",
       "        vertical-align: middle;\n",
       "    }\n",
       "\n",
       "    .dataframe tbody tr th {\n",
       "        vertical-align: top;\n",
       "    }\n",
       "\n",
       "    .dataframe thead th {\n",
       "        text-align: right;\n",
       "    }\n",
       "</style>\n",
       "<table border=\"1\" class=\"dataframe\">\n",
       "  <thead>\n",
       "    <tr style=\"text-align: right;\">\n",
       "      <th></th>\n",
       "      <th>poly_0/x^0</th>\n",
       "      <th>poly_0/x^1</th>\n",
       "      <th>poly_0/x^2</th>\n",
       "      <th>poly_0/x^3</th>\n",
       "      <th>poly_0/x^4</th>\n",
       "      <th>poly_0/x^5</th>\n",
       "      <th>poly_0/x^6</th>\n",
       "      <th>poly_0/x^7</th>\n",
       "      <th>poly_0/x^8</th>\n",
       "      <th>poly_0/x^9</th>\n",
       "      <th>...</th>\n",
       "      <th>poly_10/y^336</th>\n",
       "      <th>poly_10/y^337</th>\n",
       "      <th>poly_10/y^338</th>\n",
       "      <th>poly_10/y^339</th>\n",
       "      <th>poly_10/y^340</th>\n",
       "      <th>poly_10/y^341</th>\n",
       "      <th>poly_10/y^342</th>\n",
       "      <th>poly_10/y^343</th>\n",
       "      <th>poly_10/y^344</th>\n",
       "      <th>poly_10/y^345</th>\n",
       "    </tr>\n",
       "  </thead>\n",
       "  <tbody>\n",
       "    <tr>\n",
       "      <th>0</th>\n",
       "      <td>0</td>\n",
       "      <td>0</td>\n",
       "      <td>0</td>\n",
       "      <td>0</td>\n",
       "      <td>0</td>\n",
       "      <td>0</td>\n",
       "      <td>0</td>\n",
       "      <td>0.0</td>\n",
       "      <td>0.0</td>\n",
       "      <td>0.0</td>\n",
       "      <td>...</td>\n",
       "      <td>0.0</td>\n",
       "      <td>0.0</td>\n",
       "      <td>0.0</td>\n",
       "      <td>0.0</td>\n",
       "      <td>0.0</td>\n",
       "      <td>0.0</td>\n",
       "      <td>0.0</td>\n",
       "      <td>0.0</td>\n",
       "      <td>0.0</td>\n",
       "      <td>0.0</td>\n",
       "    </tr>\n",
       "    <tr>\n",
       "      <th>1</th>\n",
       "      <td>12</td>\n",
       "      <td>0</td>\n",
       "      <td>0</td>\n",
       "      <td>0</td>\n",
       "      <td>0</td>\n",
       "      <td>0</td>\n",
       "      <td>0</td>\n",
       "      <td>0.0</td>\n",
       "      <td>0.0</td>\n",
       "      <td>0.0</td>\n",
       "      <td>...</td>\n",
       "      <td>0.0</td>\n",
       "      <td>0.0</td>\n",
       "      <td>0.0</td>\n",
       "      <td>0.0</td>\n",
       "      <td>0.0</td>\n",
       "      <td>0.0</td>\n",
       "      <td>0.0</td>\n",
       "      <td>0.0</td>\n",
       "      <td>0.0</td>\n",
       "      <td>0.0</td>\n",
       "    </tr>\n",
       "    <tr>\n",
       "      <th>2</th>\n",
       "      <td>0</td>\n",
       "      <td>0</td>\n",
       "      <td>0</td>\n",
       "      <td>0</td>\n",
       "      <td>0</td>\n",
       "      <td>0</td>\n",
       "      <td>0</td>\n",
       "      <td>0.0</td>\n",
       "      <td>0.0</td>\n",
       "      <td>0.0</td>\n",
       "      <td>...</td>\n",
       "      <td>0.0</td>\n",
       "      <td>0.0</td>\n",
       "      <td>0.0</td>\n",
       "      <td>0.0</td>\n",
       "      <td>0.0</td>\n",
       "      <td>0.0</td>\n",
       "      <td>0.0</td>\n",
       "      <td>0.0</td>\n",
       "      <td>0.0</td>\n",
       "      <td>0.0</td>\n",
       "    </tr>\n",
       "    <tr>\n",
       "      <th>3</th>\n",
       "      <td>0</td>\n",
       "      <td>0</td>\n",
       "      <td>0</td>\n",
       "      <td>0</td>\n",
       "      <td>0</td>\n",
       "      <td>0</td>\n",
       "      <td>0</td>\n",
       "      <td>0.0</td>\n",
       "      <td>0.0</td>\n",
       "      <td>0.0</td>\n",
       "      <td>...</td>\n",
       "      <td>0.0</td>\n",
       "      <td>0.0</td>\n",
       "      <td>0.0</td>\n",
       "      <td>0.0</td>\n",
       "      <td>0.0</td>\n",
       "      <td>0.0</td>\n",
       "      <td>0.0</td>\n",
       "      <td>0.0</td>\n",
       "      <td>0.0</td>\n",
       "      <td>0.0</td>\n",
       "    </tr>\n",
       "    <tr>\n",
       "      <th>4</th>\n",
       "      <td>0</td>\n",
       "      <td>0</td>\n",
       "      <td>0</td>\n",
       "      <td>3</td>\n",
       "      <td>0</td>\n",
       "      <td>0</td>\n",
       "      <td>0</td>\n",
       "      <td>0.0</td>\n",
       "      <td>0.0</td>\n",
       "      <td>0.0</td>\n",
       "      <td>...</td>\n",
       "      <td>0.0</td>\n",
       "      <td>0.0</td>\n",
       "      <td>0.0</td>\n",
       "      <td>0.0</td>\n",
       "      <td>0.0</td>\n",
       "      <td>0.0</td>\n",
       "      <td>0.0</td>\n",
       "      <td>0.0</td>\n",
       "      <td>0.0</td>\n",
       "      <td>0.0</td>\n",
       "    </tr>\n",
       "    <tr>\n",
       "      <th>...</th>\n",
       "      <td>...</td>\n",
       "      <td>...</td>\n",
       "      <td>...</td>\n",
       "      <td>...</td>\n",
       "      <td>...</td>\n",
       "      <td>...</td>\n",
       "      <td>...</td>\n",
       "      <td>...</td>\n",
       "      <td>...</td>\n",
       "      <td>...</td>\n",
       "      <td>...</td>\n",
       "      <td>...</td>\n",
       "      <td>...</td>\n",
       "      <td>...</td>\n",
       "      <td>...</td>\n",
       "      <td>...</td>\n",
       "      <td>...</td>\n",
       "      <td>...</td>\n",
       "      <td>...</td>\n",
       "      <td>...</td>\n",
       "      <td>...</td>\n",
       "    </tr>\n",
       "    <tr>\n",
       "      <th>1495</th>\n",
       "      <td>10</td>\n",
       "      <td>0</td>\n",
       "      <td>0</td>\n",
       "      <td>0</td>\n",
       "      <td>0</td>\n",
       "      <td>0</td>\n",
       "      <td>0</td>\n",
       "      <td>0.0</td>\n",
       "      <td>0.0</td>\n",
       "      <td>0.0</td>\n",
       "      <td>...</td>\n",
       "      <td>0.0</td>\n",
       "      <td>0.0</td>\n",
       "      <td>0.0</td>\n",
       "      <td>0.0</td>\n",
       "      <td>0.0</td>\n",
       "      <td>0.0</td>\n",
       "      <td>0.0</td>\n",
       "      <td>0.0</td>\n",
       "      <td>0.0</td>\n",
       "      <td>0.0</td>\n",
       "    </tr>\n",
       "    <tr>\n",
       "      <th>1496</th>\n",
       "      <td>0</td>\n",
       "      <td>0</td>\n",
       "      <td>0</td>\n",
       "      <td>0</td>\n",
       "      <td>0</td>\n",
       "      <td>0</td>\n",
       "      <td>0</td>\n",
       "      <td>0.0</td>\n",
       "      <td>0.0</td>\n",
       "      <td>0.0</td>\n",
       "      <td>...</td>\n",
       "      <td>0.0</td>\n",
       "      <td>0.0</td>\n",
       "      <td>0.0</td>\n",
       "      <td>0.0</td>\n",
       "      <td>0.0</td>\n",
       "      <td>0.0</td>\n",
       "      <td>0.0</td>\n",
       "      <td>0.0</td>\n",
       "      <td>0.0</td>\n",
       "      <td>0.0</td>\n",
       "    </tr>\n",
       "    <tr>\n",
       "      <th>1497</th>\n",
       "      <td>0</td>\n",
       "      <td>0</td>\n",
       "      <td>4</td>\n",
       "      <td>0</td>\n",
       "      <td>0</td>\n",
       "      <td>0</td>\n",
       "      <td>3</td>\n",
       "      <td>0.0</td>\n",
       "      <td>6.0</td>\n",
       "      <td>0.0</td>\n",
       "      <td>...</td>\n",
       "      <td>0.0</td>\n",
       "      <td>0.0</td>\n",
       "      <td>0.0</td>\n",
       "      <td>0.0</td>\n",
       "      <td>0.0</td>\n",
       "      <td>0.0</td>\n",
       "      <td>0.0</td>\n",
       "      <td>0.0</td>\n",
       "      <td>0.0</td>\n",
       "      <td>0.0</td>\n",
       "    </tr>\n",
       "    <tr>\n",
       "      <th>1498</th>\n",
       "      <td>0</td>\n",
       "      <td>0</td>\n",
       "      <td>0</td>\n",
       "      <td>0</td>\n",
       "      <td>0</td>\n",
       "      <td>0</td>\n",
       "      <td>0</td>\n",
       "      <td>0.0</td>\n",
       "      <td>0.0</td>\n",
       "      <td>0.0</td>\n",
       "      <td>...</td>\n",
       "      <td>0.0</td>\n",
       "      <td>0.0</td>\n",
       "      <td>0.0</td>\n",
       "      <td>0.0</td>\n",
       "      <td>0.0</td>\n",
       "      <td>0.0</td>\n",
       "      <td>0.0</td>\n",
       "      <td>0.0</td>\n",
       "      <td>0.0</td>\n",
       "      <td>0.0</td>\n",
       "    </tr>\n",
       "    <tr>\n",
       "      <th>1499</th>\n",
       "      <td>0</td>\n",
       "      <td>0</td>\n",
       "      <td>0</td>\n",
       "      <td>0</td>\n",
       "      <td>0</td>\n",
       "      <td>0</td>\n",
       "      <td>0</td>\n",
       "      <td>0.0</td>\n",
       "      <td>0.0</td>\n",
       "      <td>0.0</td>\n",
       "      <td>...</td>\n",
       "      <td>0.0</td>\n",
       "      <td>0.0</td>\n",
       "      <td>0.0</td>\n",
       "      <td>0.0</td>\n",
       "      <td>0.0</td>\n",
       "      <td>0.0</td>\n",
       "      <td>0.0</td>\n",
       "      <td>0.0</td>\n",
       "      <td>0.0</td>\n",
       "      <td>0.0</td>\n",
       "    </tr>\n",
       "  </tbody>\n",
       "</table>\n",
       "<p>1500 rows × 6265 columns</p>\n",
       "</div>"
      ],
      "text/plain": [
       "      poly_0/x^0  poly_0/x^1  poly_0/x^2  poly_0/x^3  poly_0/x^4  poly_0/x^5  \\\n",
       "0              0           0           0           0           0           0   \n",
       "1             12           0           0           0           0           0   \n",
       "2              0           0           0           0           0           0   \n",
       "3              0           0           0           0           0           0   \n",
       "4              0           0           0           3           0           0   \n",
       "...          ...         ...         ...         ...         ...         ...   \n",
       "1495          10           0           0           0           0           0   \n",
       "1496           0           0           0           0           0           0   \n",
       "1497           0           0           4           0           0           0   \n",
       "1498           0           0           0           0           0           0   \n",
       "1499           0           0           0           0           0           0   \n",
       "\n",
       "      poly_0/x^6  poly_0/x^7  poly_0/x^8  poly_0/x^9  ...  poly_10/y^336  \\\n",
       "0              0         0.0         0.0         0.0  ...            0.0   \n",
       "1              0         0.0         0.0         0.0  ...            0.0   \n",
       "2              0         0.0         0.0         0.0  ...            0.0   \n",
       "3              0         0.0         0.0         0.0  ...            0.0   \n",
       "4              0         0.0         0.0         0.0  ...            0.0   \n",
       "...          ...         ...         ...         ...  ...            ...   \n",
       "1495           0         0.0         0.0         0.0  ...            0.0   \n",
       "1496           0         0.0         0.0         0.0  ...            0.0   \n",
       "1497           3         0.0         6.0         0.0  ...            0.0   \n",
       "1498           0         0.0         0.0         0.0  ...            0.0   \n",
       "1499           0         0.0         0.0         0.0  ...            0.0   \n",
       "\n",
       "      poly_10/y^337  poly_10/y^338  poly_10/y^339  poly_10/y^340  \\\n",
       "0               0.0            0.0            0.0            0.0   \n",
       "1               0.0            0.0            0.0            0.0   \n",
       "2               0.0            0.0            0.0            0.0   \n",
       "3               0.0            0.0            0.0            0.0   \n",
       "4               0.0            0.0            0.0            0.0   \n",
       "...             ...            ...            ...            ...   \n",
       "1495            0.0            0.0            0.0            0.0   \n",
       "1496            0.0            0.0            0.0            0.0   \n",
       "1497            0.0            0.0            0.0            0.0   \n",
       "1498            0.0            0.0            0.0            0.0   \n",
       "1499            0.0            0.0            0.0            0.0   \n",
       "\n",
       "      poly_10/y^341  poly_10/y^342  poly_10/y^343  poly_10/y^344  \\\n",
       "0               0.0            0.0            0.0            0.0   \n",
       "1               0.0            0.0            0.0            0.0   \n",
       "2               0.0            0.0            0.0            0.0   \n",
       "3               0.0            0.0            0.0            0.0   \n",
       "4               0.0            0.0            0.0            0.0   \n",
       "...             ...            ...            ...            ...   \n",
       "1495            0.0            0.0            0.0            0.0   \n",
       "1496            0.0            0.0            0.0            0.0   \n",
       "1497            0.0            0.0            0.0            0.0   \n",
       "1498            0.0            0.0            0.0            0.0   \n",
       "1499            0.0            0.0            0.0            0.0   \n",
       "\n",
       "      poly_10/y^345  \n",
       "0               0.0  \n",
       "1               0.0  \n",
       "2               0.0  \n",
       "3               0.0  \n",
       "4               0.0  \n",
       "...             ...  \n",
       "1495            0.0  \n",
       "1496            0.0  \n",
       "1497            0.0  \n",
       "1498            0.0  \n",
       "1499            0.0  \n",
       "\n",
       "[1500 rows x 6265 columns]"
      ]
     },
     "execution_count": 336,
     "metadata": {},
     "output_type": "execute_result"
    }
   ],
   "source": [
    "X"
   ]
  },
  {
   "cell_type": "code",
   "execution_count": 337,
   "id": "3768d16f-49ef-4536-bbb0-4c789b7c997f",
   "metadata": {
    "tags": []
   },
   "outputs": [
    {
     "name": "stdout",
     "output_type": "stream",
     "text": [
      "47.28888888888889 +- 1.5163308541539537\n",
      "44.822222222222216 +- 1.3628220539077303\n"
     ]
    }
   ],
   "source": [
    "gradboost = GradientBoostingClassifier()\n",
    "meanacc=[]\n",
    "for i in range(10):\n",
    "    X_train, X_test, y_train, y_test = train_test_split(X, y, test_size=0.3, stratify=y)\n",
    "    gradboost.fit(X_train, y_train)\n",
    "    #print(accuracy_score(y_test, gradboost.predict(X_test)), accuracy_score(y_train, gradboost.predict(X_train)))\n",
    "    meanacc.append(accuracy_score(y_test, gradboost.predict(X_test)))\n",
    "print(sum(meanacc) / len(meanacc)*100, '+-', np.std(meanacc)*100)\n",
    "\n",
    "lregpipe = Pipeline([('scaler', StandardScaler()), ('model', LogisticRegression(multi_class = 'ovr', max_iter = 10000))])\n",
    "meanacc=[]\n",
    "for i in range(10):\n",
    "    X_train, X_test, y_train, y_test = train_test_split(X, y, test_size=0.3, stratify=y)\n",
    "    lregpipe.fit(X_train, y_train)\n",
    "    #print(accuracy_score(y_test, gradboost.predict(X_test)), accuracy_score(y_train, gradboost.predict(X_train)))\n",
    "    meanacc.append(accuracy_score(y_test, lregpipe.predict(X_test)))\n",
    "print(sum(meanacc) / len(meanacc)*100, '+-', np.std(meanacc)*100)"
   ]
  },
  {
   "cell_type": "code",
   "execution_count": 38,
   "id": "d492fce1-c865-44cf-9811-73b935648db6",
   "metadata": {
    "tags": []
   },
   "outputs": [
    {
     "data": {
      "application/vnd.jupyter.widget-view+json": {
       "model_id": "3305c33dd0374b62895b7de4e473871b",
       "version_major": 2,
       "version_minor": 0
      },
      "text/plain": [
       "  0%|          | 0/1500 [00:00<?, ?it/s]"
      ]
     },
     "metadata": {},
     "output_type": "display_data"
    },
    {
     "name": "stdout",
     "output_type": "stream",
     "text": [
      "IMDB-MULTI 1\n",
      "46.488888888888894 +- 1.7979412094372265\n",
      "42.57777777777778 +- 1.599999999999999\n"
     ]
    },
    {
     "data": {
      "application/vnd.jupyter.widget-view+json": {
       "model_id": "71a7cc5be0ef4fad81587ca407f1c822",
       "version_major": 2,
       "version_minor": 0
      },
      "text/plain": [
       "  0%|          | 0/1500 [00:00<?, ?it/s]"
      ]
     },
     "metadata": {},
     "output_type": "display_data"
    },
    {
     "name": "stdout",
     "output_type": "stream",
     "text": [
      "IMDB-MULTI 2\n",
      "46.555555555555564 +- 1.4410215854998647\n",
      "38.077777777777776 +- 2.579381684928233\n"
     ]
    },
    {
     "data": {
      "application/vnd.jupyter.widget-view+json": {
       "model_id": "771f06710b3141c484f9f5cb9a5ca3aa",
       "version_major": 2,
       "version_minor": 0
      },
      "text/plain": [
       "  0%|          | 0/1500 [00:00<?, ?it/s]"
      ]
     },
     "metadata": {},
     "output_type": "display_data"
    },
    {
     "name": "stdout",
     "output_type": "stream",
     "text": [
      "IMDB-MULTI 3\n",
      "46.75555555555556 +- 1.70315611167642\n",
      "40.9 +- 2.2249705227621543\n"
     ]
    },
    {
     "data": {
      "application/vnd.jupyter.widget-view+json": {
       "model_id": "02c8654731d0475b83d58112b5c855c7",
       "version_major": 2,
       "version_minor": 0
      },
      "text/plain": [
       "  0%|          | 0/1500 [00:00<?, ?it/s]"
      ]
     },
     "metadata": {},
     "output_type": "display_data"
    },
    {
     "name": "stdout",
     "output_type": "stream",
     "text": [
      "IMDB-MULTI 4\n",
      "47.0111111111111 +- 2.2634781495153273\n",
      "42.87777777777777 +- 2.6652542555849297\n",
      "CPU times: user 4min 49s, sys: 4min 37s, total: 9min 27s\n",
      "Wall time: 2min 56s\n"
     ]
    },
    {
     "data": {
      "text/plain": [
       "[<matplotlib.lines.Line2D at 0x7f372c9e9a50>]"
      ]
     },
     "execution_count": 38,
     "metadata": {},
     "output_type": "execute_result"
    },
    {
     "data": {
      "image/png": "[encoded data removed]",
      "text/plain": [
       "<Figure size 640x480 with 1 Axes>"
      ]
     },
     "metadata": {},
     "output_type": "display_data"
    }
   ],
   "source": [
    "%%time\n",
    "boostacc=[]\n",
    "linacc=[]\n",
    "for datas in ['IMDB-MULTI']:\n",
    "    for deg in np.arange(1, 5):\n",
    "        X, y = createTUDataset(datas, [], deg)\n",
    "        print(datas, deg)\n",
    "        gradboost = GradientBoostingClassifier()\n",
    "        meanacc=[]\n",
    "        for i in range(20):\n",
    "            X_train, X_test, y_train, y_test = train_test_split(X, y, test_size=0.3, stratify=y)\n",
    "            gradboost.fit(X_train, y_train)\n",
    "            #print(accuracy_score(y_test, gradboost.predict(X_test)), accuracy_score(y_train, gradboost.predict(X_train)))\n",
    "            meanacc.append(accuracy_score(y_test, gradboost.predict(X_test)))\n",
    "        print(sum(meanacc) / len(meanacc)*100, '+-', np.std(meanacc)*100)\n",
    "        boostacc.append(sum(meanacc) / len(meanacc)*100)\n",
    "        \n",
    "        lregpipe = Pipeline([('scaler', StandardScaler()), ('model', LogisticRegression(multi_class = 'ovr', max_iter = 10000))])\n",
    "        meanacc=[]\n",
    "        for i in range(20):\n",
    "            X_train, X_test, y_train, y_test = train_test_split(X, y, test_size=0.3, stratify=y)\n",
    "            lregpipe.fit(X_train, y_train)\n",
    "            #print(accuracy_score(y_test, gradboost.predict(X_test)), accuracy_score(y_train, gradboost.predict(X_train)))\n",
    "            meanacc.append(accuracy_score(y_test, lregpipe.predict(X_test)))\n",
    "        print(sum(meanacc) / len(meanacc)*100, '+-', np.std(meanacc)*100)\n",
    "        linacc.append(sum(meanacc) / len(meanacc)*100)\n",
    "plt.plot(boostacc)\n",
    "plt.plot(linacc)"
   ]
  },
  {
   "cell_type": "code",
   "execution_count": 146,
   "id": "eb879e69-c7ef-4039-88a3-a43a0b7b313e",
   "metadata": {
    "tags": []
   },
   "outputs": [
    {
     "name": "stdout",
     "output_type": "stream",
     "text": [
      "99.44166666666673 +- 0.30219107274114554\n",
      "CPU times: user 18 s, sys: 31.9 s, total: 49.9 s\n",
      "Wall time: 1.56 s\n"
     ]
    }
   ],
   "source": [
    "%%time\n",
    "lregpipe = Pipeline([('scaler', StandardScaler()), ('model', LogisticRegression(multi_class = 'ovr', max_iter = 10000))])\n",
    "meanacc=[]\n",
    "for i in range(100):\n",
    "    X_train, X_test, y_train, y_test = train_test_split(X, y, test_size=0.3, stratify=y)\n",
    "    lregpipe.fit(X_train, y_train)\n",
    "    #print(accuracy_score(y_test, gradboost.predict(X_test)), accuracy_score(y_train, gradboost.predict(X_train)))\n",
    "    meanacc.append(accuracy_score(y_test, lregpipe.predict(X_test)))\n",
    "print(sum(meanacc) / len(meanacc)*100, '+-', np.std(meanacc)*100)\n"
   ]
  },
  {
   "cell_type": "code",
   "execution_count": 120,
   "id": "3098ca0a-3f87-4083-978e-0b24ed277015",
   "metadata": {
    "tags": []
   },
   "outputs": [],
   "source": [
    "X_train, X_test, y_train, y_test = train_test_split(X, y, test_size=0.3, stratify=y)"
   ]
  },
  {
   "cell_type": "code",
   "execution_count": 127,
   "id": "31762de2-341b-4b69-b4c3-e6aa3940ea5d",
   "metadata": {
    "tags": []
   },
   "outputs": [
    {
     "name": "stdout",
     "output_type": "stream",
     "text": [
      "GradientBoostingClassifier(max_depth=1, n_estimators=26)\n"
     ]
    }
   ],
   "source": [
    "gradboost = GradientBoostingClassifier()\n",
    "gsboost = GridSearchCV(gradboost, param_grid={'n_estimators': np.arange(10, 30), 'max_depth': [1, 2]}, scoring='accuracy', cv=KFold(n_splits=7, shuffle=True, random_state=0x575757), n_jobs=-1)\n",
    "gsboost.fit(X_train, y_train)\n",
    "print(gsboost.best_estimator_)"
   ]
  },
  {
   "cell_type": "code",
   "execution_count": 221,
   "id": "fa16e687-d47a-458b-9903-98831e9bb5b4",
   "metadata": {
    "collapsed": true,
    "jupyter": {
     "outputs_hidden": true
    },
    "tags": []
   },
   "outputs": [
    {
     "name": "stdout",
     "output_type": "stream",
     "text": [
      "GradientBoostingClassifier(max_depth=12, n_estimators=46)\n",
      "GradientBoostingClassifier(max_depth=6, n_estimators=46)\n",
      "GradientBoostingClassifier(max_depth=6, n_estimators=48)\n",
      "GradientBoostingClassifier(max_depth=10, n_estimators=42)\n",
      "GradientBoostingClassifier(max_depth=6, n_estimators=41)\n",
      "GradientBoostingClassifier(max_depth=6, n_estimators=56)\n",
      "GradientBoostingClassifier(max_depth=10, n_estimators=44)\n",
      "GradientBoostingClassifier(max_depth=7, n_estimators=42)\n",
      "GradientBoostingClassifier(max_depth=12, n_estimators=53)\n",
      "GradientBoostingClassifier(max_depth=7, n_estimators=51)\n",
      "79.82456140350878 +- 3.4423538369032594\n",
      "GradientBoostingClassifier(max_depth=8, n_estimators=43)\n",
      "GradientBoostingClassifier(max_depth=7, n_estimators=40)\n",
      "GradientBoostingClassifier(max_depth=6, n_estimators=57)\n",
      "GradientBoostingClassifier(max_depth=6, n_estimators=43)\n",
      "GradientBoostingClassifier(max_depth=6, n_estimators=64)\n",
      "GradientBoostingClassifier(max_depth=8, n_estimators=44)\n",
      "GradientBoostingClassifier(max_depth=7, n_estimators=48)\n",
      "GradientBoostingClassifier(max_depth=11, n_estimators=51)\n",
      "GradientBoostingClassifier(max_depth=7, n_estimators=51)\n",
      "GradientBoostingClassifier(max_depth=6, n_estimators=44)\n",
      "81.40350877192984 +- 4.311651132436669\n",
      "CPU times: user 12.1 s, sys: 665 ms, total: 12.8 s\n",
      "Wall time: 56.7 s\n"
     ]
    }
   ],
   "source": [
    "%%time\n",
    "\n",
    "for foldnum in np.arange(7, 9):\n",
    "    meanacc=[]\n",
    "    for i in range(10):\n",
    "        X_train, X_test, y_train, y_test = train_test_split(X, y, test_size=0.3, stratify=y)\n",
    "        gsboost = GridSearchCV(gradboost, param_grid={'n_estimators': np.arange(40, 65), 'max_depth': [6, 7, 8, 9, 10, 11, 12]}, scoring='accuracy', cv=KFold(n_splits=foldnum, shuffle=True, random_state=0x575757), n_jobs=-1)\n",
    "        gsboost.fit(X_train, y_train)\n",
    "        print(gsboost.best_estimator_)\n",
    "        meanacc.append(gsboost.best_estimator_.score(X_test, y_test))\n",
    "    print(sum(meanacc) / len(meanacc)*100, '+-', np.std(meanacc)*100)"
   ]
  },
  {
   "cell_type": "code",
   "execution_count": 170,
   "id": "75f930e9-5c0d-44da-afcc-cb7352e3d9da",
   "metadata": {
    "tags": []
   },
   "outputs": [
    {
     "data": {
      "application/vnd.jupyter.widget-view+json": {
       "model_id": "3f42e287be3143c3bc08cf3b5215b670",
       "version_major": 2,
       "version_minor": 0
      },
      "text/plain": [
       "  0%|          | 0/45000 [00:00<?, ?it/s]"
      ]
     },
     "metadata": {},
     "output_type": "display_data"
    },
    {
     "data": {
      "text/plain": [
       "(45000, 1962)"
      ]
     },
     "execution_count": 170,
     "metadata": {},
     "output_type": "execute_result"
    }
   ],
   "source": [
    "X, y = createTUDataset('TRIANGLES', [], [1, 2, 3, 4, 5, 6])\n",
    "X.shape"
   ]
  },
  {
   "cell_type": "code",
   "execution_count": 53,
   "id": "7ef3e687-782e-4736-9df9-b1a97d2561a7",
   "metadata": {
    "tags": []
   },
   "outputs": [
    {
     "name": "stdout",
     "output_type": "stream",
     "text": [
      "0.6167664670658682 0.9974326059050064\n"
     ]
    }
   ],
   "source": [
    "from sklearn.svm import LinearSVC\n",
    "X_train, X_test, y_train, y_test = train_test_split(X, y, random_state=0x575757, test_size=0.3, stratify=y)\n",
    "lregpipe = Pipeline([('scaler', StandardScaler()), ('model', LinearSVC(penalty = 'l1', loss='squared_hinge', multi_class = 'ovr', tol = 1e-7,  max_iter = 100000, dual=False))])\n",
    "lregpipe.fit(X_train, y_train)\n",
    "print(accuracy_score(y_test, lregpipe.predict(X_test)), accuracy_score(y_train, lregpipe.predict(X_train)))"
   ]
  },
  {
   "cell_type": "code",
   "execution_count": 29,
   "id": "3635f0c1-0a58-4541-af7d-35f5306d82dd",
   "metadata": {
    "collapsed": true,
    "jupyter": {
     "outputs_hidden": true
    },
    "tags": []
   },
   "outputs": [
    {
     "name": "stdout",
     "output_type": "stream",
     "text": [
      "poly_0/x^0      0.056448\n",
      "poly_0/x^1      0.094363\n",
      "poly_0/x^2      0.091680\n",
      "poly_0/x^3      0.102439\n",
      "poly_0/x^4      0.066859\n",
      "                  ...   \n",
      "poly_3/y^353    0.031633\n",
      "poly_3/y^354    0.031633\n",
      "poly_3/y^355    0.031633\n",
      "poly_3/y^356    0.031633\n",
      "target          1.000000\n",
      "Name: target, Length: 2865, dtype: float64\n"
     ]
    }
   ],
   "source": [
    "X['target']=y\n",
    "cor_matrix = X.corr().abs()\n",
    "print(cor_matrix['target'])"
   ]
  },
  {
   "cell_type": "code",
   "execution_count": 34,
   "id": "95680ebf-570a-4570-877b-249edf2a73fd",
   "metadata": {
    "tags": []
   },
   "outputs": [
    {
     "name": "stdout",
     "output_type": "stream",
     "text": [
      "1843\n"
     ]
    }
   ],
   "source": [
    "to_drop = [column for column in X.columns if cor_matrix['target'][column]<0.06]\n",
    "print(len(to_drop))\n",
    "X = X.drop(columns = to_drop, axis=1)"
   ]
  },
  {
   "cell_type": "code",
   "execution_count": 13,
   "id": "b17454f4-f442-41d6-9f8b-9eaac1f12d22",
   "metadata": {
    "tags": []
   },
   "outputs": [],
   "source": [
    "# cor_matrix = X.corr().abs()\n",
    "# upper_tri = cor_matrix.where(np.triu(np.ones(cor_matrix.shape),k=1).astype('bool'))"
   ]
  },
  {
   "cell_type": "code",
   "execution_count": 14,
   "id": "a0854cd4-f7d3-42ff-aaa0-19b5952cc947",
   "metadata": {
    "tags": []
   },
   "outputs": [
    {
     "name": "stdout",
     "output_type": "stream",
     "text": [
      "1248\n"
     ]
    }
   ],
   "source": [
    "# to_drop = [column for column in upper_tri.columns if any(upper_tri[column] > 0.9)]\n",
    "# print(len(to_drop))\n",
    "# X = X.drop(columns = to_drop, axis=1)"
   ]
  },
  {
   "cell_type": "code",
   "execution_count": 170,
   "id": "744d1ce5-74cb-4e43-b318-20f5ebd9f633",
   "metadata": {
    "tags": []
   },
   "outputs": [
    {
     "name": "stdout",
     "output_type": "stream",
     "text": [
      "Best model: Pipeline(steps=[('scaler', StandardScaler()),\n",
      "                ('model',\n",
      "                 LogisticRegression(C=0.0005, max_iter=10000,\n",
      "                                    multi_class='ovr'))])\n",
      "Best score: 0.7356246552675125\n",
      "test score: 0.7245508982035929 train score: 0.7394094993581515\n",
      "CPU times: user 1.48 s, sys: 2.22 s, total: 3.7 s\n",
      "Wall time: 5.74 s\n"
     ]
    }
   ],
   "source": [
    "%%time\n",
    "X_train, X_test, y_train, y_test = train_test_split(X, y, test_size=0.3, stratify=y)\n",
    "lregpipe = Pipeline([('scaler', StandardScaler()), ('model', LogisticRegression(multi_class = 'ovr', max_iter = 10000))])\n",
    "gslreg = GridSearchCV(lregpipe, param_grid={'model__C': np.arange(0.0001, 0.002, 0.0001)}, scoring='accuracy', cv=KFold(n_splits=7, shuffle=True, random_state=0x575757), n_jobs=-1)\n",
    "gslreg.fit(X_train, y_train)\n",
    "print('Best model:', gslreg.best_estimator_)\n",
    "print('Best score:', gslreg.best_score_)\n",
    "print('test score:', gslreg.best_estimator_.score(X_test, y_test), 'train score:', gslreg.best_estimator_.score(X_train, y_train))"
   ]
  },
  {
   "cell_type": "code",
   "execution_count": 231,
   "id": "47f6daef-2f84-4089-916e-36b7cd9980f7",
   "metadata": {
    "tags": []
   },
   "outputs": [
    {
     "name": "stdout",
     "output_type": "stream",
     "text": [
      "85.12280701754379 +- 4.087982824123571\n",
      "CPU times: user 1min 40s, sys: 11.1 s, total: 1min 51s\n",
      "Wall time: 2min 20s\n"
     ]
    }
   ],
   "source": [
    "%%time\n",
    "\n",
    "meanacc=[]\n",
    "for t in range(100):\n",
    "    X_train, X_test, y_train, y_test = train_test_split(X, y, test_size=0.3)\n",
    "    lregpipe = Pipeline([('scaler', StandardScaler()), ('model', LogisticRegression(multi_class = 'ovr', max_iter = 100000, tol=1e-7))])\n",
    "    gslreg = GridSearchCV(lregpipe, param_grid={'model__C': np.arange(0.001, 0.5, 0.001)}, scoring='accuracy', cv=KFold(n_splits=7, shuffle=True), n_jobs=-1)\n",
    "    gslreg.fit(X_train, y_train)\n",
    "    #print('Best model:', gslreg.best_estimator_)\n",
    "        # print('Best score:', gslreg.best_score_)\n",
    "        # print('test score:', gslreg.best_estimator_.score(X_test, y_test), 'train score:', gslreg.best_estimator_.score(X_train, y_train))\n",
    "\n",
    "            # lregpipe = Pipeline([('Poly', PolynomialFeatures()), ('scaler', StandardScaler()), ('model', LogisticRegression(multi_class = 'ovr', max_iter = 10000))])\n",
    "            # gslreg = GridSearchCV(lregpipe, param_grid={ 'model__C': np.arange(0.001, 1, 0.001)}, scoring='accuracy', cv=KFold(n_splits=8, shuffle=True, random_state=0x575757), n_jobs=-1)\n",
    "            # gslreg.fit(X_train, y_train)\n",
    "            # print('Best model:', gslreg.best_estimator_)\n",
    "            # print('Best score:', gslreg.best_score_)\n",
    "            # print('test score:', gslreg.best_estimator_.score(X_test, y_test), 'train score:', gslreg.best_estimator_.score(X_train, y_train))\n",
    "    meanacc.append(gslreg.best_estimator_.score(X_test, y_test))\n",
    "print(sum(meanacc) / len(meanacc)*100, '+-', np.std(meanacc)*100)"
   ]
  },
  {
   "cell_type": "code",
   "execution_count": 51,
   "id": "0249b5a7-587b-4266-8535-49a01cd2bc01",
   "metadata": {
    "tags": []
   },
   "outputs": [
    {
     "name": "stdout",
     "output_type": "stream",
     "text": [
      "tensor([5])\n"
     ]
    },
    {
     "data": {
      "image/png": "[encoded data removed]",
      "text/plain": [
       "<Figure size 640x480 with 1 Axes>"
      ]
     },
     "metadata": {},
     "output_type": "display_data"
    }
   ],
   "source": [
    "k = 12\n",
    "print(data[k][1])\n",
    "nx.draw(nx.from_numpy_array(data[k][0]))\n"
   ]
  },
  {
   "cell_type": "code",
   "execution_count": 313,
   "id": "b99f71ae-2324-4f84-a632-0b8ce9d2ced4",
   "metadata": {
    "tags": []
   },
   "outputs": [
    {
     "data": {
      "text/plain": [
       "1178"
      ]
     },
     "execution_count": 313,
     "metadata": {},
     "output_type": "execute_result"
    }
   ],
   "source": [
    "len(data)"
   ]
  },
  {
   "cell_type": "code",
   "execution_count": 10,
   "id": "98c94620-09e8-42cb-9391-120ca1c79036",
   "metadata": {
    "tags": []
   },
   "outputs": [],
   "source": [
    "from sympy import *\n",
    "x, y, z = symbols(\"x y z\")"
   ]
  },
  {
   "cell_type": "code",
   "execution_count": 11,
   "id": "f9c8c6cf-9b07-47e1-a10f-9d283532e47b",
   "metadata": {
    "tags": []
   },
   "outputs": [],
   "source": [
    "expr=nx.chromatic_polynomial(nx.from_numpy_array(data[50][0]))"
   ]
  },
  {
   "cell_type": "code",
   "execution_count": 12,
   "id": "1e80aca9-3d02-4748-acc2-cbc72ae22927",
   "metadata": {
    "tags": []
   },
   "outputs": [
    {
     "data": {
      "text/plain": [
       "192"
      ]
     },
     "execution_count": 12,
     "metadata": {},
     "output_type": "execute_result"
    }
   ],
   "source": [
    "int(expr.subs(x, 3))"
   ]
  },
  {
   "cell_type": "code",
   "execution_count": 13,
   "id": "6b5ef1c9-0093-4c3c-b088-319daa341757",
   "metadata": {
    "tags": []
   },
   "outputs": [],
   "source": [
    "def toispowers(datachunk, i):\n",
    "    g, label = datachunk\n",
    "    target = int(label)\n",
    "    g = g - np.diag(np.diag(g))\n",
    "    expr=nx.chromatic_polynomial(nx.from_numpy_array(g))\n",
    "    features=[]\n",
    "    for k in range(i+1):\n",
    "        features.append(int(expr.subs(x, k)))\n",
    "    return target, features  \n",
    "\n"
   ]
  }
 ],
 "metadata": {
  "kernelspec": {
   "display_name": "Python 3 (ipykernel)",
   "language": "python",
   "name": "python3"
  },
  "language_info": {
   "codemirror_mode": {
    "name": "ipython",
    "version": 3
   },
   "file_extension": ".py",
   "mimetype": "text/x-python",
   "name": "python",
   "nbconvert_exporter": "python",
   "pygments_lexer": "ipython3",
   "version": "3.11.3"
  }
 },
 "nbformat": 4,
 "nbformat_minor": 5
}
