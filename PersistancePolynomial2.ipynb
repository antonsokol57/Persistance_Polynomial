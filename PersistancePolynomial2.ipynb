{
 "cells": [
  {
   "cell_type": "code",
   "execution_count": 57,
   "id": "c4c0c6d0-2126-4104-9f0c-5b7580ab9006",
   "metadata": {
    "tags": []
   },
   "outputs": [],
   "source": [
    "import numpy as np\n",
    "from scipy.sparse import csr_matrix\n",
    "from scipy.sparse.csgraph import connected_components\n",
    "from collections import defaultdict\n",
    "import networkx as nx\n",
    "from math import comb\n",
    "import matplotlib.pyplot as plt\n",
    "from tqdm.contrib.concurrent import process_map\n",
    "from itertools import repeat\n",
    "from tqdm.auto import tqdm\n",
    "import pandas as pd\n",
    "from components import increasing_components"
   ]
  },
  {
   "cell_type": "code",
   "execution_count": 3,
   "id": "1db1f734-a3a3-4b2a-9ea5-1ab55b287045",
   "metadata": {
    "tags": []
   },
   "outputs": [],
   "source": [
    "from sklearn.linear_model import LogisticRegression\n",
    "from sklearn.model_selection import KFold\n",
    "from sklearn.model_selection import train_test_split, cross_val_score, GridSearchCV\n",
    "from sklearn.pipeline import Pipeline\n",
    "from sklearn.preprocessing import StandardScaler\n",
    "from sklearn.svm import SVC\n",
    "from sklearn.preprocessing import PolynomialFeatures\n",
    "from sklearn.metrics import accuracy_score"
   ]
  },
  {
   "cell_type": "code",
   "execution_count": 4,
   "id": "54fea031-231e-41bd-ab97-b30484679087",
   "metadata": {
    "tags": []
   },
   "outputs": [],
   "source": [
    "from dgl.data import TUDataset\n",
    "from dgl import to_networkx\n",
    "from dgl.data import MiniGCDataset"
   ]
  },
  {
   "cell_type": "code",
   "execution_count": 5,
   "id": "6dbb1b3e-6208-44be-8304-a969b54e3930",
   "metadata": {
    "tags": []
   },
   "outputs": [],
   "source": [
    "from sklearn.ensemble import GradientBoostingClassifier"
   ]
  },
  {
   "cell_type": "code",
   "execution_count": 6,
   "id": "454ff538",
   "metadata": {
    "tags": []
   },
   "outputs": [],
   "source": [
    "# X = pd.read_pickle('X.pkl')\n",
    "# y = pd.read_pickle('y.pkl')"
   ]
  },
  {
   "cell_type": "code",
   "execution_count": 6,
   "id": "03d007b3-1123-47e5-bfcb-a60808137e2d",
   "metadata": {
    "tags": []
   },
   "outputs": [],
   "source": [
    "def PPprobs(Graph, iters):\n",
    "    G = nx.from_numpy_array(Graph)\n",
    "    L = nx.line_graph(G)\n",
    "    edges = np.array(L.nodes())\n",
    "    B = nx.to_numpy_array(L)\n",
    "    C= B.copy()\n",
    "    #C = C + np.diag(np.ones(len(C)))\n",
    "    for i in range(len(C)):\n",
    "        if C[i].sum() == 0:\n",
    "            C[i][i] = 1\n",
    "        else:\n",
    "            C[i]=C[i]/(C[i].sum())\n",
    "    C=np.transpose(C)\n",
    "    retprobs = np.diag(np.linalg.matrix_power(C, iters))\n",
    "    times = []\n",
    "    for i in range(len(retprobs)):\n",
    "        els = set()\n",
    "        for j in retprobs:\n",
    "            if j < retprobs[i]:\n",
    "                els.add(j)\n",
    "        times.append(len(els))\n",
    "\n",
    "    n = max(Graph[i].sum() for i in range(len(Graph)))\n",
    "    V = len(Graph)\n",
    "    PPP = np.poly1d([])\n",
    "    PPQ = np.poly1d([])\n",
    "\n",
    "    Graphi = np.zeros(V*V).reshape(V,V)\n",
    "    left = V\n",
    "    cycles = 0\n",
    "    i = 0\n",
    "    get_indexes = lambda x, xs: [i for (y, i) in zip(xs, range(len(xs))) if x == y]\n",
    "    if len(times)>0:\n",
    "        for tau in range(max(times)+1):\n",
    "            i_indexes = get_indexes(i, times)\n",
    "\n",
    "            for edge in i_indexes:\n",
    "\n",
    "                Graphi[edges[edge][0], edges[edge][1]] = 1\n",
    "                Graphi[edges[edge][1], edges[edge][0]] = 1\n",
    "\n",
    "            comps = connected_components(Graphi)[0]\n",
    "            PPP[i] = left - comps\n",
    "            left = left - (left - comps)\n",
    "            PPQ[i] = Graphi.sum()/2 - V + comps - cycles\n",
    "            cycles = Graphi.sum()/2 - V + comps\n",
    "            i += 1\n",
    "    PPP[i] = left\n",
    "    PPP = tuple(PPP)\n",
    "    PPQ = list(PPQ)\n",
    "    for i in range(len(PPQ)):\n",
    "        if PPQ[0] == 0:\n",
    "            PPQ = PPQ[1:]\n",
    "    PPQ = tuple(PPQ)\n",
    "    polys = (PPP, PPQ)\n",
    "    return polys, Graph"
   ]
  },
  {
   "cell_type": "code",
   "execution_count": 7,
   "id": "03ca6c2f-5446-45ac-b84f-3ff3656ff250",
   "metadata": {
    "tags": []
   },
   "outputs": [],
   "source": [
    "def PPfromrandict(Graph, state):\n",
    "    k = len(Graph)-2\n",
    "    arr = np.arange(int((k+2)*(k+1)/2))\n",
    "    np.random.seed(state)\n",
    "    np.random.shuffle(arr)\n",
    "    dicof = {}\n",
    "    t = 0\n",
    "    for a in range(1, k+2):\n",
    "        for b in range(1, a+1):\n",
    "            dicof[arr[t]] = [a, b]\n",
    "            t += 1\n",
    "    n = max(Graph[i].sum() for i in range(len(Graph)))\n",
    "    V = len(Graph)\n",
    "    PPP = np.poly1d([])\n",
    "    PPQ = np.poly1d([])\n",
    "    Graphi = np.zeros(V*V).reshape(V,V)\n",
    "    left = V\n",
    "    cycles = 0\n",
    "    i = 0\n",
    "    while np.array_equal(Graphi, Graph) == 0: \n",
    "        for a in range(V):\n",
    "            for b in range(V):\n",
    "                macs = max(Graph[a].sum(), Graph[b].sum())\n",
    "                mi = min(Graph[a].sum(), Graph[b].sum())\n",
    "                if dicof[i] == [macs, mi]:\n",
    "                    Graphi[a][b] = Graph[a][b]\n",
    "\n",
    "        comps = connected_components(Graphi)[0]\n",
    "        PPP[i] = left - comps\n",
    "        left = left - (left - comps)\n",
    "        PPQ[i] = Graphi.sum()/2 - V + comps - cycles\n",
    "        cicles = Graphi.sum()/2 - V + comps\n",
    "        i += 1 \n",
    "    PPP[i] = left\n",
    "    PPP = tuple(PPP)\n",
    "    PPQ = list(PPQ)\n",
    "    for i in range(len(PPQ)):\n",
    "        if PPQ[0] == 0:\n",
    "            PPQ = PPQ[1:]\n",
    "    PPQ = tuple(PPQ)\n",
    "    polys = (PPP, PPQ)\n",
    "    return polys, Graph"
   ]
  },
  {
   "cell_type": "code",
   "execution_count": 33,
   "id": "9a7f142b-2974-46ea-86a6-1e2aac8d364d",
   "metadata": {
    "collapsed": true,
    "jupyter": {
     "outputs_hidden": true
    },
    "tags": []
   },
   "outputs": [
    {
     "name": "stdout",
     "output_type": "stream",
     "text": [
      "/bin/bash: line 1: ./showg: Permission denied\n",
      "/bin/bash: line 1: ./showg: Permission denied\n",
      "/bin/bash: line 1: ./showg: Permission denied\n",
      "/bin/bash: line 1: ./showg: Permission denied\n",
      "/bin/bash: line 1: ./showg: Permission denied\n",
      "/bin/bash: line 1: ./showg: Permission denied\n",
      "/bin/bash: line 1: ./showg: Permission denied\n",
      "/bin/bash: line 1: ./showg: Permission denied\n",
      "/bin/bash: line 1: ./showg: Permission denied\n"
     ]
    },
    {
     "ename": "FileNotFoundError",
     "evalue": "graph10.adj not found.",
     "output_type": "error",
     "traceback": [
      "\u001b[0;31m---------------------------------------------------------------------------\u001b[0m",
      "\u001b[0;31mFileNotFoundError\u001b[0m                         Traceback (most recent call last)",
      "Cell \u001b[0;32mIn[33], line 8\u001b[0m\n\u001b[1;32m      6\u001b[0m get_ipython()\u001b[38;5;241m.\u001b[39msystem(\u001b[38;5;124m'\u001b[39m\u001b[38;5;124mwget -cq $link\u001b[39m\u001b[38;5;124m'\u001b[39m)\n\u001b[1;32m      7\u001b[0m get_ipython()\u001b[38;5;241m.\u001b[39msystem(\u001b[38;5;124m'\u001b[39m\u001b[38;5;124m./showg -Aq $g6_name $adj_name\u001b[39m\u001b[38;5;124m'\u001b[39m)\n\u001b[0;32m----> 8\u001b[0m adj_matrices\u001b[38;5;241m.\u001b[39mappend(\u001b[43mnp\u001b[49m\u001b[38;5;241;43m.\u001b[39;49m\u001b[43mloadtxt\u001b[49m\u001b[43m(\u001b[49m\u001b[43madj_name\u001b[49m\u001b[43m,\u001b[49m\u001b[43m \u001b[49m\u001b[43mdtype\u001b[49m\u001b[43m \u001b[49m\u001b[38;5;241;43m=\u001b[39;49m\u001b[43m \u001b[49m\u001b[38;5;28;43mint\u001b[39;49m\u001b[43m)\u001b[49m\u001b[38;5;241m.\u001b[39mreshape(\u001b[38;5;241m-\u001b[39m\u001b[38;5;241m1\u001b[39m, i, i))\n",
      "File \u001b[0;32m~/.local/lib/python3.11/site-packages/numpy/lib/npyio.py:1356\u001b[0m, in \u001b[0;36mloadtxt\u001b[0;34m(fname, dtype, comments, delimiter, converters, skiprows, usecols, unpack, ndmin, encoding, max_rows, quotechar, like)\u001b[0m\n\u001b[1;32m   1353\u001b[0m \u001b[38;5;28;01mif\u001b[39;00m \u001b[38;5;28misinstance\u001b[39m(delimiter, \u001b[38;5;28mbytes\u001b[39m):\n\u001b[1;32m   1354\u001b[0m     delimiter \u001b[38;5;241m=\u001b[39m delimiter\u001b[38;5;241m.\u001b[39mdecode(\u001b[38;5;124m'\u001b[39m\u001b[38;5;124mlatin1\u001b[39m\u001b[38;5;124m'\u001b[39m)\n\u001b[0;32m-> 1356\u001b[0m arr \u001b[38;5;241m=\u001b[39m \u001b[43m_read\u001b[49m\u001b[43m(\u001b[49m\u001b[43mfname\u001b[49m\u001b[43m,\u001b[49m\u001b[43m \u001b[49m\u001b[43mdtype\u001b[49m\u001b[38;5;241;43m=\u001b[39;49m\u001b[43mdtype\u001b[49m\u001b[43m,\u001b[49m\u001b[43m \u001b[49m\u001b[43mcomment\u001b[49m\u001b[38;5;241;43m=\u001b[39;49m\u001b[43mcomment\u001b[49m\u001b[43m,\u001b[49m\u001b[43m \u001b[49m\u001b[43mdelimiter\u001b[49m\u001b[38;5;241;43m=\u001b[39;49m\u001b[43mdelimiter\u001b[49m\u001b[43m,\u001b[49m\n\u001b[1;32m   1357\u001b[0m \u001b[43m            \u001b[49m\u001b[43mconverters\u001b[49m\u001b[38;5;241;43m=\u001b[39;49m\u001b[43mconverters\u001b[49m\u001b[43m,\u001b[49m\u001b[43m \u001b[49m\u001b[43mskiplines\u001b[49m\u001b[38;5;241;43m=\u001b[39;49m\u001b[43mskiprows\u001b[49m\u001b[43m,\u001b[49m\u001b[43m \u001b[49m\u001b[43musecols\u001b[49m\u001b[38;5;241;43m=\u001b[39;49m\u001b[43musecols\u001b[49m\u001b[43m,\u001b[49m\n\u001b[1;32m   1358\u001b[0m \u001b[43m            \u001b[49m\u001b[43munpack\u001b[49m\u001b[38;5;241;43m=\u001b[39;49m\u001b[43munpack\u001b[49m\u001b[43m,\u001b[49m\u001b[43m \u001b[49m\u001b[43mndmin\u001b[49m\u001b[38;5;241;43m=\u001b[39;49m\u001b[43mndmin\u001b[49m\u001b[43m,\u001b[49m\u001b[43m \u001b[49m\u001b[43mencoding\u001b[49m\u001b[38;5;241;43m=\u001b[39;49m\u001b[43mencoding\u001b[49m\u001b[43m,\u001b[49m\n\u001b[1;32m   1359\u001b[0m \u001b[43m            \u001b[49m\u001b[43mmax_rows\u001b[49m\u001b[38;5;241;43m=\u001b[39;49m\u001b[43mmax_rows\u001b[49m\u001b[43m,\u001b[49m\u001b[43m \u001b[49m\u001b[43mquote\u001b[49m\u001b[38;5;241;43m=\u001b[39;49m\u001b[43mquotechar\u001b[49m\u001b[43m)\u001b[49m\n\u001b[1;32m   1361\u001b[0m \u001b[38;5;28;01mreturn\u001b[39;00m arr\n",
      "File \u001b[0;32m~/.local/lib/python3.11/site-packages/numpy/lib/npyio.py:975\u001b[0m, in \u001b[0;36m_read\u001b[0;34m(fname, delimiter, comment, quote, imaginary_unit, usecols, skiplines, max_rows, converters, ndmin, unpack, dtype, encoding)\u001b[0m\n\u001b[1;32m    973\u001b[0m     fname \u001b[38;5;241m=\u001b[39m os\u001b[38;5;241m.\u001b[39mfspath(fname)\n\u001b[1;32m    974\u001b[0m \u001b[38;5;28;01mif\u001b[39;00m \u001b[38;5;28misinstance\u001b[39m(fname, \u001b[38;5;28mstr\u001b[39m):\n\u001b[0;32m--> 975\u001b[0m     fh \u001b[38;5;241m=\u001b[39m \u001b[43mnp\u001b[49m\u001b[38;5;241;43m.\u001b[39;49m\u001b[43mlib\u001b[49m\u001b[38;5;241;43m.\u001b[39;49m\u001b[43m_datasource\u001b[49m\u001b[38;5;241;43m.\u001b[39;49m\u001b[43mopen\u001b[49m\u001b[43m(\u001b[49m\u001b[43mfname\u001b[49m\u001b[43m,\u001b[49m\u001b[43m \u001b[49m\u001b[38;5;124;43m'\u001b[39;49m\u001b[38;5;124;43mrt\u001b[39;49m\u001b[38;5;124;43m'\u001b[39;49m\u001b[43m,\u001b[49m\u001b[43m \u001b[49m\u001b[43mencoding\u001b[49m\u001b[38;5;241;43m=\u001b[39;49m\u001b[43mencoding\u001b[49m\u001b[43m)\u001b[49m\n\u001b[1;32m    976\u001b[0m     \u001b[38;5;28;01mif\u001b[39;00m encoding \u001b[38;5;129;01mis\u001b[39;00m \u001b[38;5;28;01mNone\u001b[39;00m:\n\u001b[1;32m    977\u001b[0m         encoding \u001b[38;5;241m=\u001b[39m \u001b[38;5;28mgetattr\u001b[39m(fh, \u001b[38;5;124m'\u001b[39m\u001b[38;5;124mencoding\u001b[39m\u001b[38;5;124m'\u001b[39m, \u001b[38;5;124m'\u001b[39m\u001b[38;5;124mlatin1\u001b[39m\u001b[38;5;124m'\u001b[39m)\n",
      "File \u001b[0;32m~/.local/lib/python3.11/site-packages/numpy/lib/_datasource.py:193\u001b[0m, in \u001b[0;36mopen\u001b[0;34m(path, mode, destpath, encoding, newline)\u001b[0m\n\u001b[1;32m    156\u001b[0m \u001b[38;5;250m\u001b[39m\u001b[38;5;124;03m\"\"\"\u001b[39;00m\n\u001b[1;32m    157\u001b[0m \u001b[38;5;124;03mOpen `path` with `mode` and return the file object.\u001b[39;00m\n\u001b[1;32m    158\u001b[0m \n\u001b[0;32m   (...)\u001b[0m\n\u001b[1;32m    189\u001b[0m \n\u001b[1;32m    190\u001b[0m \u001b[38;5;124;03m\"\"\"\u001b[39;00m\n\u001b[1;32m    192\u001b[0m ds \u001b[38;5;241m=\u001b[39m DataSource(destpath)\n\u001b[0;32m--> 193\u001b[0m \u001b[38;5;28;01mreturn\u001b[39;00m \u001b[43mds\u001b[49m\u001b[38;5;241;43m.\u001b[39;49m\u001b[43mopen\u001b[49m\u001b[43m(\u001b[49m\u001b[43mpath\u001b[49m\u001b[43m,\u001b[49m\u001b[43m \u001b[49m\u001b[43mmode\u001b[49m\u001b[43m,\u001b[49m\u001b[43m \u001b[49m\u001b[43mencoding\u001b[49m\u001b[38;5;241;43m=\u001b[39;49m\u001b[43mencoding\u001b[49m\u001b[43m,\u001b[49m\u001b[43m \u001b[49m\u001b[43mnewline\u001b[49m\u001b[38;5;241;43m=\u001b[39;49m\u001b[43mnewline\u001b[49m\u001b[43m)\u001b[49m\n",
      "File \u001b[0;32m~/.local/lib/python3.11/site-packages/numpy/lib/_datasource.py:533\u001b[0m, in \u001b[0;36mDataSource.open\u001b[0;34m(self, path, mode, encoding, newline)\u001b[0m\n\u001b[1;32m    530\u001b[0m     \u001b[38;5;28;01mreturn\u001b[39;00m _file_openers[ext](found, mode\u001b[38;5;241m=\u001b[39mmode,\n\u001b[1;32m    531\u001b[0m                               encoding\u001b[38;5;241m=\u001b[39mencoding, newline\u001b[38;5;241m=\u001b[39mnewline)\n\u001b[1;32m    532\u001b[0m \u001b[38;5;28;01melse\u001b[39;00m:\n\u001b[0;32m--> 533\u001b[0m     \u001b[38;5;28;01mraise\u001b[39;00m \u001b[38;5;167;01mFileNotFoundError\u001b[39;00m(\u001b[38;5;124mf\u001b[39m\u001b[38;5;124m\"\u001b[39m\u001b[38;5;132;01m{\u001b[39;00mpath\u001b[38;5;132;01m}\u001b[39;00m\u001b[38;5;124m not found.\u001b[39m\u001b[38;5;124m\"\u001b[39m)\n",
      "\u001b[0;31mFileNotFoundError\u001b[0m: graph10.adj not found."
     ]
    }
   ],
   "source": [
    "adj_matrices = []\n",
    "for i in range(2, 10):\n",
    "    g6_name = f'graph{i}.g6'\n",
    "    adj_name = f'graph{i}.adj'\n",
    "    link = f'https://users.cecs.anu.edu.au/~bdm/data/{g6_name}'\n",
    "    !wget -cq $link\n",
    "    !./showg -Aq $g6_name $adj_name\n",
    "    adj_matrices.append(np.loadtxt(adj_name, dtype = int).reshape(-1, i, i))"
   ]
  },
  {
   "cell_type": "code",
   "execution_count": 8,
   "id": "3ada65d8-089f-41ee-a63c-d181cd7764a3",
   "metadata": {
    "collapsed": true,
    "jupyter": {
     "outputs_hidden": true
    },
    "tags": []
   },
   "outputs": [
    {
     "data": {
      "text/plain": [
       "[array([[[0, 0],\n",
       "         [0, 0]],\n",
       " \n",
       "        [[0, 1],\n",
       "         [1, 0]]]),\n",
       " array([[[0, 0, 0],\n",
       "         [0, 0, 0],\n",
       "         [0, 0, 0]],\n",
       " \n",
       "        [[0, 0, 1],\n",
       "         [0, 0, 0],\n",
       "         [1, 0, 0]],\n",
       " \n",
       "        [[0, 0, 1],\n",
       "         [0, 0, 1],\n",
       "         [1, 1, 0]],\n",
       " \n",
       "        [[0, 1, 1],\n",
       "         [1, 0, 1],\n",
       "         [1, 1, 0]]]),\n",
       " array([[[0, 0, 0, 0],\n",
       "         [0, 0, 0, 0],\n",
       "         [0, 0, 0, 0],\n",
       "         [0, 0, 0, 0]],\n",
       " \n",
       "        [[0, 0, 0, 1],\n",
       "         [0, 0, 0, 0],\n",
       "         [0, 0, 0, 0],\n",
       "         [1, 0, 0, 0]],\n",
       " \n",
       "        [[0, 0, 0, 1],\n",
       "         [0, 0, 0, 1],\n",
       "         [0, 0, 0, 0],\n",
       "         [1, 1, 0, 0]],\n",
       " \n",
       "        [[0, 0, 0, 1],\n",
       "         [0, 0, 0, 1],\n",
       "         [0, 0, 0, 1],\n",
       "         [1, 1, 1, 0]],\n",
       " \n",
       "        [[0, 0, 1, 0],\n",
       "         [0, 0, 0, 1],\n",
       "         [1, 0, 0, 0],\n",
       "         [0, 1, 0, 0]],\n",
       " \n",
       "        [[0, 0, 1, 1],\n",
       "         [0, 0, 0, 0],\n",
       "         [1, 0, 0, 1],\n",
       "         [1, 0, 1, 0]],\n",
       " \n",
       "        [[0, 0, 1, 1],\n",
       "         [0, 0, 0, 1],\n",
       "         [1, 0, 0, 0],\n",
       "         [1, 1, 0, 0]],\n",
       " \n",
       "        [[0, 0, 1, 1],\n",
       "         [0, 0, 0, 1],\n",
       "         [1, 0, 0, 1],\n",
       "         [1, 1, 1, 0]],\n",
       " \n",
       "        [[0, 0, 1, 1],\n",
       "         [0, 0, 1, 1],\n",
       "         [1, 1, 0, 0],\n",
       "         [1, 1, 0, 0]],\n",
       " \n",
       "        [[0, 0, 1, 1],\n",
       "         [0, 0, 1, 1],\n",
       "         [1, 1, 0, 1],\n",
       "         [1, 1, 1, 0]],\n",
       " \n",
       "        [[0, 1, 1, 1],\n",
       "         [1, 0, 1, 1],\n",
       "         [1, 1, 0, 1],\n",
       "         [1, 1, 1, 0]]]),\n",
       " array([[[0, 0, 0, 0, 0],\n",
       "         [0, 0, 0, 0, 0],\n",
       "         [0, 0, 0, 0, 0],\n",
       "         [0, 0, 0, 0, 0],\n",
       "         [0, 0, 0, 0, 0]],\n",
       " \n",
       "        [[0, 0, 0, 0, 1],\n",
       "         [0, 0, 0, 0, 0],\n",
       "         [0, 0, 0, 0, 0],\n",
       "         [0, 0, 0, 0, 0],\n",
       "         [1, 0, 0, 0, 0]],\n",
       " \n",
       "        [[0, 0, 0, 0, 1],\n",
       "         [0, 0, 0, 0, 1],\n",
       "         [0, 0, 0, 0, 0],\n",
       "         [0, 0, 0, 0, 0],\n",
       "         [1, 1, 0, 0, 0]],\n",
       " \n",
       "        [[0, 0, 0, 0, 1],\n",
       "         [0, 0, 0, 0, 1],\n",
       "         [0, 0, 0, 0, 1],\n",
       "         [0, 0, 0, 0, 0],\n",
       "         [1, 1, 1, 0, 0]],\n",
       " \n",
       "        [[0, 0, 0, 0, 1],\n",
       "         [0, 0, 0, 0, 1],\n",
       "         [0, 0, 0, 0, 1],\n",
       "         [0, 0, 0, 0, 1],\n",
       "         [1, 1, 1, 1, 0]],\n",
       " \n",
       "        [[0, 0, 0, 1, 0],\n",
       "         [0, 0, 0, 0, 1],\n",
       "         [0, 0, 0, 0, 0],\n",
       "         [1, 0, 0, 0, 0],\n",
       "         [0, 1, 0, 0, 0]],\n",
       " \n",
       "        [[0, 0, 0, 1, 0],\n",
       "         [0, 0, 0, 0, 1],\n",
       "         [0, 0, 0, 0, 1],\n",
       "         [1, 0, 0, 0, 0],\n",
       "         [0, 1, 1, 0, 0]],\n",
       " \n",
       "        [[0, 0, 0, 1, 1],\n",
       "         [0, 0, 0, 0, 0],\n",
       "         [0, 0, 0, 0, 0],\n",
       "         [1, 0, 0, 0, 1],\n",
       "         [1, 0, 0, 1, 0]],\n",
       " \n",
       "        [[0, 0, 0, 1, 1],\n",
       "         [0, 0, 0, 0, 1],\n",
       "         [0, 0, 0, 0, 0],\n",
       "         [1, 0, 0, 0, 0],\n",
       "         [1, 1, 0, 0, 0]],\n",
       " \n",
       "        [[0, 0, 0, 1, 1],\n",
       "         [0, 0, 0, 0, 1],\n",
       "         [0, 0, 0, 0, 0],\n",
       "         [1, 0, 0, 0, 1],\n",
       "         [1, 1, 0, 1, 0]],\n",
       " \n",
       "        [[0, 0, 0, 1, 1],\n",
       "         [0, 0, 0, 0, 1],\n",
       "         [0, 0, 0, 0, 1],\n",
       "         [1, 0, 0, 0, 0],\n",
       "         [1, 1, 1, 0, 0]],\n",
       " \n",
       "        [[0, 0, 0, 1, 1],\n",
       "         [0, 0, 0, 0, 1],\n",
       "         [0, 0, 0, 0, 1],\n",
       "         [1, 0, 0, 0, 1],\n",
       "         [1, 1, 1, 1, 0]],\n",
       " \n",
       "        [[0, 0, 0, 1, 1],\n",
       "         [0, 0, 0, 1, 0],\n",
       "         [0, 0, 0, 0, 1],\n",
       "         [1, 1, 0, 0, 1],\n",
       "         [1, 0, 1, 1, 0]],\n",
       " \n",
       "        [[0, 0, 0, 1, 1],\n",
       "         [0, 0, 0, 1, 1],\n",
       "         [0, 0, 0, 0, 0],\n",
       "         [1, 1, 0, 0, 0],\n",
       "         [1, 1, 0, 0, 0]],\n",
       " \n",
       "        [[0, 0, 0, 1, 1],\n",
       "         [0, 0, 0, 1, 1],\n",
       "         [0, 0, 0, 0, 0],\n",
       "         [1, 1, 0, 0, 1],\n",
       "         [1, 1, 0, 1, 0]],\n",
       " \n",
       "        [[0, 0, 0, 1, 1],\n",
       "         [0, 0, 0, 1, 1],\n",
       "         [0, 0, 0, 0, 1],\n",
       "         [1, 1, 0, 0, 0],\n",
       "         [1, 1, 1, 0, 0]],\n",
       " \n",
       "        [[0, 0, 0, 1, 1],\n",
       "         [0, 0, 0, 1, 1],\n",
       "         [0, 0, 0, 0, 1],\n",
       "         [1, 1, 0, 0, 1],\n",
       "         [1, 1, 1, 1, 0]],\n",
       " \n",
       "        [[0, 0, 0, 1, 1],\n",
       "         [0, 0, 0, 1, 1],\n",
       "         [0, 0, 0, 1, 1],\n",
       "         [1, 1, 1, 0, 0],\n",
       "         [1, 1, 1, 0, 0]],\n",
       " \n",
       "        [[0, 0, 0, 1, 1],\n",
       "         [0, 0, 0, 1, 1],\n",
       "         [0, 0, 0, 1, 1],\n",
       "         [1, 1, 1, 0, 1],\n",
       "         [1, 1, 1, 1, 0]],\n",
       " \n",
       "        [[0, 0, 1, 0, 1],\n",
       "         [0, 0, 0, 1, 0],\n",
       "         [1, 0, 0, 0, 1],\n",
       "         [0, 1, 0, 0, 0],\n",
       "         [1, 0, 1, 0, 0]],\n",
       " \n",
       "        [[0, 0, 1, 0, 1],\n",
       "         [0, 0, 0, 1, 1],\n",
       "         [1, 0, 0, 0, 0],\n",
       "         [0, 1, 0, 0, 0],\n",
       "         [1, 1, 0, 0, 0]],\n",
       " \n",
       "        [[0, 0, 1, 0, 1],\n",
       "         [0, 0, 0, 1, 1],\n",
       "         [1, 0, 0, 0, 1],\n",
       "         [0, 1, 0, 0, 0],\n",
       "         [1, 1, 1, 0, 0]],\n",
       " \n",
       "        [[0, 0, 1, 0, 1],\n",
       "         [0, 0, 0, 1, 1],\n",
       "         [1, 0, 0, 0, 1],\n",
       "         [0, 1, 0, 0, 1],\n",
       "         [1, 1, 1, 1, 0]],\n",
       " \n",
       "        [[0, 0, 1, 1, 1],\n",
       "         [0, 0, 0, 0, 0],\n",
       "         [1, 0, 0, 1, 1],\n",
       "         [1, 0, 1, 0, 1],\n",
       "         [1, 0, 1, 1, 0]],\n",
       " \n",
       "        [[0, 0, 1, 1, 1],\n",
       "         [0, 0, 0, 0, 1],\n",
       "         [1, 0, 0, 1, 1],\n",
       "         [1, 0, 1, 0, 0],\n",
       "         [1, 1, 1, 0, 0]],\n",
       " \n",
       "        [[0, 0, 1, 1, 1],\n",
       "         [0, 0, 0, 0, 1],\n",
       "         [1, 0, 0, 1, 1],\n",
       "         [1, 0, 1, 0, 1],\n",
       "         [1, 1, 1, 1, 0]],\n",
       " \n",
       "        [[0, 0, 1, 1, 0],\n",
       "         [0, 0, 0, 1, 1],\n",
       "         [1, 0, 0, 0, 1],\n",
       "         [1, 1, 0, 0, 0],\n",
       "         [0, 1, 1, 0, 0]],\n",
       " \n",
       "        [[0, 0, 1, 1, 1],\n",
       "         [0, 0, 0, 1, 1],\n",
       "         [1, 0, 0, 0, 1],\n",
       "         [1, 1, 0, 0, 0],\n",
       "         [1, 1, 1, 0, 0]],\n",
       " \n",
       "        [[0, 0, 1, 1, 1],\n",
       "         [0, 0, 0, 1, 1],\n",
       "         [1, 0, 0, 0, 1],\n",
       "         [1, 1, 0, 0, 1],\n",
       "         [1, 1, 1, 1, 0]],\n",
       " \n",
       "        [[0, 0, 1, 1, 1],\n",
       "         [0, 0, 0, 1, 1],\n",
       "         [1, 0, 0, 1, 1],\n",
       "         [1, 1, 1, 0, 1],\n",
       "         [1, 1, 1, 1, 0]],\n",
       " \n",
       "        [[0, 0, 1, 1, 1],\n",
       "         [0, 0, 1, 1, 1],\n",
       "         [1, 1, 0, 0, 1],\n",
       "         [1, 1, 0, 0, 0],\n",
       "         [1, 1, 1, 0, 0]],\n",
       " \n",
       "        [[0, 0, 1, 1, 1],\n",
       "         [0, 0, 1, 1, 1],\n",
       "         [1, 1, 0, 0, 1],\n",
       "         [1, 1, 0, 0, 1],\n",
       "         [1, 1, 1, 1, 0]],\n",
       " \n",
       "        [[0, 0, 1, 1, 1],\n",
       "         [0, 0, 1, 1, 1],\n",
       "         [1, 1, 0, 1, 1],\n",
       "         [1, 1, 1, 0, 1],\n",
       "         [1, 1, 1, 1, 0]],\n",
       " \n",
       "        [[0, 1, 1, 1, 1],\n",
       "         [1, 0, 1, 1, 1],\n",
       "         [1, 1, 0, 1, 1],\n",
       "         [1, 1, 1, 0, 1],\n",
       "         [1, 1, 1, 1, 0]]]),\n",
       " array([[[0, 0, 0, 0, 0, 0],\n",
       "         [0, 0, 0, 0, 0, 0],\n",
       "         [0, 0, 0, 0, 0, 0],\n",
       "         [0, 0, 0, 0, 0, 0],\n",
       "         [0, 0, 0, 0, 0, 0],\n",
       "         [0, 0, 0, 0, 0, 0]],\n",
       " \n",
       "        [[0, 0, 0, 0, 0, 1],\n",
       "         [0, 0, 0, 0, 0, 0],\n",
       "         [0, 0, 0, 0, 0, 0],\n",
       "         [0, 0, 0, 0, 0, 0],\n",
       "         [0, 0, 0, 0, 0, 0],\n",
       "         [1, 0, 0, 0, 0, 0]],\n",
       " \n",
       "        [[0, 0, 0, 0, 0, 1],\n",
       "         [0, 0, 0, 0, 0, 1],\n",
       "         [0, 0, 0, 0, 0, 0],\n",
       "         [0, 0, 0, 0, 0, 0],\n",
       "         [0, 0, 0, 0, 0, 0],\n",
       "         [1, 1, 0, 0, 0, 0]],\n",
       " \n",
       "        ...,\n",
       " \n",
       "        [[0, 0, 1, 1, 1, 1],\n",
       "         [0, 0, 1, 1, 1, 1],\n",
       "         [1, 1, 0, 0, 1, 1],\n",
       "         [1, 1, 0, 0, 1, 1],\n",
       "         [1, 1, 1, 1, 0, 1],\n",
       "         [1, 1, 1, 1, 1, 0]],\n",
       " \n",
       "        [[0, 0, 1, 1, 1, 1],\n",
       "         [0, 0, 1, 1, 1, 1],\n",
       "         [1, 1, 0, 1, 1, 1],\n",
       "         [1, 1, 1, 0, 1, 1],\n",
       "         [1, 1, 1, 1, 0, 1],\n",
       "         [1, 1, 1, 1, 1, 0]],\n",
       " \n",
       "        [[0, 1, 1, 1, 1, 1],\n",
       "         [1, 0, 1, 1, 1, 1],\n",
       "         [1, 1, 0, 1, 1, 1],\n",
       "         [1, 1, 1, 0, 1, 1],\n",
       "         [1, 1, 1, 1, 0, 1],\n",
       "         [1, 1, 1, 1, 1, 0]]]),\n",
       " array([[[0, 0, 0, ..., 0, 0, 0],\n",
       "         [0, 0, 0, ..., 0, 0, 0],\n",
       "         [0, 0, 0, ..., 0, 0, 0],\n",
       "         ...,\n",
       "         [0, 0, 0, ..., 0, 0, 0],\n",
       "         [0, 0, 0, ..., 0, 0, 0],\n",
       "         [0, 0, 0, ..., 0, 0, 0]],\n",
       " \n",
       "        [[0, 0, 0, ..., 0, 0, 1],\n",
       "         [0, 0, 0, ..., 0, 0, 0],\n",
       "         [0, 0, 0, ..., 0, 0, 0],\n",
       "         ...,\n",
       "         [0, 0, 0, ..., 0, 0, 0],\n",
       "         [0, 0, 0, ..., 0, 0, 0],\n",
       "         [1, 0, 0, ..., 0, 0, 0]],\n",
       " \n",
       "        [[0, 0, 0, ..., 0, 0, 1],\n",
       "         [0, 0, 0, ..., 0, 0, 1],\n",
       "         [0, 0, 0, ..., 0, 0, 0],\n",
       "         ...,\n",
       "         [0, 0, 0, ..., 0, 0, 0],\n",
       "         [0, 0, 0, ..., 0, 0, 0],\n",
       "         [1, 1, 0, ..., 0, 0, 0]],\n",
       " \n",
       "        ...,\n",
       " \n",
       "        [[0, 0, 1, ..., 1, 1, 1],\n",
       "         [0, 0, 1, ..., 1, 1, 1],\n",
       "         [1, 1, 0, ..., 1, 1, 1],\n",
       "         ...,\n",
       "         [1, 1, 1, ..., 0, 1, 1],\n",
       "         [1, 1, 1, ..., 1, 0, 1],\n",
       "         [1, 1, 1, ..., 1, 1, 0]],\n",
       " \n",
       "        [[0, 0, 1, ..., 1, 1, 1],\n",
       "         [0, 0, 1, ..., 1, 1, 1],\n",
       "         [1, 1, 0, ..., 1, 1, 1],\n",
       "         ...,\n",
       "         [1, 1, 1, ..., 0, 1, 1],\n",
       "         [1, 1, 1, ..., 1, 0, 1],\n",
       "         [1, 1, 1, ..., 1, 1, 0]],\n",
       " \n",
       "        [[0, 1, 1, ..., 1, 1, 1],\n",
       "         [1, 0, 1, ..., 1, 1, 1],\n",
       "         [1, 1, 0, ..., 1, 1, 1],\n",
       "         ...,\n",
       "         [1, 1, 1, ..., 0, 1, 1],\n",
       "         [1, 1, 1, ..., 1, 0, 1],\n",
       "         [1, 1, 1, ..., 1, 1, 0]]]),\n",
       " array([[[0, 0, 0, ..., 0, 0, 0],\n",
       "         [0, 0, 0, ..., 0, 0, 0],\n",
       "         [0, 0, 0, ..., 0, 0, 0],\n",
       "         ...,\n",
       "         [0, 0, 0, ..., 0, 0, 0],\n",
       "         [0, 0, 0, ..., 0, 0, 0],\n",
       "         [0, 0, 0, ..., 0, 0, 0]],\n",
       " \n",
       "        [[0, 0, 0, ..., 0, 0, 1],\n",
       "         [0, 0, 0, ..., 0, 0, 0],\n",
       "         [0, 0, 0, ..., 0, 0, 0],\n",
       "         ...,\n",
       "         [0, 0, 0, ..., 0, 0, 0],\n",
       "         [0, 0, 0, ..., 0, 0, 0],\n",
       "         [1, 0, 0, ..., 0, 0, 0]],\n",
       " \n",
       "        [[0, 0, 0, ..., 0, 0, 1],\n",
       "         [0, 0, 0, ..., 0, 0, 1],\n",
       "         [0, 0, 0, ..., 0, 0, 0],\n",
       "         ...,\n",
       "         [0, 0, 0, ..., 0, 0, 0],\n",
       "         [0, 0, 0, ..., 0, 0, 0],\n",
       "         [1, 1, 0, ..., 0, 0, 0]],\n",
       " \n",
       "        ...,\n",
       " \n",
       "        [[0, 0, 1, ..., 1, 1, 1],\n",
       "         [0, 0, 1, ..., 1, 1, 1],\n",
       "         [1, 1, 0, ..., 1, 1, 1],\n",
       "         ...,\n",
       "         [1, 1, 1, ..., 0, 1, 1],\n",
       "         [1, 1, 1, ..., 1, 0, 1],\n",
       "         [1, 1, 1, ..., 1, 1, 0]],\n",
       " \n",
       "        [[0, 0, 1, ..., 1, 1, 1],\n",
       "         [0, 0, 1, ..., 1, 1, 1],\n",
       "         [1, 1, 0, ..., 1, 1, 1],\n",
       "         ...,\n",
       "         [1, 1, 1, ..., 0, 1, 1],\n",
       "         [1, 1, 1, ..., 1, 0, 1],\n",
       "         [1, 1, 1, ..., 1, 1, 0]],\n",
       " \n",
       "        [[0, 1, 1, ..., 1, 1, 1],\n",
       "         [1, 0, 1, ..., 1, 1, 1],\n",
       "         [1, 1, 0, ..., 1, 1, 1],\n",
       "         ...,\n",
       "         [1, 1, 1, ..., 0, 1, 1],\n",
       "         [1, 1, 1, ..., 1, 0, 1],\n",
       "         [1, 1, 1, ..., 1, 1, 0]]]),\n",
       " array([[[0, 0, 0, ..., 0, 0, 0],\n",
       "         [0, 0, 0, ..., 0, 0, 0],\n",
       "         [0, 0, 0, ..., 0, 0, 0],\n",
       "         ...,\n",
       "         [0, 0, 0, ..., 0, 0, 0],\n",
       "         [0, 0, 0, ..., 0, 0, 0],\n",
       "         [0, 0, 0, ..., 0, 0, 0]],\n",
       " \n",
       "        [[0, 0, 0, ..., 0, 0, 1],\n",
       "         [0, 0, 0, ..., 0, 0, 0],\n",
       "         [0, 0, 0, ..., 0, 0, 0],\n",
       "         ...,\n",
       "         [0, 0, 0, ..., 0, 0, 0],\n",
       "         [0, 0, 0, ..., 0, 0, 0],\n",
       "         [1, 0, 0, ..., 0, 0, 0]],\n",
       " \n",
       "        [[0, 0, 0, ..., 0, 0, 1],\n",
       "         [0, 0, 0, ..., 0, 0, 1],\n",
       "         [0, 0, 0, ..., 0, 0, 0],\n",
       "         ...,\n",
       "         [0, 0, 0, ..., 0, 0, 0],\n",
       "         [0, 0, 0, ..., 0, 0, 0],\n",
       "         [1, 1, 0, ..., 0, 0, 0]],\n",
       " \n",
       "        ...,\n",
       " \n",
       "        [[0, 0, 1, ..., 1, 1, 1],\n",
       "         [0, 0, 1, ..., 1, 1, 1],\n",
       "         [1, 1, 0, ..., 1, 1, 1],\n",
       "         ...,\n",
       "         [1, 1, 1, ..., 0, 1, 1],\n",
       "         [1, 1, 1, ..., 1, 0, 1],\n",
       "         [1, 1, 1, ..., 1, 1, 0]],\n",
       " \n",
       "        [[0, 0, 1, ..., 1, 1, 1],\n",
       "         [0, 0, 1, ..., 1, 1, 1],\n",
       "         [1, 1, 0, ..., 1, 1, 1],\n",
       "         ...,\n",
       "         [1, 1, 1, ..., 0, 1, 1],\n",
       "         [1, 1, 1, ..., 1, 0, 1],\n",
       "         [1, 1, 1, ..., 1, 1, 0]],\n",
       " \n",
       "        [[0, 1, 1, ..., 1, 1, 1],\n",
       "         [1, 0, 1, ..., 1, 1, 1],\n",
       "         [1, 1, 0, ..., 1, 1, 1],\n",
       "         ...,\n",
       "         [1, 1, 1, ..., 0, 1, 1],\n",
       "         [1, 1, 1, ..., 1, 0, 1],\n",
       "         [1, 1, 1, ..., 1, 1, 0]]])]"
      ]
     },
     "execution_count": 8,
     "metadata": {},
     "output_type": "execute_result"
    }
   ],
   "source": [
    "adj_matrices"
   ]
  },
  {
   "cell_type": "code",
   "execution_count": 8,
   "id": "6c74c027-7b30-48d7-96bf-8e9e8ad57580",
   "metadata": {
    "tags": []
   },
   "outputs": [],
   "source": [
    "def PPbij(Graph):\n",
    " n = max(Graph[i].sum() for i in range(len(Graph)))\n",
    " V = len(Graph)\n",
    " PPP = np.poly1d([])\n",
    " PPQ = np.poly1d([])\n",
    "\n",
    " Graphi = np.zeros(V*V).reshape(V,V)\n",
    " left = V\n",
    " cycles = 0\n",
    " i = 0\n",
    " while np.array_equal(Graphi, Graph) == 0:\n",
    "     for a in range(V):\n",
    "         for b in range(V):\n",
    "             macs = max(Graph[a].sum(), Graph[b].sum())\n",
    "             mi = min(Graph[a].sum(), Graph[b].sum())\n",
    "             if int(macs*(macs-1)/2) + mi == i:\n",
    "                 Graphi[a][b] = Graph[a][b]\n",
    "     comps = connected_components(Graphi)[0]\n",
    "     PPP[i] = left - comps\n",
    "     left = left - (left - comps)\n",
    "     PPQ[i] = Graphi.sum()/2 - V + comps - cycles\n",
    "     cycles = Graphi.sum()/2 - V + comps\n",
    "     i += 1\n",
    " PPP[i] = left\n",
    " PPP = tuple(PPP)\n",
    " PPQ = list(PPQ)\n",
    " for i in range(len(PPQ)):\n",
    "     if PPQ[0] == 0:\n",
    "         PPQ = PPQ[1:]\n",
    " PPQ = tuple(PPQ)\n",
    " polys = (PPP, PPQ)\n",
    " return polys, Graph\n"
   ]
  },
  {
   "cell_type": "code",
   "execution_count": 55,
   "id": "f54698d2-1430-4fc5-beaa-b2158544957d",
   "metadata": {
    "tags": []
   },
   "outputs": [],
   "source": [
    "\n",
    "def PPfastprobs(Graph, iters):\n",
    "    if isinstance(Graph, np.ndarray):\n",
    "        G = nx.from_numpy_array(Graph)\n",
    "    else:\n",
    "        G = Graph\n",
    "    L = nx.line_graph(G)\n",
    "    edges = np.array(L.nodes())\n",
    "    C = nx.to_numpy_array(L)\n",
    "    #C = C + np.diag(np.ones(len(C)))\n",
    "    \n",
    "    C[np.diag(np.all(C==0, axis=0))]=1\n",
    "    C=C/C.sum(axis=0)\n",
    "    \n",
    "    Matprobs=C.copy()\n",
    "    \n",
    "    allpolys=[]\n",
    "    for k in range(iters):\n",
    "        times = []\n",
    "        retprobs = np.diag(Matprobs)\n",
    "        for i in range(len(retprobs)):\n",
    "            els = set()\n",
    "            for j in retprobs:\n",
    "                if j < retprobs[i]:\n",
    "                    els.add(j)\n",
    "            times.append(len(els))\n",
    "        times = np.array(times, dtype=np.int32)\n",
    "        PPP, PPQ  = increasing_components(G.number_of_nodes(), *(edges[times == i] for i in range(times.max(initial=-1) + 1)))\n",
    "        # PPP = np.poly1d(PPP, dtype=np.uint8)\n",
    "        # PPQ = np.poly1d(PPQ, dtype=np.uint8)\n",
    "        PPP = np.array(PPP, dtype=np.uint8)\n",
    "        PPQ = np.array(PPQ, dtype=np.uint8)\n",
    "       \n",
    "        PPP = tuple(PPP)\n",
    "        PPQ = list(PPQ)\n",
    "        for i in range(len(PPQ)):\n",
    "            if PPQ[0] == 0:\n",
    "                PPQ = PPQ[1:]\n",
    "        PPQ = tuple(PPQ)\n",
    "        polys = (PPP, PPQ)\n",
    "        allpolys.append(polys)\n",
    "        Matprobs=np.matmul(Matprobs,C)\n",
    "    return tuple(allpolys), Graph\n",
    "\n",
    "def job(i, maxdeg):\n",
    "\n",
    "    polyslist = []\n",
    "    # polys, Graph = PPbij(i)\n",
    "    # polyslist.append(polys)\n",
    "    \n",
    "    # for t in []:\n",
    "    #     polys, Graph = PPfromrandict(i, t)\n",
    "    #     polyslist.append(polys)\n",
    "    \n",
    "    polys, Graph = PPfastprobs(i, maxdeg)\n",
    "    polyslist.append(polys)\n",
    "    \n",
    "    counts = np.unique(sum(i), return_counts=True)\n",
    "    coord = 0\n",
    "    for t in range(len(i)):\n",
    "        if len(counts[0]) > coord:\n",
    "            if counts[0][coord]==t:\n",
    "                polyslist.append(counts[1][coord])\n",
    "                coord += 1\n",
    "            else:\n",
    "                polyslist.append(0)\n",
    "        else: \n",
    "            polyslist.append(0)\n",
    "        \n",
    "        \n",
    "    polyslist = tuple((polyslist))\n",
    "    # for t in range(2, 100):\n",
    "    #     polys, Graph = PPprobs(i, t)\n",
    "    #     polyslist.append(polys)\n",
    "    \n",
    "    return polyslist, i"
   ]
  },
  {
   "cell_type": "code",
   "execution_count": 56,
   "id": "8b44cfee-0614-4499-ab6f-12997bf02831",
   "metadata": {
    "tags": []
   },
   "outputs": [
    {
     "data": {
      "application/vnd.jupyter.widget-view+json": {
       "model_id": "e23fa631b38e41f190ad626567de161a",
       "version_major": 2,
       "version_minor": 0
      },
      "text/plain": [
       "  0%|          | 0/11 [00:00<?, ?it/s]"
      ]
     },
     "metadata": {},
     "output_type": "display_data"
    },
    {
     "name": "stdout",
     "output_type": "stream",
     "text": [
      "From 11 graphs on 4 vertices\n",
      "number of equivalence classes is 11\n",
      "probability to distinguish two random graphs from dataset is 1.0\n",
      "CPU times: user 14 ms, sys: 1.55 s, total: 1.56 s\n",
      "Wall time: 1.8 s\n"
     ]
    }
   ],
   "source": [
    "%%time\n",
    "for j in np.arange(2,3):\n",
    "\n",
    "    Polynomials = defaultdict(list)\n",
    "    for a, b in process_map(job, adj_matrices[j], repeat(3), chunksize=max(1, int(len(adj_matrices[j])/100))):\n",
    "        Polynomials[a].append(b)\n",
    "\n",
    "        \n",
    "        \n",
    "    print('From ' + str(len(adj_matrices[j])) + ' graphs on', j+2, 'vertices')\n",
    "    negprob = 0\n",
    "    for i in Polynomials:\n",
    "        negprob += comb(len(Polynomials[i]), 2)\n",
    "    print('number of equivalence classes is ' + str(len(Polynomials)) )\n",
    "    print('probability to distinguish two random graphs from dataset is ' + str(1 - negprob/comb(len(adj_matrices[j]), 2)))\n"
   ]
  },
  {
   "cell_type": "code",
   "execution_count": 11,
   "id": "fdadc167-5e2b-45c7-8eb7-977ee8ebe440",
   "metadata": {
    "tags": []
   },
   "outputs": [],
   "source": [
    "Graphsleft=[]\n",
    "for i in Polynomials:\n",
    "    if len(Polynomials[i])>1:\n",
    "        for g in Polynomials[i]:\n",
    "            Graphsleft.append(g)"
   ]
  },
  {
   "cell_type": "code",
   "execution_count": 28,
   "id": "9268780a-3549-4063-951b-8ff4ba9615e3",
   "metadata": {
    "tags": []
   },
   "outputs": [
    {
     "name": "stdout",
     "output_type": "stream",
     "text": [
      "1389\n"
     ]
    },
    {
     "data": {
      "application/vnd.jupyter.widget-view+json": {
       "model_id": "941fb237035145f5a503d70314cdee50",
       "version_major": 2,
       "version_minor": 0
      },
      "text/plain": [
       "  0%|          | 0/1389 [00:00<?, ?it/s]"
      ]
     },
     "metadata": {},
     "output_type": "display_data"
    },
    {
     "name": "stdout",
     "output_type": "stream",
     "text": [
      "From 1389 graphs on 9 vertices\n",
      "number of equivalence classes is 1389\n",
      "probability to distinguish two random graphs from dataset is 1.0\n"
     ]
    }
   ],
   "source": [
    "print(len(Graphsleft))\n",
    "Polynomials = defaultdict(list)\n",
    "for a, b in process_map(job, Graphsleft, repeat(102), chunksize=max(1, int(len(Graphsleft)/100))):\n",
    "    Polynomials[a].append(b)\n",
    "\n",
    "\n",
    "\n",
    "print('From ' + str(len(Graphsleft)) + ' graphs on', j+2, 'vertices')\n",
    "negprob = 0\n",
    "for i in Polynomials:\n",
    "    negprob += comb(len(Polynomials[i]), 2)\n",
    "print('number of equivalence classes is ' + str(len(Polynomials)) )\n",
    "print('probability to distinguish two random graphs from dataset is ' + str(1 - negprob/comb(len(Graphsleft), 2)))"
   ]
  },
  {
   "cell_type": "code",
   "execution_count": 194,
   "id": "ee76841a-e28f-4e21-8835-c6c9c769df6b",
   "metadata": {
    "tags": []
   },
   "outputs": [
    {
     "name": "stdout",
     "output_type": "stream",
     "text": [
      "[array([[0, 0, 0, 0, 1, 1, 0],\n",
      "       [0, 0, 0, 0, 0, 0, 1],\n",
      "       [0, 0, 0, 0, 0, 0, 1],\n",
      "       [0, 0, 0, 0, 0, 0, 1],\n",
      "       [1, 0, 0, 0, 0, 1, 0],\n",
      "       [1, 0, 0, 0, 1, 0, 0],\n",
      "       [0, 1, 1, 1, 0, 0, 0]]), array([[0, 0, 0, 0, 1, 1, 0],\n",
      "       [0, 0, 0, 0, 1, 0, 1],\n",
      "       [0, 0, 0, 0, 0, 1, 1],\n",
      "       [0, 0, 0, 0, 0, 0, 0],\n",
      "       [1, 1, 0, 0, 0, 0, 0],\n",
      "       [1, 0, 1, 0, 0, 0, 0],\n",
      "       [0, 1, 1, 0, 0, 0, 0]])]\n"
     ]
    }
   ],
   "source": [
    "for i in Polynomials:\n",
    "    if len(Polynomials[i]) > 1:\n",
    "        print(Polynomials[i])"
   ]
  },
  {
   "cell_type": "code",
   "execution_count": 203,
   "id": "e63dedc5-99a0-4d59-8bd4-a294265d9f9e",
   "metadata": {
    "tags": []
   },
   "outputs": [
    {
     "data": {
      "text/plain": [
       "array([0, 1, 2])"
      ]
     },
     "execution_count": 203,
     "metadata": {},
     "output_type": "execute_result"
    }
   ],
   "source": [
    "np.sort(np.unique(sum(np.array([[0, 0, 0, 0, 0, 1],\n",
    "       [0, 0, 0, 0, 0, 1],\n",
    "       [0, 0, 0, 0, 0, 0],\n",
    "       [0, 0, 0, 0, 0, 0],\n",
    "       [0, 0, 0, 0, 0, 0],\n",
    "       [1, 1, 0, 0, 0, 0]])), return_counts=True)[0])"
   ]
  },
  {
   "cell_type": "code",
   "execution_count": 205,
   "id": "b4b32748-38da-4e16-a851-d139828d659d",
   "metadata": {
    "tags": []
   },
   "outputs": [
    {
     "data": {
      "text/plain": [
       "array([  2,  10,  57,  69, 100])"
      ]
     },
     "execution_count": 205,
     "metadata": {},
     "output_type": "execute_result"
    }
   ],
   "source": [
    "np.unique([10, 100, 2, 57,57 , 69])"
   ]
  },
  {
   "cell_type": "code",
   "execution_count": 253,
   "id": "e8392bc2-9295-4646-b401-ee44987ae282",
   "metadata": {
    "tags": []
   },
   "outputs": [
    {
     "name": "stdout",
     "output_type": "stream",
     "text": [
      "Overwriting minigccreate.py\n"
     ]
    }
   ],
   "source": [
    "%%writefile minigccreate.py\n",
    "import numpy as np\n",
    "import pandas as pd\n",
    "import networkx as nx\n",
    "from scipy.sparse.csgraph import connected_components\n",
    "from tqdm.contrib.concurrent import process_map\n",
    "from itertools import repeat\n",
    "from tqdm.auto import tqdm\n",
    "from dgl.data import MiniGCDataset\n",
    "\n",
    "def PPfromrandict(Graph, state):\n",
    "    k = len(Graph)-2\n",
    "    arr = np.arange(int((k+2)*(k+1)/2))\n",
    "    np.random.seed(state)\n",
    "    np.random.shuffle(arr)\n",
    "    dicof = {}\n",
    "    t = 0\n",
    "    for a in range(1, k+2):\n",
    "        for b in range(1, a+1):\n",
    "            dicof[arr[t]] = [a, b]\n",
    "            t += 1\n",
    "    n = max(Graph[i].sum() for i in range(len(Graph)))\n",
    "    V = len(Graph)\n",
    "    PPP = np.poly1d([])\n",
    "    PPQ = np.poly1d([])\n",
    "    Graphi = np.zeros(V*V).reshape(V,V)\n",
    "    left = V\n",
    "    cycles = 0\n",
    "    i = 0\n",
    "    while np.array_equal(Graphi, Graph) == 0: \n",
    "        for a in range(V):\n",
    "            for b in range(V):\n",
    "                macs = max(Graph[a].sum(), Graph[b].sum())\n",
    "                mi = min(Graph[a].sum(), Graph[b].sum())\n",
    "                if dicof[i] == [macs, mi]:\n",
    "                    Graphi[a][b] = Graph[a][b]\n",
    "\n",
    "        comps = connected_components(Graphi)[0]\n",
    "        PPP[i] = left - comps\n",
    "        left = left - (left - comps)\n",
    "        PPQ[i] = Graphi.sum()/2 - V + comps - cycles\n",
    "        cicles = Graphi.sum()/2 - V + comps\n",
    "        i += 1 \n",
    "    PPP[i] = left\n",
    "    PPP = tuple(PPP)\n",
    "    PPQ = list(PPQ)\n",
    "    for i in range(len(PPQ)):\n",
    "        if PPQ[0] == 0:\n",
    "            PPQ = PPQ[1:]\n",
    "    PPQ = tuple(PPQ)\n",
    "    polys = (PPP, PPQ)\n",
    "    return polys, Graph\n",
    "\n",
    "def PPfastprobs(Graph, iters):\n",
    "    G = nx.from_numpy_array(Graph)\n",
    "    L = nx.line_graph(G)\n",
    "    edges = np.array(L.nodes())\n",
    "    B = nx.to_numpy_array(L)\n",
    "    C= B.copy()\n",
    "    #C = C + np.diag(np.ones(len(C)))\n",
    "    for i in range(len(C)):\n",
    "        if C[i].sum() == 0:\n",
    "            C[i][i] = 1\n",
    "        else:\n",
    "            C[i]=C[i]/(C[i].sum())\n",
    "    C=np.transpose(C)\n",
    "    Matprobs=C.copy()\n",
    "    allpolys=[]\n",
    "    for k in range(iters):\n",
    "        times = []\n",
    "        retprobs = np.diag(Matprobs)\n",
    "        for i in range(len(retprobs)):\n",
    "            els = set()\n",
    "            for j in retprobs:\n",
    "                if j < retprobs[i]:\n",
    "                    els.add(j)\n",
    "            times.append(len(els))\n",
    "\n",
    "        n = max(Graph[i].sum() for i in range(len(Graph)))\n",
    "        V = len(Graph)\n",
    "        PPP = np.poly1d([])\n",
    "        PPQ = np.poly1d([])\n",
    "\n",
    "        Graphi = np.zeros(V*V).reshape(V,V)\n",
    "        left = V\n",
    "        cycles = 0\n",
    "        i = 0\n",
    "        get_indexes = lambda x, xs: [i for (y, i) in zip(xs, range(len(xs))) if x == y]\n",
    "        if len(times)>0:\n",
    "            for tau in range(max(times)+1):\n",
    "                i_indexes = get_indexes(i, times)\n",
    "\n",
    "                for edge in i_indexes:\n",
    "\n",
    "                    Graphi[edges[edge][0], edges[edge][1]] = 1\n",
    "                    Graphi[edges[edge][1], edges[edge][0]] = 1\n",
    "\n",
    "                comps = connected_components(Graphi)[0]\n",
    "                PPP[i] = left - comps\n",
    "                left = left - (left - comps)\n",
    "                PPQ[i] = Graphi.sum()/2 - V + comps - cycles\n",
    "                cycles = Graphi.sum()/2 - V + comps\n",
    "                i += 1\n",
    "        PPP[i] = left\n",
    "        PPP = tuple(PPP)\n",
    "        PPQ = list(PPQ)\n",
    "        for i in range(len(PPQ)):\n",
    "            if PPQ[0] == 0:\n",
    "                PPQ = PPQ[1:]\n",
    "        PPQ = tuple(PPQ)\n",
    "        polys = (PPP, PPQ)\n",
    "        allpolys.append(polys)\n",
    "        Matprobs=np.matmul(Matprobs,C)\n",
    "    return tuple(allpolys), Graph\n",
    "\n",
    "def job(i):\n",
    "\n",
    "    polyslist = []\n",
    "    polys, Graph = PPbij(i)\n",
    "    polyslist.append(polys)\n",
    "    \n",
    "    for t in []:\n",
    "        polys, Graph = PPfromrandict(i, t)\n",
    "        polyslist.append(polys)\n",
    "    \n",
    "    polys, Graph = PPfastprobs(i, 65)\n",
    "    polyslist.append(polys)\n",
    "    polyslist = tuple((polyslist))\n",
    "    \n",
    "    # for t in range(2, 100):\n",
    "    #     polys, Graph = PPprobs(i, t)\n",
    "    #     polyslist.append(polys)\n",
    "    \n",
    "    return polyslist, i\n",
    "\n",
    "def treatment(datachunk, seedsfordicts, maxdegforretprobs):\n",
    "    g, label = datachunk\n",
    "    target = int(label)\n",
    "    #g = nx.to_numpy_array(to_networkx(g))\n",
    "    g = g - np.diag(np.diag(g))\n",
    "    features = createfeatures(g, seedsfordicts, maxdegforretprobs)\n",
    "    return target, features\n",
    "    \n",
    "def createfeatures(graph, seedsfordicts, maxdegforretprobs):\n",
    "    polyslist = []\n",
    "    for t in seedsfordicts:\n",
    "        polys, Graph = PPfromrandict(graph, t)\n",
    "        polyslist.append(polys)\n",
    "    \n",
    "    # for t in range(1, maxdegforretprobs):\n",
    "    #     polys, Graph = PPprobs(graph, t)\n",
    "    #     polyslist.append(polys)\n",
    "\n",
    "    polys, Graph = PPfastprobs(graph, maxdegforretprobs-1)\n",
    "\n",
    "    for t in range(len(polys)):\n",
    "        polyslist.append(list(polys)[t])\n",
    "    return polyslist\n",
    "\n",
    "def createMiniGCDataset(numofgraphs, minnumofnodes, maxnumofnodes, seedfordata, seedsfordicts, maxdegforretprobs):\n",
    "    data = MiniGCDataset(numofgraphs, minnumofnodes, maxnumofnodes, save_graph = False, seed=seedfordata, transform=lambda g: g.adj(scipy_fmt='coo').toarray())\n",
    "\n",
    "\n",
    "    dataset = process_map(treatment, data, repeat(seedsfordicts), repeat(maxdegforretprobs), chunksize = 7 , max_workers=1)\n",
    "    targets, allfeatures = zip(*dataset)\n",
    "\n",
    "\n",
    "    dfs = []\n",
    "    for i, poly in enumerate(zip(*allfeatures)):\n",
    "        x, y = zip(*poly)\n",
    "        dfs.append(pd.DataFrame(map(reversed, x)).add_prefix(f'poly_{i}/x^'))\n",
    "        dfs.append(pd.DataFrame(map(reversed, y)).add_prefix(f'poly_{i}/y^'))\n",
    "    return pd.concat(dfs, axis=1).fillna(0), targets\n",
    "if __name__ == '__main__':\n",
    "    X, y = createMiniGCDataset(2000, 6, 200, 57, [], 6)\n",
    "    X['target'] = y\n",
    "    X.to_pickle('X.pkl')\n",
    "    "
   ]
  },
  {
   "cell_type": "code",
   "execution_count": 312,
   "id": "c3890e2b-6396-4595-b0ac-d6ee55c5cd6b",
   "metadata": {
    "tags": []
   },
   "outputs": [],
   "source": [
    "\n",
    "\n",
    "def treatment(datachunk, seedsfordicts, maxdegforretprobs):\n",
    "    g, label = datachunk\n",
    "    target = int(label)\n",
    "    #g = nx.to_numpy_array(to_networkx(g))\n",
    "    g = g - np.diag(np.diag(g))\n",
    "    features = createfeatures(g, seedsfordicts, maxdegforretprobs)\n",
    "    return target, features\n",
    "    \n",
    "def createfeatures(graph, seedsfordicts, maxdegforretprobs):\n",
    "    polyslist = []\n",
    "\n",
    "    for t in seedsfordicts:\n",
    "        polys, Graph = PPfromrandict(graph, t)\n",
    "        polyslist.append(polys)\n",
    "\n",
    "        \n",
    "    degs = []\n",
    "    counts = np.unique(sum(graph), return_counts=True)\n",
    "    coord = 0\n",
    "    for t in range(len(graph)):\n",
    "        if len(counts[0]) > coord:\n",
    "            if counts[0][coord]==t:\n",
    "                degs.append(counts[1][coord])\n",
    "                coord += 1\n",
    "            else:\n",
    "                degs.append(0)\n",
    "        else: \n",
    "            degs.append(0)\n",
    "    degpoly = tuple((tuple(degs), tuple()))\n",
    "    polyslist.append(degpoly)  \n",
    "    # polys, Graph = PPbij(graph)\n",
    "    # polyslist.append(polys)\n",
    "    # for t in range(1, maxdegforretprobs):\n",
    "    #     polys, Graph = PPprobs(graph, t)\n",
    "    #     polyslist.append(polys)\n",
    "\n",
    "    polys, Graph = PPfastprobs(graph, maxdegforretprobs-1)\n",
    "\n",
    "    for t in range(len(polys)):\n",
    "        polyslist.append(list(polys)[t])\n",
    "    return polyslist\n",
    "\n",
    "def createMiniGCDataset(numofgraphs, minnumofnodes, maxnumofnodes, seedfordata, seedsfordicts, maxdegforretprobs):\n",
    "    data = MiniGCDataset(numofgraphs, minnumofnodes, maxnumofnodes, save_graph = False, seed=seedfordata, transform=lambda g: g.adj(scipy_fmt='coo').toarray())\n",
    "\n",
    "\n",
    "    dataset = process_map(treatment, data, repeat(seedsfordicts), repeat(maxdegforretprobs), chunksize = int(numofgraphs/100)+1, max_workers=5)\n",
    "    targets, allfeatures = zip(*dataset)\n",
    "\n",
    "\n",
    "    dfs = []\n",
    "    for i, poly in enumerate(zip(*allfeatures)):\n",
    "        x, y = zip(*poly)\n",
    "        dfs.append(pd.DataFrame(map(reversed, x)).add_prefix(f'poly_{i}/x^'))\n",
    "        dfs.append(pd.DataFrame(map(reversed, y)).add_prefix(f'poly_{i}/y^'))\n",
    "    return pd.concat(dfs, axis=1).fillna(0), targets\n",
    "\n",
    "        \n",
    "        \n",
    "    "
   ]
  },
  {
   "cell_type": "raw",
   "id": "267125f7-e4b4-4022-9d50-717e9a756236",
   "metadata": {},
   "source": [
    "acc = 73.86708860759494 +- 2.707936373687845 - createMiniGCDataset(1000, 6, 100, 57, [], 2), shape=(526, 3)\n",
    "acc = 94.73456790123451 +- 1.661984736157968 - createMiniGCDataset(1000, 6, 100, 57, [], 3), shape=(538, 42)\n",
    "acc = 96.93209876543209 +- 1.0988868014532571 - createMiniGCDataset(1000, 6, 100, 57, [], 4), shape=(538, 75)\n",
    "acc = 97.73456790123457 +- 1.094021524965966 - createMiniGCDataset(1000, 6, 100, 57, [], 5), shape=(539, 210)\n",
    "acc = 97.46296296296295 +- 1.1902380714238086 - createMiniGCDataset(1000, 6, 100, 57, [], 6), (539, 309)\n",
    "acc = 97.56172839506169 +- 1.122625523424272 - createMiniGCDataset(1000, 6, 100, 57, [], 7), (539, 474)\n",
    "acc = 97.64814814814811 +- 1.0716412066457361 - createMiniGCDataset(1000, 6, 100, 57, [], 8), (539, 637)"
   ]
  },
  {
   "cell_type": "code",
   "execution_count": 313,
   "id": "67b9d43a-2772-412b-b34a-44cbc0a184f9",
   "metadata": {
    "collapsed": true,
    "jupyter": {
     "outputs_hidden": true
    },
    "tags": []
   },
   "outputs": [
    {
     "data": {
      "application/vnd.jupyter.widget-view+json": {
       "model_id": "964de7d5abed4dceb7044a295e8d1a08",
       "version_major": 2,
       "version_minor": 0
      },
      "text/plain": [
       "  0%|          | 0/1000 [00:00<?, ?it/s]"
      ]
     },
     "metadata": {},
     "output_type": "display_data"
    },
    {
     "ename": "KeyboardInterrupt",
     "evalue": "",
     "output_type": "error",
     "traceback": [
      "\u001b[0;31m---------------------------------------------------------------------------\u001b[0m",
      "\u001b[0;31mKeyboardInterrupt\u001b[0m                         Traceback (most recent call last)",
      "File \u001b[0;32m~/.local/lib/python3.11/site-packages/tqdm/contrib/concurrent.py:51\u001b[0m, in \u001b[0;36m_executor_map\u001b[0;34m(PoolExecutor, fn, *iterables, **tqdm_kwargs)\u001b[0m\n\u001b[1;32m     49\u001b[0m \u001b[38;5;28;01mwith\u001b[39;00m PoolExecutor(max_workers\u001b[38;5;241m=\u001b[39mmax_workers, initializer\u001b[38;5;241m=\u001b[39mtqdm_class\u001b[38;5;241m.\u001b[39mset_lock,\n\u001b[1;32m     50\u001b[0m                   initargs\u001b[38;5;241m=\u001b[39m(lk,)) \u001b[38;5;28;01mas\u001b[39;00m ex:\n\u001b[0;32m---> 51\u001b[0m     \u001b[38;5;28;01mreturn\u001b[39;00m \u001b[38;5;28mlist\u001b[39m(tqdm_class(ex\u001b[38;5;241m.\u001b[39mmap(fn, \u001b[38;5;241m*\u001b[39miterables, chunksize\u001b[38;5;241m=\u001b[39mchunksize), \u001b[38;5;241m*\u001b[39m\u001b[38;5;241m*\u001b[39mkwargs))\n",
      "File \u001b[0;32m~/.local/lib/python3.11/site-packages/tqdm/notebook.py:254\u001b[0m, in \u001b[0;36mtqdm_notebook.__iter__\u001b[0;34m(self)\u001b[0m\n\u001b[1;32m    253\u001b[0m it \u001b[38;5;241m=\u001b[39m \u001b[38;5;28msuper\u001b[39m(tqdm_notebook, \u001b[38;5;28mself\u001b[39m)\u001b[38;5;241m.\u001b[39m\u001b[38;5;21m__iter__\u001b[39m()\n\u001b[0;32m--> 254\u001b[0m \u001b[38;5;28;01mfor\u001b[39;00m obj \u001b[38;5;129;01min\u001b[39;00m it:\n\u001b[1;32m    255\u001b[0m     \u001b[38;5;66;03m# return super(tqdm...) will not catch exception\u001b[39;00m\n\u001b[1;32m    256\u001b[0m     \u001b[38;5;28;01myield\u001b[39;00m obj\n",
      "File \u001b[0;32m~/.local/lib/python3.11/site-packages/tqdm/std.py:1178\u001b[0m, in \u001b[0;36mtqdm.__iter__\u001b[0;34m(self)\u001b[0m\n\u001b[1;32m   1177\u001b[0m \u001b[38;5;28;01mtry\u001b[39;00m:\n\u001b[0;32m-> 1178\u001b[0m     \u001b[38;5;28;01mfor\u001b[39;00m obj \u001b[38;5;129;01min\u001b[39;00m iterable:\n\u001b[1;32m   1179\u001b[0m         \u001b[38;5;28;01myield\u001b[39;00m obj\n",
      "File \u001b[0;32m/usr/lib/python3.11/concurrent/futures/process.py:597\u001b[0m, in \u001b[0;36m_chain_from_iterable_of_lists\u001b[0;34m(iterable)\u001b[0m\n\u001b[1;32m    592\u001b[0m \u001b[38;5;250m\u001b[39m\u001b[38;5;124;03m\"\"\"\u001b[39;00m\n\u001b[1;32m    593\u001b[0m \u001b[38;5;124;03mSpecialized implementation of itertools.chain.from_iterable.\u001b[39;00m\n\u001b[1;32m    594\u001b[0m \u001b[38;5;124;03mEach item in *iterable* should be a list.  This function is\u001b[39;00m\n\u001b[1;32m    595\u001b[0m \u001b[38;5;124;03mcareful not to keep references to yielded objects.\u001b[39;00m\n\u001b[1;32m    596\u001b[0m \u001b[38;5;124;03m\"\"\"\u001b[39;00m\n\u001b[0;32m--> 597\u001b[0m \u001b[38;5;28;01mfor\u001b[39;00m element \u001b[38;5;129;01min\u001b[39;00m iterable:\n\u001b[1;32m    598\u001b[0m     element\u001b[38;5;241m.\u001b[39mreverse()\n",
      "File \u001b[0;32m/usr/lib/python3.11/concurrent/futures/_base.py:619\u001b[0m, in \u001b[0;36mExecutor.map.<locals>.result_iterator\u001b[0;34m()\u001b[0m\n\u001b[1;32m    618\u001b[0m \u001b[38;5;28;01mif\u001b[39;00m timeout \u001b[38;5;129;01mis\u001b[39;00m \u001b[38;5;28;01mNone\u001b[39;00m:\n\u001b[0;32m--> 619\u001b[0m     \u001b[38;5;28;01myield\u001b[39;00m \u001b[43m_result_or_cancel\u001b[49m\u001b[43m(\u001b[49m\u001b[43mfs\u001b[49m\u001b[38;5;241;43m.\u001b[39;49m\u001b[43mpop\u001b[49m\u001b[43m(\u001b[49m\u001b[43m)\u001b[49m\u001b[43m)\u001b[49m\n\u001b[1;32m    620\u001b[0m \u001b[38;5;28;01melse\u001b[39;00m:\n",
      "File \u001b[0;32m/usr/lib/python3.11/concurrent/futures/_base.py:317\u001b[0m, in \u001b[0;36m_result_or_cancel\u001b[0;34m(***failed resolving arguments***)\u001b[0m\n\u001b[1;32m    316\u001b[0m \u001b[38;5;28;01mtry\u001b[39;00m:\n\u001b[0;32m--> 317\u001b[0m     \u001b[38;5;28;01mreturn\u001b[39;00m \u001b[43mfut\u001b[49m\u001b[38;5;241;43m.\u001b[39;49m\u001b[43mresult\u001b[49m\u001b[43m(\u001b[49m\u001b[43mtimeout\u001b[49m\u001b[43m)\u001b[49m\n\u001b[1;32m    318\u001b[0m \u001b[38;5;28;01mfinally\u001b[39;00m:\n",
      "File \u001b[0;32m/usr/lib/python3.11/concurrent/futures/_base.py:451\u001b[0m, in \u001b[0;36mFuture.result\u001b[0;34m(self, timeout)\u001b[0m\n\u001b[1;32m    449\u001b[0m     \u001b[38;5;28;01mreturn\u001b[39;00m \u001b[38;5;28mself\u001b[39m\u001b[38;5;241m.\u001b[39m__get_result()\n\u001b[0;32m--> 451\u001b[0m \u001b[38;5;28;43mself\u001b[39;49m\u001b[38;5;241;43m.\u001b[39;49m\u001b[43m_condition\u001b[49m\u001b[38;5;241;43m.\u001b[39;49m\u001b[43mwait\u001b[49m\u001b[43m(\u001b[49m\u001b[43mtimeout\u001b[49m\u001b[43m)\u001b[49m\n\u001b[1;32m    453\u001b[0m \u001b[38;5;28;01mif\u001b[39;00m \u001b[38;5;28mself\u001b[39m\u001b[38;5;241m.\u001b[39m_state \u001b[38;5;129;01min\u001b[39;00m [CANCELLED, CANCELLED_AND_NOTIFIED]:\n",
      "File \u001b[0;32m/usr/lib/python3.11/threading.py:320\u001b[0m, in \u001b[0;36mCondition.wait\u001b[0;34m(self, timeout)\u001b[0m\n\u001b[1;32m    319\u001b[0m \u001b[38;5;28;01mif\u001b[39;00m timeout \u001b[38;5;129;01mis\u001b[39;00m \u001b[38;5;28;01mNone\u001b[39;00m:\n\u001b[0;32m--> 320\u001b[0m     \u001b[43mwaiter\u001b[49m\u001b[38;5;241;43m.\u001b[39;49m\u001b[43macquire\u001b[49m\u001b[43m(\u001b[49m\u001b[43m)\u001b[49m\n\u001b[1;32m    321\u001b[0m     gotit \u001b[38;5;241m=\u001b[39m \u001b[38;5;28;01mTrue\u001b[39;00m\n",
      "\u001b[0;31mKeyboardInterrupt\u001b[0m: ",
      "\nDuring handling of the above exception, another exception occurred:\n",
      "\u001b[0;31mKeyboardInterrupt\u001b[0m                         Traceback (most recent call last)",
      "Cell \u001b[0;32mIn[313], line 1\u001b[0m\n\u001b[0;32m----> 1\u001b[0m X, y \u001b[38;5;241m=\u001b[39m \u001b[43mcreateMiniGCDataset\u001b[49m\u001b[43m(\u001b[49m\u001b[38;5;241;43m1000\u001b[39;49m\u001b[43m,\u001b[49m\u001b[43m \u001b[49m\u001b[38;5;241;43m6\u001b[39;49m\u001b[43m,\u001b[49m\u001b[43m \u001b[49m\u001b[38;5;241;43m129\u001b[39;49m\u001b[43m,\u001b[49m\u001b[43m \u001b[49m\u001b[38;5;241;43m57\u001b[39;49m\u001b[43m,\u001b[49m\u001b[43m \u001b[49m\u001b[43m[\u001b[49m\u001b[43m]\u001b[49m\u001b[43m,\u001b[49m\u001b[43m \u001b[49m\u001b[38;5;241;43m5\u001b[39;49m\u001b[43m)\u001b[49m\n",
      "Cell \u001b[0;32mIn[312], line 47\u001b[0m, in \u001b[0;36mcreateMiniGCDataset\u001b[0;34m(numofgraphs, minnumofnodes, maxnumofnodes, seedfordata, seedsfordicts, maxdegforretprobs)\u001b[0m\n\u001b[1;32m     43\u001b[0m \u001b[38;5;28;01mdef\u001b[39;00m \u001b[38;5;21mcreateMiniGCDataset\u001b[39m(numofgraphs, minnumofnodes, maxnumofnodes, seedfordata, seedsfordicts, maxdegforretprobs):\n\u001b[1;32m     44\u001b[0m     data \u001b[38;5;241m=\u001b[39m MiniGCDataset(numofgraphs, minnumofnodes, maxnumofnodes, save_graph \u001b[38;5;241m=\u001b[39m \u001b[38;5;28;01mFalse\u001b[39;00m, seed\u001b[38;5;241m=\u001b[39mseedfordata, transform\u001b[38;5;241m=\u001b[39m\u001b[38;5;28;01mlambda\u001b[39;00m g: g\u001b[38;5;241m.\u001b[39madj(scipy_fmt\u001b[38;5;241m=\u001b[39m\u001b[38;5;124m'\u001b[39m\u001b[38;5;124mcoo\u001b[39m\u001b[38;5;124m'\u001b[39m)\u001b[38;5;241m.\u001b[39mtoarray())\n\u001b[0;32m---> 47\u001b[0m     dataset \u001b[38;5;241m=\u001b[39m \u001b[43mprocess_map\u001b[49m\u001b[43m(\u001b[49m\u001b[43mtreatment\u001b[49m\u001b[43m,\u001b[49m\u001b[43m \u001b[49m\u001b[43mdata\u001b[49m\u001b[43m,\u001b[49m\u001b[43m \u001b[49m\u001b[43mrepeat\u001b[49m\u001b[43m(\u001b[49m\u001b[43mseedsfordicts\u001b[49m\u001b[43m)\u001b[49m\u001b[43m,\u001b[49m\u001b[43m \u001b[49m\u001b[43mrepeat\u001b[49m\u001b[43m(\u001b[49m\u001b[43mmaxdegforretprobs\u001b[49m\u001b[43m)\u001b[49m\u001b[43m,\u001b[49m\u001b[43m \u001b[49m\u001b[43mchunksize\u001b[49m\u001b[43m \u001b[49m\u001b[38;5;241;43m=\u001b[39;49m\u001b[43m \u001b[49m\u001b[38;5;28;43mint\u001b[39;49m\u001b[43m(\u001b[49m\u001b[43mnumofgraphs\u001b[49m\u001b[38;5;241;43m/\u001b[39;49m\u001b[38;5;241;43m100\u001b[39;49m\u001b[43m)\u001b[49m\u001b[38;5;241;43m+\u001b[39;49m\u001b[38;5;241;43m1\u001b[39;49m\u001b[43m,\u001b[49m\u001b[43m \u001b[49m\u001b[43mmax_workers\u001b[49m\u001b[38;5;241;43m=\u001b[39;49m\u001b[38;5;241;43m5\u001b[39;49m\u001b[43m)\u001b[49m\n\u001b[1;32m     48\u001b[0m     targets, allfeatures \u001b[38;5;241m=\u001b[39m \u001b[38;5;28mzip\u001b[39m(\u001b[38;5;241m*\u001b[39mdataset)\n\u001b[1;32m     51\u001b[0m     dfs \u001b[38;5;241m=\u001b[39m []\n",
      "File \u001b[0;32m~/.local/lib/python3.11/site-packages/tqdm/contrib/concurrent.py:105\u001b[0m, in \u001b[0;36mprocess_map\u001b[0;34m(fn, *iterables, **tqdm_kwargs)\u001b[0m\n\u001b[1;32m    103\u001b[0m     tqdm_kwargs \u001b[38;5;241m=\u001b[39m tqdm_kwargs\u001b[38;5;241m.\u001b[39mcopy()\n\u001b[1;32m    104\u001b[0m     tqdm_kwargs[\u001b[38;5;124m\"\u001b[39m\u001b[38;5;124mlock_name\u001b[39m\u001b[38;5;124m\"\u001b[39m] \u001b[38;5;241m=\u001b[39m \u001b[38;5;124m\"\u001b[39m\u001b[38;5;124mmp_lock\u001b[39m\u001b[38;5;124m\"\u001b[39m\n\u001b[0;32m--> 105\u001b[0m \u001b[38;5;28;01mreturn\u001b[39;00m \u001b[43m_executor_map\u001b[49m\u001b[43m(\u001b[49m\u001b[43mProcessPoolExecutor\u001b[49m\u001b[43m,\u001b[49m\u001b[43m \u001b[49m\u001b[43mfn\u001b[49m\u001b[43m,\u001b[49m\u001b[43m \u001b[49m\u001b[38;5;241;43m*\u001b[39;49m\u001b[43miterables\u001b[49m\u001b[43m,\u001b[49m\u001b[43m \u001b[49m\u001b[38;5;241;43m*\u001b[39;49m\u001b[38;5;241;43m*\u001b[39;49m\u001b[43mtqdm_kwargs\u001b[49m\u001b[43m)\u001b[49m\n",
      "File \u001b[0;32m~/.local/lib/python3.11/site-packages/tqdm/contrib/concurrent.py:49\u001b[0m, in \u001b[0;36m_executor_map\u001b[0;34m(PoolExecutor, fn, *iterables, **tqdm_kwargs)\u001b[0m\n\u001b[1;32m     46\u001b[0m lock_name \u001b[38;5;241m=\u001b[39m kwargs\u001b[38;5;241m.\u001b[39mpop(\u001b[38;5;124m\"\u001b[39m\u001b[38;5;124mlock_name\u001b[39m\u001b[38;5;124m\"\u001b[39m, \u001b[38;5;124m\"\u001b[39m\u001b[38;5;124m\"\u001b[39m)\n\u001b[1;32m     47\u001b[0m \u001b[38;5;28;01mwith\u001b[39;00m ensure_lock(tqdm_class, lock_name\u001b[38;5;241m=\u001b[39mlock_name) \u001b[38;5;28;01mas\u001b[39;00m lk:\n\u001b[1;32m     48\u001b[0m     \u001b[38;5;66;03m# share lock in case workers are already using `tqdm`\u001b[39;00m\n\u001b[0;32m---> 49\u001b[0m \u001b[43m    \u001b[49m\u001b[38;5;28;43;01mwith\u001b[39;49;00m\u001b[43m \u001b[49m\u001b[43mPoolExecutor\u001b[49m\u001b[43m(\u001b[49m\u001b[43mmax_workers\u001b[49m\u001b[38;5;241;43m=\u001b[39;49m\u001b[43mmax_workers\u001b[49m\u001b[43m,\u001b[49m\u001b[43m \u001b[49m\u001b[43minitializer\u001b[49m\u001b[38;5;241;43m=\u001b[39;49m\u001b[43mtqdm_class\u001b[49m\u001b[38;5;241;43m.\u001b[39;49m\u001b[43mset_lock\u001b[49m\u001b[43m,\u001b[49m\n\u001b[1;32m     50\u001b[0m \u001b[43m                      \u001b[49m\u001b[43minitargs\u001b[49m\u001b[38;5;241;43m=\u001b[39;49m\u001b[43m(\u001b[49m\u001b[43mlk\u001b[49m\u001b[43m,\u001b[49m\u001b[43m)\u001b[49m\u001b[43m)\u001b[49m\u001b[43m \u001b[49m\u001b[38;5;28;43;01mas\u001b[39;49;00m\u001b[43m \u001b[49m\u001b[43mex\u001b[49m\u001b[43m:\u001b[49m\n\u001b[1;32m     51\u001b[0m \u001b[43m        \u001b[49m\u001b[38;5;28;43;01mreturn\u001b[39;49;00m\u001b[43m \u001b[49m\u001b[38;5;28;43mlist\u001b[39;49m\u001b[43m(\u001b[49m\u001b[43mtqdm_class\u001b[49m\u001b[43m(\u001b[49m\u001b[43mex\u001b[49m\u001b[38;5;241;43m.\u001b[39;49m\u001b[43mmap\u001b[49m\u001b[43m(\u001b[49m\u001b[43mfn\u001b[49m\u001b[43m,\u001b[49m\u001b[43m \u001b[49m\u001b[38;5;241;43m*\u001b[39;49m\u001b[43miterables\u001b[49m\u001b[43m,\u001b[49m\u001b[43m \u001b[49m\u001b[43mchunksize\u001b[49m\u001b[38;5;241;43m=\u001b[39;49m\u001b[43mchunksize\u001b[49m\u001b[43m)\u001b[49m\u001b[43m,\u001b[49m\u001b[43m \u001b[49m\u001b[38;5;241;43m*\u001b[39;49m\u001b[38;5;241;43m*\u001b[39;49m\u001b[43mkwargs\u001b[49m\u001b[43m)\u001b[49m\u001b[43m)\u001b[49m\n",
      "File \u001b[0;32m/usr/lib/python3.11/concurrent/futures/_base.py:647\u001b[0m, in \u001b[0;36mExecutor.__exit__\u001b[0;34m(self, exc_type, exc_val, exc_tb)\u001b[0m\n\u001b[1;32m    646\u001b[0m \u001b[38;5;28;01mdef\u001b[39;00m \u001b[38;5;21m__exit__\u001b[39m(\u001b[38;5;28mself\u001b[39m, exc_type, exc_val, exc_tb):\n\u001b[0;32m--> 647\u001b[0m     \u001b[38;5;28;43mself\u001b[39;49m\u001b[38;5;241;43m.\u001b[39;49m\u001b[43mshutdown\u001b[49m\u001b[43m(\u001b[49m\u001b[43mwait\u001b[49m\u001b[38;5;241;43m=\u001b[39;49m\u001b[38;5;28;43;01mTrue\u001b[39;49;00m\u001b[43m)\u001b[49m\n\u001b[1;32m    648\u001b[0m     \u001b[38;5;28;01mreturn\u001b[39;00m \u001b[38;5;28;01mFalse\u001b[39;00m\n",
      "File \u001b[0;32m/usr/lib/python3.11/concurrent/futures/process.py:825\u001b[0m, in \u001b[0;36mProcessPoolExecutor.shutdown\u001b[0;34m(self, wait, cancel_futures)\u001b[0m\n\u001b[1;32m    822\u001b[0m         \u001b[38;5;28mself\u001b[39m\u001b[38;5;241m.\u001b[39m_executor_manager_thread_wakeup\u001b[38;5;241m.\u001b[39mwakeup()\n\u001b[1;32m    824\u001b[0m \u001b[38;5;28;01mif\u001b[39;00m \u001b[38;5;28mself\u001b[39m\u001b[38;5;241m.\u001b[39m_executor_manager_thread \u001b[38;5;129;01mis\u001b[39;00m \u001b[38;5;129;01mnot\u001b[39;00m \u001b[38;5;28;01mNone\u001b[39;00m \u001b[38;5;129;01mand\u001b[39;00m wait:\n\u001b[0;32m--> 825\u001b[0m     \u001b[38;5;28;43mself\u001b[39;49m\u001b[38;5;241;43m.\u001b[39;49m\u001b[43m_executor_manager_thread\u001b[49m\u001b[38;5;241;43m.\u001b[39;49m\u001b[43mjoin\u001b[49m\u001b[43m(\u001b[49m\u001b[43m)\u001b[49m\n\u001b[1;32m    826\u001b[0m \u001b[38;5;66;03m# To reduce the risk of opening too many files, remove references to\u001b[39;00m\n\u001b[1;32m    827\u001b[0m \u001b[38;5;66;03m# objects that use file descriptors.\u001b[39;00m\n\u001b[1;32m    828\u001b[0m \u001b[38;5;28mself\u001b[39m\u001b[38;5;241m.\u001b[39m_executor_manager_thread \u001b[38;5;241m=\u001b[39m \u001b[38;5;28;01mNone\u001b[39;00m\n",
      "File \u001b[0;32m/usr/lib/python3.11/threading.py:1112\u001b[0m, in \u001b[0;36mThread.join\u001b[0;34m(self, timeout)\u001b[0m\n\u001b[1;32m   1109\u001b[0m     \u001b[38;5;28;01mraise\u001b[39;00m \u001b[38;5;167;01mRuntimeError\u001b[39;00m(\u001b[38;5;124m\"\u001b[39m\u001b[38;5;124mcannot join current thread\u001b[39m\u001b[38;5;124m\"\u001b[39m)\n\u001b[1;32m   1111\u001b[0m \u001b[38;5;28;01mif\u001b[39;00m timeout \u001b[38;5;129;01mis\u001b[39;00m \u001b[38;5;28;01mNone\u001b[39;00m:\n\u001b[0;32m-> 1112\u001b[0m     \u001b[38;5;28;43mself\u001b[39;49m\u001b[38;5;241;43m.\u001b[39;49m\u001b[43m_wait_for_tstate_lock\u001b[49m\u001b[43m(\u001b[49m\u001b[43m)\u001b[49m\n\u001b[1;32m   1113\u001b[0m \u001b[38;5;28;01melse\u001b[39;00m:\n\u001b[1;32m   1114\u001b[0m     \u001b[38;5;66;03m# the behavior of a negative timeout isn't documented, but\u001b[39;00m\n\u001b[1;32m   1115\u001b[0m     \u001b[38;5;66;03m# historically .join(timeout=x) for x<0 has acted as if timeout=0\u001b[39;00m\n\u001b[1;32m   1116\u001b[0m     \u001b[38;5;28mself\u001b[39m\u001b[38;5;241m.\u001b[39m_wait_for_tstate_lock(timeout\u001b[38;5;241m=\u001b[39m\u001b[38;5;28mmax\u001b[39m(timeout, \u001b[38;5;241m0\u001b[39m))\n",
      "File \u001b[0;32m/usr/lib/python3.11/threading.py:1132\u001b[0m, in \u001b[0;36mThread._wait_for_tstate_lock\u001b[0;34m(self, block, timeout)\u001b[0m\n\u001b[1;32m   1129\u001b[0m     \u001b[38;5;28;01mreturn\u001b[39;00m\n\u001b[1;32m   1131\u001b[0m \u001b[38;5;28;01mtry\u001b[39;00m:\n\u001b[0;32m-> 1132\u001b[0m     \u001b[38;5;28;01mif\u001b[39;00m \u001b[43mlock\u001b[49m\u001b[38;5;241;43m.\u001b[39;49m\u001b[43macquire\u001b[49m\u001b[43m(\u001b[49m\u001b[43mblock\u001b[49m\u001b[43m,\u001b[49m\u001b[43m \u001b[49m\u001b[43mtimeout\u001b[49m\u001b[43m)\u001b[49m:\n\u001b[1;32m   1133\u001b[0m         lock\u001b[38;5;241m.\u001b[39mrelease()\n\u001b[1;32m   1134\u001b[0m         \u001b[38;5;28mself\u001b[39m\u001b[38;5;241m.\u001b[39m_stop()\n",
      "\u001b[0;31mKeyboardInterrupt\u001b[0m: "
     ]
    }
   ],
   "source": [
    " X, y = createMiniGCDataset(1000, 6, 129, 57, [], 5)"
   ]
  },
  {
   "cell_type": "code",
   "execution_count": 48,
   "id": "ea099d51-4904-4d1e-ad57-f2d5a468ee3b",
   "metadata": {
    "tags": []
   },
   "outputs": [],
   "source": [
    "data = MiniGCDataset(300, 6, 100, save_graph = False, seed=57, transform=lambda g: g.adj(scipy_fmt='coo').toarray())"
   ]
  },
  {
   "cell_type": "code",
   "execution_count": 99,
   "id": "354e11df-dc98-49b4-b561-17d9096db83c",
   "metadata": {
    "collapsed": true,
    "jupyter": {
     "outputs_hidden": true
    },
    "tags": []
   },
   "outputs": [
    {
     "name": "stdout",
     "output_type": "stream",
     "text": [
      "[((1.0, 19.0), (9.0,)), ((1.0, 4.0, 0.0, 4.0, 11.0), (2.0, 2.0, 0.0, 5.0)), ((1.0, 0.0, 2.0, 11.0, 4.0, 2.0), (2.0, 2.0, 5.0, 0.0, 0.0)), ((1.0, 0.0, 2.0, 2.0, 0.0, 2.0, 2.0, 0.0, 1.0, 4.0, 6.0), (2.0, 0.0, 0.0, 2.0, 0.0, 0.0, 2.0, 3.0, 0.0, 0.0)), ((1.0, 0.0, 0.0, 2.0, 0.0, 1.0, 1.0, 3.0, 6.0, 4.0, 2.0), (2.0, 1.0, 1.0, 2.0, 3.0, 0.0, 0.0, 0.0, 0.0, 0.0)), ((1.0, 0.0, 1.0, 1.0, 2.0, 2.0, 2.0, 0.0, 0.0, 0.0, 0.0, 1.0, 2.0, 2.0, 2.0, 2.0, 2.0), (2.0, 2.0, 0.0, 0.0, 0.0, 0.0, 1.0, 1.0, 1.0, 1.0, 1.0, 0.0, 0.0, 0.0, 0.0, 0.0)), ((1.0, 0.0, 0.0, 2.0, 0.0, 0.0, 2.0, 2.0, 0.0, 1.0, 1.0, 1.0, 2.0, 2.0, 2.0, 2.0, 1.0, 1.0), (1.0, 1.0, 2.0, 1.0, 1.0, 0.0, 0.0, 2.0, 1.0, 0.0, 0.0, 0.0, 0.0, 0.0, 0.0, 0.0, 0.0)), ((1.0, 0.0, 0.0, 1.0, 1.0, 3.0, 1.0, 2.0, 0.0, 0.0, 1.0, 3.0, 0.0, 0.0, 1.0, 2.0, 2.0, 1.0, 1.0), (2.0, 2.0, 0.0, 0.0, 0.0, 0.0, 0.0, 1.0, 1.0, 0.0, 0.0, 2.0, 1.0, 0.0, 0.0, 0.0, 0.0, 0.0)), ((1.0, 0.0, 0.0, 1.0, 0.0, 1.0, 0.0, 0.0, 3.0, 1.0, 4.0, 0.0, 0.0, 1.0, 2.0, 2.0, 1.0, 1.0, 2.0), (1.0, 1.0, 1.0, 1.0, 0.0, 1.0, 1.0, 0.0, 0.0, 0.0, 2.0, 1.0, 0.0, 0.0, 0.0, 0.0, 0.0, 0.0))]\n",
      "9\n",
      "[((1.0, 19.0), (9.0,)), ((1.0, 4.0, 0.0, 4.0, 11.0), (2.0, 2.0, 0.0, 5.0)), ((1.0, 0.0, 2.0, 11.0, 4.0, 2.0), (2.0, 2.0, 5.0, 0.0, 0.0)), ((1.0, 2.0, 2.0, 0.0, 4.0, 0.0, 0.0, 1.0, 4.0, 6.0), (2.0, 0.0, 2.0, 0.0, 1.0, 1.0, 3.0, 0.0, 0.0)), ((1.0, 0.0, 0.0, 2.0, 0.0, 1.0, 4.0, 6.0, 4.0, 2.0), (2.0, 2.0, 0.0, 2.0, 3.0, 0.0, 0.0, 0.0, 0.0)), ((1.0, 0.0, 1.0, 1.0, 2.0, 2.0, 2.0, 0.0, 0.0, 0.0, 0.0, 1.0, 4.0, 2.0, 2.0, 2.0), (2.0, 2.0, 0.0, 0.0, 0.0, 0.0, 1.0, 1.0, 1.0, 1.0, 1.0, 0.0, 0.0, 0.0, 0.0)), ((1.0, 0.0, 0.0, 2.0, 0.0, 4.0, 0.0, 0.0, 1.0, 3.0, 1.0, 4.0, 2.0, 2.0), (2.0, 1.0, 1.0, 2.0, 0.0, 1.0, 1.0, 1.0, 0.0, 0.0, 0.0, 0.0, 0.0)), ((1.0, 0.0, 1.0, 1.0, 4.0, 2.0, 0.0, 4.0, 0.0, 1.0, 4.0, 1.0, 1.0), (2.0, 2.0, 0.0, 0.0, 0.0, 2.0, 0.0, 2.0, 1.0, 0.0, 0.0, 0.0)), ((1.0, 0.0, 1.0, 1.0, 0.0, 0.0, 2.0, 2.0, 3.0, 1.0, 0.0, 1.0, 2.0, 2.0, 1.0, 1.0, 1.0, 1.0), (2.0, 2.0, 0.0, 1.0, 1.0, 0.0, 0.0, 0.0, 0.0, 2.0, 1.0, 0.0, 0.0, 0.0, 0.0, 0.0, 0.0))]\n",
      "9\n",
      "----------------------------\n"
     ]
    }
   ],
   "source": [
    "\n",
    "graph = data[200][0]\n",
    "graph = graph - np.diag(np.diag(graph))\n",
    "maxdegforretprobs = 10\n",
    "polyslist = []\n",
    "\n",
    "for t in range(1, maxdegforretprobs):\n",
    "    polys, Graph = PPprobs(graph, t)\n",
    "    polyslist.append(polys)\n",
    "print(polyslist)\n",
    "print(len(polyslist))\n",
    "polyslist = []\n",
    "\n",
    "polys, Graph = PPfastprobs(graph, maxdegforretprobs-1)\n",
    "\n",
    "for t in range(len(polys)):\n",
    "    polyslist.append(list(polys)[t])\n",
    "print(polyslist)\n",
    "print(len(polyslist))\n",
    "print('----------------------------')"
   ]
  },
  {
   "cell_type": "code",
   "execution_count": 301,
   "id": "5fd1ddd1-0377-4c1c-a1f3-1d4d2f04c652",
   "metadata": {
    "tags": []
   },
   "outputs": [],
   "source": [
    "X['target'] = y"
   ]
  },
  {
   "cell_type": "code",
   "execution_count": 303,
   "id": "96f02ea8-1d46-49cb-8aa3-415de5bb8b18",
   "metadata": {
    "tags": []
   },
   "outputs": [],
   "source": [
    "X.drop_duplicates(inplace=True)"
   ]
  },
  {
   "cell_type": "code",
   "execution_count": 305,
   "id": "03e34dca-c25c-4cdf-9a1f-cbd5a6b38d98",
   "metadata": {
    "tags": []
   },
   "outputs": [],
   "source": [
    "y = X.target\n",
    "X = X.drop(columns = ['target'])"
   ]
  },
  {
   "cell_type": "code",
   "execution_count": 304,
   "id": "7a99c83f-a89f-4e42-80ad-efad0d925ab1",
   "metadata": {
    "tags": []
   },
   "outputs": [
    {
     "data": {
      "text/plain": [
       "(355, 174)"
      ]
     },
     "execution_count": 304,
     "metadata": {},
     "output_type": "execute_result"
    }
   ],
   "source": [
    "X.shape"
   ]
  },
  {
   "cell_type": "code",
   "execution_count": 306,
   "id": "735b7fc6-9407-4772-a141-9f0375adc70c",
   "metadata": {
    "tags": []
   },
   "outputs": [],
   "source": [
    "X_train, X_test, y_train, y_test = train_test_split(X, y, test_size=0.3, random_state=0x575757, stratify=y)"
   ]
  },
  {
   "cell_type": "code",
   "execution_count": 307,
   "id": "8e93c83b-eed4-4224-bebf-cefcd695a68d",
   "metadata": {
    "tags": []
   },
   "outputs": [
    {
     "name": "stdout",
     "output_type": "stream",
     "text": [
      "98.13084112149532 +- 0.9345794392523366\n",
      "CPU times: user 9.24 s, sys: 358 µs, total: 9.24 s\n",
      "Wall time: 9.24 s\n"
     ]
    }
   ],
   "source": [
    "%%time\n",
    "gradboost = GradientBoostingClassifier()\n",
    "meanacc=[]\n",
    "for i in range(10):\n",
    "    X_train, X_test, y_train, y_test = train_test_split(X, y, test_size=0.3, stratify=y)\n",
    "    gradboost.fit(X_train, y_train)\n",
    "    #print(accuracy_score(y_test, gradboost.predict(X_test)), accuracy_score(y_train, gradboost.predict(X_train)))\n",
    "    meanacc.append(accuracy_score(y_test, gradboost.predict(X_test)))\n",
    "print(sum(meanacc) / len(meanacc)*100, '+-', np.std(meanacc)*100)"
   ]
  },
  {
   "cell_type": "code",
   "execution_count": 162,
   "id": "a918d3d3-aec5-4f70-aa5c-2d5bb3d723c9",
   "metadata": {
    "tags": []
   },
   "outputs": [],
   "source": [
    "importances = {}\n",
    "num = 0\n",
    "for i in X.columns:\n",
    "\n",
    "    importances[i] = gradboost.feature_importances_[num]\n",
    "    num+=1\n"
   ]
  },
  {
   "cell_type": "code",
   "execution_count": 165,
   "id": "a0b8e10f-ac49-422b-a1da-5e091bc90059",
   "metadata": {
    "tags": []
   },
   "outputs": [],
   "source": [
    "thresh= 0.015\n",
    "valuable= {}\n",
    "for i in importances:\n",
    "    if importances[i]>thresh:\n",
    "        valuable[i]=importances[i]"
   ]
  },
  {
   "cell_type": "code",
   "execution_count": 166,
   "id": "92e73fb2-e943-4ec9-a650-eaa995531236",
   "metadata": {
    "tags": []
   },
   "outputs": [
    {
     "data": {
      "image/png": "[encoded data removed]",
      "text/plain": [
       "<Figure size 640x480 with 1 Axes>"
      ]
     },
     "metadata": {},
     "output_type": "display_data"
    }
   ],
   "source": [
    "names = list(valuable.keys())\n",
    "values = list(valuable.values())\n",
    "fig, ax = plt.subplots()\n",
    "plt.bar(range(len(valuable)), values, tick_label=names)\n",
    "plt.setp( ax.xaxis.get_majorticklabels(), rotation=45, ha=\"right\" )\n",
    "plt.gcf().subplots_adjust(bottom=0.15)\n",
    "plt.show()\n"
   ]
  },
  {
   "cell_type": "code",
   "execution_count": 119,
   "id": "8a834429-05d1-4d53-8347-f0ad7947c771",
   "metadata": {
    "collapsed": true,
    "jupyter": {
     "outputs_hidden": true
    },
    "tags": []
   },
   "outputs": [
    {
     "ename": "KeyboardInterrupt",
     "evalue": "",
     "output_type": "error",
     "traceback": [
      "\u001b[0;31m---------------------------------------------------------------------------\u001b[0m",
      "\u001b[0;31mKeyboardInterrupt\u001b[0m                         Traceback (most recent call last)",
      "File \u001b[0;32m<timed exec>:2\u001b[0m\n",
      "File \u001b[0;32m~/.local/lib/python3.11/site-packages/sklearn/model_selection/_search.py:874\u001b[0m, in \u001b[0;36mBaseSearchCV.fit\u001b[0;34m(self, X, y, groups, **fit_params)\u001b[0m\n\u001b[1;32m    868\u001b[0m     results \u001b[38;5;241m=\u001b[39m \u001b[38;5;28mself\u001b[39m\u001b[38;5;241m.\u001b[39m_format_results(\n\u001b[1;32m    869\u001b[0m         all_candidate_params, n_splits, all_out, all_more_results\n\u001b[1;32m    870\u001b[0m     )\n\u001b[1;32m    872\u001b[0m     \u001b[38;5;28;01mreturn\u001b[39;00m results\n\u001b[0;32m--> 874\u001b[0m \u001b[38;5;28;43mself\u001b[39;49m\u001b[38;5;241;43m.\u001b[39;49m\u001b[43m_run_search\u001b[49m\u001b[43m(\u001b[49m\u001b[43mevaluate_candidates\u001b[49m\u001b[43m)\u001b[49m\n\u001b[1;32m    876\u001b[0m \u001b[38;5;66;03m# multimetric is determined here because in the case of a callable\u001b[39;00m\n\u001b[1;32m    877\u001b[0m \u001b[38;5;66;03m# self.scoring the return type is only known after calling\u001b[39;00m\n\u001b[1;32m    878\u001b[0m first_test_score \u001b[38;5;241m=\u001b[39m all_out[\u001b[38;5;241m0\u001b[39m][\u001b[38;5;124m\"\u001b[39m\u001b[38;5;124mtest_scores\u001b[39m\u001b[38;5;124m\"\u001b[39m]\n",
      "File \u001b[0;32m~/.local/lib/python3.11/site-packages/sklearn/model_selection/_search.py:1388\u001b[0m, in \u001b[0;36mGridSearchCV._run_search\u001b[0;34m(self, evaluate_candidates)\u001b[0m\n\u001b[1;32m   1386\u001b[0m \u001b[38;5;28;01mdef\u001b[39;00m \u001b[38;5;21m_run_search\u001b[39m(\u001b[38;5;28mself\u001b[39m, evaluate_candidates):\n\u001b[1;32m   1387\u001b[0m \u001b[38;5;250m    \u001b[39m\u001b[38;5;124;03m\"\"\"Search all candidates in param_grid\"\"\"\u001b[39;00m\n\u001b[0;32m-> 1388\u001b[0m     \u001b[43mevaluate_candidates\u001b[49m\u001b[43m(\u001b[49m\u001b[43mParameterGrid\u001b[49m\u001b[43m(\u001b[49m\u001b[38;5;28;43mself\u001b[39;49m\u001b[38;5;241;43m.\u001b[39;49m\u001b[43mparam_grid\u001b[49m\u001b[43m)\u001b[49m\u001b[43m)\u001b[49m\n",
      "File \u001b[0;32m~/.local/lib/python3.11/site-packages/sklearn/model_selection/_search.py:821\u001b[0m, in \u001b[0;36mBaseSearchCV.fit.<locals>.evaluate_candidates\u001b[0;34m(candidate_params, cv, more_results)\u001b[0m\n\u001b[1;32m    813\u001b[0m \u001b[38;5;28;01mif\u001b[39;00m \u001b[38;5;28mself\u001b[39m\u001b[38;5;241m.\u001b[39mverbose \u001b[38;5;241m>\u001b[39m \u001b[38;5;241m0\u001b[39m:\n\u001b[1;32m    814\u001b[0m     \u001b[38;5;28mprint\u001b[39m(\n\u001b[1;32m    815\u001b[0m         \u001b[38;5;124m\"\u001b[39m\u001b[38;5;124mFitting \u001b[39m\u001b[38;5;132;01m{0}\u001b[39;00m\u001b[38;5;124m folds for each of \u001b[39m\u001b[38;5;132;01m{1}\u001b[39;00m\u001b[38;5;124m candidates,\u001b[39m\u001b[38;5;124m\"\u001b[39m\n\u001b[1;32m    816\u001b[0m         \u001b[38;5;124m\"\u001b[39m\u001b[38;5;124m totalling \u001b[39m\u001b[38;5;132;01m{2}\u001b[39;00m\u001b[38;5;124m fits\u001b[39m\u001b[38;5;124m\"\u001b[39m\u001b[38;5;241m.\u001b[39mformat(\n\u001b[1;32m    817\u001b[0m             n_splits, n_candidates, n_candidates \u001b[38;5;241m*\u001b[39m n_splits\n\u001b[1;32m    818\u001b[0m         )\n\u001b[1;32m    819\u001b[0m     )\n\u001b[0;32m--> 821\u001b[0m out \u001b[38;5;241m=\u001b[39m \u001b[43mparallel\u001b[49m\u001b[43m(\u001b[49m\n\u001b[1;32m    822\u001b[0m \u001b[43m    \u001b[49m\u001b[43mdelayed\u001b[49m\u001b[43m(\u001b[49m\u001b[43m_fit_and_score\u001b[49m\u001b[43m)\u001b[49m\u001b[43m(\u001b[49m\n\u001b[1;32m    823\u001b[0m \u001b[43m        \u001b[49m\u001b[43mclone\u001b[49m\u001b[43m(\u001b[49m\u001b[43mbase_estimator\u001b[49m\u001b[43m)\u001b[49m\u001b[43m,\u001b[49m\n\u001b[1;32m    824\u001b[0m \u001b[43m        \u001b[49m\u001b[43mX\u001b[49m\u001b[43m,\u001b[49m\n\u001b[1;32m    825\u001b[0m \u001b[43m        \u001b[49m\u001b[43my\u001b[49m\u001b[43m,\u001b[49m\n\u001b[1;32m    826\u001b[0m \u001b[43m        \u001b[49m\u001b[43mtrain\u001b[49m\u001b[38;5;241;43m=\u001b[39;49m\u001b[43mtrain\u001b[49m\u001b[43m,\u001b[49m\n\u001b[1;32m    827\u001b[0m \u001b[43m        \u001b[49m\u001b[43mtest\u001b[49m\u001b[38;5;241;43m=\u001b[39;49m\u001b[43mtest\u001b[49m\u001b[43m,\u001b[49m\n\u001b[1;32m    828\u001b[0m \u001b[43m        \u001b[49m\u001b[43mparameters\u001b[49m\u001b[38;5;241;43m=\u001b[39;49m\u001b[43mparameters\u001b[49m\u001b[43m,\u001b[49m\n\u001b[1;32m    829\u001b[0m \u001b[43m        \u001b[49m\u001b[43msplit_progress\u001b[49m\u001b[38;5;241;43m=\u001b[39;49m\u001b[43m(\u001b[49m\u001b[43msplit_idx\u001b[49m\u001b[43m,\u001b[49m\u001b[43m \u001b[49m\u001b[43mn_splits\u001b[49m\u001b[43m)\u001b[49m\u001b[43m,\u001b[49m\n\u001b[1;32m    830\u001b[0m \u001b[43m        \u001b[49m\u001b[43mcandidate_progress\u001b[49m\u001b[38;5;241;43m=\u001b[39;49m\u001b[43m(\u001b[49m\u001b[43mcand_idx\u001b[49m\u001b[43m,\u001b[49m\u001b[43m \u001b[49m\u001b[43mn_candidates\u001b[49m\u001b[43m)\u001b[49m\u001b[43m,\u001b[49m\n\u001b[1;32m    831\u001b[0m \u001b[43m        \u001b[49m\u001b[38;5;241;43m*\u001b[39;49m\u001b[38;5;241;43m*\u001b[39;49m\u001b[43mfit_and_score_kwargs\u001b[49m\u001b[43m,\u001b[49m\n\u001b[1;32m    832\u001b[0m \u001b[43m    \u001b[49m\u001b[43m)\u001b[49m\n\u001b[1;32m    833\u001b[0m \u001b[43m    \u001b[49m\u001b[38;5;28;43;01mfor\u001b[39;49;00m\u001b[43m \u001b[49m\u001b[43m(\u001b[49m\u001b[43mcand_idx\u001b[49m\u001b[43m,\u001b[49m\u001b[43m \u001b[49m\u001b[43mparameters\u001b[49m\u001b[43m)\u001b[49m\u001b[43m,\u001b[49m\u001b[43m \u001b[49m\u001b[43m(\u001b[49m\u001b[43msplit_idx\u001b[49m\u001b[43m,\u001b[49m\u001b[43m \u001b[49m\u001b[43m(\u001b[49m\u001b[43mtrain\u001b[49m\u001b[43m,\u001b[49m\u001b[43m \u001b[49m\u001b[43mtest\u001b[49m\u001b[43m)\u001b[49m\u001b[43m)\u001b[49m\u001b[43m \u001b[49m\u001b[38;5;129;43;01min\u001b[39;49;00m\u001b[43m \u001b[49m\u001b[43mproduct\u001b[49m\u001b[43m(\u001b[49m\n\u001b[1;32m    834\u001b[0m \u001b[43m        \u001b[49m\u001b[38;5;28;43menumerate\u001b[39;49m\u001b[43m(\u001b[49m\u001b[43mcandidate_params\u001b[49m\u001b[43m)\u001b[49m\u001b[43m,\u001b[49m\u001b[43m \u001b[49m\u001b[38;5;28;43menumerate\u001b[39;49m\u001b[43m(\u001b[49m\u001b[43mcv\u001b[49m\u001b[38;5;241;43m.\u001b[39;49m\u001b[43msplit\u001b[49m\u001b[43m(\u001b[49m\u001b[43mX\u001b[49m\u001b[43m,\u001b[49m\u001b[43m \u001b[49m\u001b[43my\u001b[49m\u001b[43m,\u001b[49m\u001b[43m \u001b[49m\u001b[43mgroups\u001b[49m\u001b[43m)\u001b[49m\u001b[43m)\u001b[49m\n\u001b[1;32m    835\u001b[0m \u001b[43m    \u001b[49m\u001b[43m)\u001b[49m\n\u001b[1;32m    836\u001b[0m \u001b[43m\u001b[49m\u001b[43m)\u001b[49m\n\u001b[1;32m    838\u001b[0m \u001b[38;5;28;01mif\u001b[39;00m \u001b[38;5;28mlen\u001b[39m(out) \u001b[38;5;241m<\u001b[39m \u001b[38;5;241m1\u001b[39m:\n\u001b[1;32m    839\u001b[0m     \u001b[38;5;28;01mraise\u001b[39;00m \u001b[38;5;167;01mValueError\u001b[39;00m(\n\u001b[1;32m    840\u001b[0m         \u001b[38;5;124m\"\u001b[39m\u001b[38;5;124mNo fits were performed. \u001b[39m\u001b[38;5;124m\"\u001b[39m\n\u001b[1;32m    841\u001b[0m         \u001b[38;5;124m\"\u001b[39m\u001b[38;5;124mWas the CV iterator empty? \u001b[39m\u001b[38;5;124m\"\u001b[39m\n\u001b[1;32m    842\u001b[0m         \u001b[38;5;124m\"\u001b[39m\u001b[38;5;124mWere there no candidates?\u001b[39m\u001b[38;5;124m\"\u001b[39m\n\u001b[1;32m    843\u001b[0m     )\n",
      "File \u001b[0;32m~/.local/lib/python3.11/site-packages/sklearn/utils/parallel.py:63\u001b[0m, in \u001b[0;36mParallel.__call__\u001b[0;34m(self, iterable)\u001b[0m\n\u001b[1;32m     58\u001b[0m config \u001b[38;5;241m=\u001b[39m get_config()\n\u001b[1;32m     59\u001b[0m iterable_with_config \u001b[38;5;241m=\u001b[39m (\n\u001b[1;32m     60\u001b[0m     (_with_config(delayed_func, config), args, kwargs)\n\u001b[1;32m     61\u001b[0m     \u001b[38;5;28;01mfor\u001b[39;00m delayed_func, args, kwargs \u001b[38;5;129;01min\u001b[39;00m iterable\n\u001b[1;32m     62\u001b[0m )\n\u001b[0;32m---> 63\u001b[0m \u001b[38;5;28;01mreturn\u001b[39;00m \u001b[38;5;28;43msuper\u001b[39;49m\u001b[43m(\u001b[49m\u001b[43m)\u001b[49m\u001b[38;5;241;43m.\u001b[39;49m\u001b[38;5;21;43m__call__\u001b[39;49m\u001b[43m(\u001b[49m\u001b[43miterable_with_config\u001b[49m\u001b[43m)\u001b[49m\n",
      "File \u001b[0;32m~/.local/lib/python3.11/site-packages/joblib/parallel.py:1098\u001b[0m, in \u001b[0;36mParallel.__call__\u001b[0;34m(self, iterable)\u001b[0m\n\u001b[1;32m   1095\u001b[0m     \u001b[38;5;28mself\u001b[39m\u001b[38;5;241m.\u001b[39m_iterating \u001b[38;5;241m=\u001b[39m \u001b[38;5;28;01mFalse\u001b[39;00m\n\u001b[1;32m   1097\u001b[0m \u001b[38;5;28;01mwith\u001b[39;00m \u001b[38;5;28mself\u001b[39m\u001b[38;5;241m.\u001b[39m_backend\u001b[38;5;241m.\u001b[39mretrieval_context():\n\u001b[0;32m-> 1098\u001b[0m     \u001b[38;5;28;43mself\u001b[39;49m\u001b[38;5;241;43m.\u001b[39;49m\u001b[43mretrieve\u001b[49m\u001b[43m(\u001b[49m\u001b[43m)\u001b[49m\n\u001b[1;32m   1099\u001b[0m \u001b[38;5;66;03m# Make sure that we get a last message telling us we are done\u001b[39;00m\n\u001b[1;32m   1100\u001b[0m elapsed_time \u001b[38;5;241m=\u001b[39m time\u001b[38;5;241m.\u001b[39mtime() \u001b[38;5;241m-\u001b[39m \u001b[38;5;28mself\u001b[39m\u001b[38;5;241m.\u001b[39m_start_time\n",
      "File \u001b[0;32m~/.local/lib/python3.11/site-packages/joblib/parallel.py:975\u001b[0m, in \u001b[0;36mParallel.retrieve\u001b[0;34m(self)\u001b[0m\n\u001b[1;32m    973\u001b[0m \u001b[38;5;28;01mtry\u001b[39;00m:\n\u001b[1;32m    974\u001b[0m     \u001b[38;5;28;01mif\u001b[39;00m \u001b[38;5;28mgetattr\u001b[39m(\u001b[38;5;28mself\u001b[39m\u001b[38;5;241m.\u001b[39m_backend, \u001b[38;5;124m'\u001b[39m\u001b[38;5;124msupports_timeout\u001b[39m\u001b[38;5;124m'\u001b[39m, \u001b[38;5;28;01mFalse\u001b[39;00m):\n\u001b[0;32m--> 975\u001b[0m         \u001b[38;5;28mself\u001b[39m\u001b[38;5;241m.\u001b[39m_output\u001b[38;5;241m.\u001b[39mextend(\u001b[43mjob\u001b[49m\u001b[38;5;241;43m.\u001b[39;49m\u001b[43mget\u001b[49m\u001b[43m(\u001b[49m\u001b[43mtimeout\u001b[49m\u001b[38;5;241;43m=\u001b[39;49m\u001b[38;5;28;43mself\u001b[39;49m\u001b[38;5;241;43m.\u001b[39;49m\u001b[43mtimeout\u001b[49m\u001b[43m)\u001b[49m)\n\u001b[1;32m    976\u001b[0m     \u001b[38;5;28;01melse\u001b[39;00m:\n\u001b[1;32m    977\u001b[0m         \u001b[38;5;28mself\u001b[39m\u001b[38;5;241m.\u001b[39m_output\u001b[38;5;241m.\u001b[39mextend(job\u001b[38;5;241m.\u001b[39mget())\n",
      "File \u001b[0;32m~/.local/lib/python3.11/site-packages/joblib/_parallel_backends.py:567\u001b[0m, in \u001b[0;36mLokyBackend.wrap_future_result\u001b[0;34m(future, timeout)\u001b[0m\n\u001b[1;32m    564\u001b[0m \u001b[38;5;250m\u001b[39m\u001b[38;5;124;03m\"\"\"Wrapper for Future.result to implement the same behaviour as\u001b[39;00m\n\u001b[1;32m    565\u001b[0m \u001b[38;5;124;03mAsyncResults.get from multiprocessing.\"\"\"\u001b[39;00m\n\u001b[1;32m    566\u001b[0m \u001b[38;5;28;01mtry\u001b[39;00m:\n\u001b[0;32m--> 567\u001b[0m     \u001b[38;5;28;01mreturn\u001b[39;00m \u001b[43mfuture\u001b[49m\u001b[38;5;241;43m.\u001b[39;49m\u001b[43mresult\u001b[49m\u001b[43m(\u001b[49m\u001b[43mtimeout\u001b[49m\u001b[38;5;241;43m=\u001b[39;49m\u001b[43mtimeout\u001b[49m\u001b[43m)\u001b[49m\n\u001b[1;32m    568\u001b[0m \u001b[38;5;28;01mexcept\u001b[39;00m CfTimeoutError \u001b[38;5;28;01mas\u001b[39;00m e:\n\u001b[1;32m    569\u001b[0m     \u001b[38;5;28;01mraise\u001b[39;00m \u001b[38;5;167;01mTimeoutError\u001b[39;00m \u001b[38;5;28;01mfrom\u001b[39;00m \u001b[38;5;21;01me\u001b[39;00m\n",
      "File \u001b[0;32m/usr/lib/python3.11/concurrent/futures/_base.py:451\u001b[0m, in \u001b[0;36mFuture.result\u001b[0;34m(self, timeout)\u001b[0m\n\u001b[1;32m    448\u001b[0m \u001b[38;5;28;01melif\u001b[39;00m \u001b[38;5;28mself\u001b[39m\u001b[38;5;241m.\u001b[39m_state \u001b[38;5;241m==\u001b[39m FINISHED:\n\u001b[1;32m    449\u001b[0m     \u001b[38;5;28;01mreturn\u001b[39;00m \u001b[38;5;28mself\u001b[39m\u001b[38;5;241m.\u001b[39m__get_result()\n\u001b[0;32m--> 451\u001b[0m \u001b[38;5;28;43mself\u001b[39;49m\u001b[38;5;241;43m.\u001b[39;49m\u001b[43m_condition\u001b[49m\u001b[38;5;241;43m.\u001b[39;49m\u001b[43mwait\u001b[49m\u001b[43m(\u001b[49m\u001b[43mtimeout\u001b[49m\u001b[43m)\u001b[49m\n\u001b[1;32m    453\u001b[0m \u001b[38;5;28;01mif\u001b[39;00m \u001b[38;5;28mself\u001b[39m\u001b[38;5;241m.\u001b[39m_state \u001b[38;5;129;01min\u001b[39;00m [CANCELLED, CANCELLED_AND_NOTIFIED]:\n\u001b[1;32m    454\u001b[0m     \u001b[38;5;28;01mraise\u001b[39;00m CancelledError()\n",
      "File \u001b[0;32m/usr/lib/python3.11/threading.py:320\u001b[0m, in \u001b[0;36mCondition.wait\u001b[0;34m(self, timeout)\u001b[0m\n\u001b[1;32m    318\u001b[0m \u001b[38;5;28;01mtry\u001b[39;00m:    \u001b[38;5;66;03m# restore state no matter what (e.g., KeyboardInterrupt)\u001b[39;00m\n\u001b[1;32m    319\u001b[0m     \u001b[38;5;28;01mif\u001b[39;00m timeout \u001b[38;5;129;01mis\u001b[39;00m \u001b[38;5;28;01mNone\u001b[39;00m:\n\u001b[0;32m--> 320\u001b[0m         \u001b[43mwaiter\u001b[49m\u001b[38;5;241;43m.\u001b[39;49m\u001b[43macquire\u001b[49m\u001b[43m(\u001b[49m\u001b[43m)\u001b[49m\n\u001b[1;32m    321\u001b[0m         gotit \u001b[38;5;241m=\u001b[39m \u001b[38;5;28;01mTrue\u001b[39;00m\n\u001b[1;32m    322\u001b[0m     \u001b[38;5;28;01melse\u001b[39;00m:\n",
      "\u001b[0;31mKeyboardInterrupt\u001b[0m: "
     ]
    }
   ],
   "source": [
    "%%time\n",
    "gsboost = GridSearchCV(gradboost, param_grid={'n_estimators': np.arange(100, 145, 1), 'max_depth': [1, 2, 3], 'learning_rate': np.arange(0.09, 0.12, 0.01)}, scoring='accuracy', cv=KFold(n_splits=7, shuffle=True, random_state=0x575757), n_jobs=-1)\n",
    "gsboost.fit(X_train, y_train)\n",
    "print(gsboost.best_estimator_)\n",
    "print(accuracy_score(y_test, gsboost.best_estimator_.predict(X_test)), accuracy_score(y_train, gsboost.best_estimator_.predict(X_train)))"
   ]
  },
  {
   "cell_type": "code",
   "execution_count": 48,
   "id": "dabf8636-b025-415a-ae7a-fe5ccccf9ed8",
   "metadata": {
    "tags": []
   },
   "outputs": [
    {
     "data": {
      "text/plain": [
       "0.9974160206718347"
      ]
     },
     "execution_count": 48,
     "metadata": {},
     "output_type": "execute_result"
    }
   ],
   "source": [
    "accuracy_score(y_test, gsboost.best_estimator_.predict(X_test))"
   ]
  },
  {
   "cell_type": "code",
   "execution_count": 32,
   "id": "5aeecbce-ce52-44c3-8738-3f36a294e8b1",
   "metadata": {
    "tags": []
   },
   "outputs": [
    {
     "data": {
      "text/plain": [
       "3    426\n",
       "5    234\n",
       "2    140\n",
       "0    137\n",
       "1    137\n",
       "6    137\n",
       "7     71\n",
       "4      6\n",
       "Name: target, dtype: int64"
      ]
     },
     "execution_count": 32,
     "metadata": {},
     "output_type": "execute_result"
    }
   ],
   "source": [
    "y.value_counts()"
   ]
  },
  {
   "cell_type": "code",
   "execution_count": 35,
   "id": "71e5daf0-4b8f-414e-abed-7e2455219117",
   "metadata": {
    "tags": []
   },
   "outputs": [
    {
     "name": "stdout",
     "output_type": "stream",
     "text": [
      "0.937984496124031 0.9833518312985572\n"
     ]
    }
   ],
   "source": [
    "lregpipe = Pipeline([('Poly', PolynomialFeatures()), ('scaler', StandardScaler()), ('model', LogisticRegression(multi_class = 'ovr', max_iter = 10000))])\n",
    "lregpipe.fit(X_train, y_train)\n",
    "print(accuracy_score(y_test, lregpipe.predict(X_test)), accuracy_score(y_train, lregpipe.predict(X_train)))"
   ]
  },
  {
   "cell_type": "code",
   "execution_count": 66,
   "id": "48c59d31-5809-4fd4-9071-939ae4e17473",
   "metadata": {
    "tags": []
   },
   "outputs": [
    {
     "name": "stdout",
     "output_type": "stream",
     "text": [
      "Best model: Pipeline(steps=[('Poly', PolynomialFeatures()), ('scaler', StandardScaler()),\n",
      "                ('model',\n",
      "                 LogisticRegression(C=13, max_iter=10000, multi_class='ovr'))])\n",
      "Best score: 0.8626179245283019\n"
     ]
    }
   ],
   "source": [
    "print('Best model:', gslreg.best_estimator_)\n",
    "print('Best score:', gslreg.best_score_)"
   ]
  },
  {
   "cell_type": "code",
   "execution_count": 65,
   "id": "1b0b2239-9fb4-4a2e-ad5a-4a4db27ae3f4",
   "metadata": {
    "tags": []
   },
   "outputs": [
    {
     "name": "stdout",
     "output_type": "stream",
     "text": [
      "CPU times: user 57.1 s, sys: 2min 12s, total: 3min 10s\n",
      "Wall time: 1min 5s\n"
     ]
    },
    {
     "data": {
      "text/html": [
       "<style>#sk-container-id-8 {color: black;background-color: white;}#sk-container-id-8 pre{padding: 0;}#sk-container-id-8 div.sk-toggleable {background-color: white;}#sk-container-id-8 label.sk-toggleable__label {cursor: pointer;display: block;width: 100%;margin-bottom: 0;padding: 0.3em;box-sizing: border-box;text-align: center;}#sk-container-id-8 label.sk-toggleable__label-arrow:before {content: \"▸\";float: left;margin-right: 0.25em;color: #696969;}#sk-container-id-8 label.sk-toggleable__label-arrow:hover:before {color: black;}#sk-container-id-8 div.sk-estimator:hover label.sk-toggleable__label-arrow:before {color: black;}#sk-container-id-8 div.sk-toggleable__content {max-height: 0;max-width: 0;overflow: hidden;text-align: left;background-color: #f0f8ff;}#sk-container-id-8 div.sk-toggleable__content pre {margin: 0.2em;color: black;border-radius: 0.25em;background-color: #f0f8ff;}#sk-container-id-8 input.sk-toggleable__control:checked~div.sk-toggleable__content {max-height: 200px;max-width: 100%;overflow: auto;}#sk-container-id-8 input.sk-toggleable__control:checked~label.sk-toggleable__label-arrow:before {content: \"▾\";}#sk-container-id-8 div.sk-estimator input.sk-toggleable__control:checked~label.sk-toggleable__label {background-color: #d4ebff;}#sk-container-id-8 div.sk-label input.sk-toggleable__control:checked~label.sk-toggleable__label {background-color: #d4ebff;}#sk-container-id-8 input.sk-hidden--visually {border: 0;clip: rect(1px 1px 1px 1px);clip: rect(1px, 1px, 1px, 1px);height: 1px;margin: -1px;overflow: hidden;padding: 0;position: absolute;width: 1px;}#sk-container-id-8 div.sk-estimator {font-family: monospace;background-color: #f0f8ff;border: 1px dotted black;border-radius: 0.25em;box-sizing: border-box;margin-bottom: 0.5em;}#sk-container-id-8 div.sk-estimator:hover {background-color: #d4ebff;}#sk-container-id-8 div.sk-parallel-item::after {content: \"\";width: 100%;border-bottom: 1px solid gray;flex-grow: 1;}#sk-container-id-8 div.sk-label:hover label.sk-toggleable__label {background-color: #d4ebff;}#sk-container-id-8 div.sk-serial::before {content: \"\";position: absolute;border-left: 1px solid gray;box-sizing: border-box;top: 0;bottom: 0;left: 50%;z-index: 0;}#sk-container-id-8 div.sk-serial {display: flex;flex-direction: column;align-items: center;background-color: white;padding-right: 0.2em;padding-left: 0.2em;position: relative;}#sk-container-id-8 div.sk-item {position: relative;z-index: 1;}#sk-container-id-8 div.sk-parallel {display: flex;align-items: stretch;justify-content: center;background-color: white;position: relative;}#sk-container-id-8 div.sk-item::before, #sk-container-id-8 div.sk-parallel-item::before {content: \"\";position: absolute;border-left: 1px solid gray;box-sizing: border-box;top: 0;bottom: 0;left: 50%;z-index: -1;}#sk-container-id-8 div.sk-parallel-item {display: flex;flex-direction: column;z-index: 1;position: relative;background-color: white;}#sk-container-id-8 div.sk-parallel-item:first-child::after {align-self: flex-end;width: 50%;}#sk-container-id-8 div.sk-parallel-item:last-child::after {align-self: flex-start;width: 50%;}#sk-container-id-8 div.sk-parallel-item:only-child::after {width: 0;}#sk-container-id-8 div.sk-dashed-wrapped {border: 1px dashed gray;margin: 0 0.4em 0.5em 0.4em;box-sizing: border-box;padding-bottom: 0.4em;background-color: white;}#sk-container-id-8 div.sk-label label {font-family: monospace;font-weight: bold;display: inline-block;line-height: 1.2em;}#sk-container-id-8 div.sk-label-container {text-align: center;}#sk-container-id-8 div.sk-container {/* jupyter's `normalize.less` sets `[hidden] { display: none; }` but bootstrap.min.css set `[hidden] { display: none !important; }` so we also need the `!important` here to be able to override the default hidden behavior on the sphinx rendered scikit-learn.org. See: https://github.com/scikit-learn/scikit-learn/issues/21755 */display: inline-block !important;position: relative;}#sk-container-id-8 div.sk-text-repr-fallback {display: none;}</style><div id=\"sk-container-id-8\" class=\"sk-top-container\"><div class=\"sk-text-repr-fallback\"><pre>GridSearchCV(cv=KFold(n_splits=8, random_state=5723991, shuffle=True),\n",
       "             estimator=Pipeline(steps=[(&#x27;Poly&#x27;, PolynomialFeatures()),\n",
       "                                       (&#x27;scaler&#x27;, StandardScaler()),\n",
       "                                       (&#x27;model&#x27;,\n",
       "                                        LogisticRegression(max_iter=10000,\n",
       "                                                           multi_class=&#x27;ovr&#x27;))]),\n",
       "             n_jobs=-1,\n",
       "             param_grid={&#x27;Poly__degree&#x27;: array([1, 2]),\n",
       "                         &#x27;model__C&#x27;: array([ 1,  2,  3,  4,  5,  6,  7,  8,  9, 10, 11, 12, 13, 14, 15, 16, 17,\n",
       "       18, 19])},\n",
       "             scoring=&#x27;accuracy&#x27;)</pre><b>In a Jupyter environment, please rerun this cell to show the HTML representation or trust the notebook. <br />On GitHub, the HTML representation is unable to render, please try loading this page with nbviewer.org.</b></div><div class=\"sk-container\" hidden><div class=\"sk-item sk-dashed-wrapped\"><div class=\"sk-label-container\"><div class=\"sk-label sk-toggleable\"><input class=\"sk-toggleable__control sk-hidden--visually\" id=\"sk-estimator-id-32\" type=\"checkbox\" ><label for=\"sk-estimator-id-32\" class=\"sk-toggleable__label sk-toggleable__label-arrow\">GridSearchCV</label><div class=\"sk-toggleable__content\"><pre>GridSearchCV(cv=KFold(n_splits=8, random_state=5723991, shuffle=True),\n",
       "             estimator=Pipeline(steps=[(&#x27;Poly&#x27;, PolynomialFeatures()),\n",
       "                                       (&#x27;scaler&#x27;, StandardScaler()),\n",
       "                                       (&#x27;model&#x27;,\n",
       "                                        LogisticRegression(max_iter=10000,\n",
       "                                                           multi_class=&#x27;ovr&#x27;))]),\n",
       "             n_jobs=-1,\n",
       "             param_grid={&#x27;Poly__degree&#x27;: array([1, 2]),\n",
       "                         &#x27;model__C&#x27;: array([ 1,  2,  3,  4,  5,  6,  7,  8,  9, 10, 11, 12, 13, 14, 15, 16, 17,\n",
       "       18, 19])},\n",
       "             scoring=&#x27;accuracy&#x27;)</pre></div></div></div><div class=\"sk-parallel\"><div class=\"sk-parallel-item\"><div class=\"sk-item\"><div class=\"sk-label-container\"><div class=\"sk-label sk-toggleable\"><input class=\"sk-toggleable__control sk-hidden--visually\" id=\"sk-estimator-id-33\" type=\"checkbox\" ><label for=\"sk-estimator-id-33\" class=\"sk-toggleable__label sk-toggleable__label-arrow\">estimator: Pipeline</label><div class=\"sk-toggleable__content\"><pre>Pipeline(steps=[(&#x27;Poly&#x27;, PolynomialFeatures()), (&#x27;scaler&#x27;, StandardScaler()),\n",
       "                (&#x27;model&#x27;,\n",
       "                 LogisticRegression(max_iter=10000, multi_class=&#x27;ovr&#x27;))])</pre></div></div></div><div class=\"sk-serial\"><div class=\"sk-item\"><div class=\"sk-serial\"><div class=\"sk-item\"><div class=\"sk-estimator sk-toggleable\"><input class=\"sk-toggleable__control sk-hidden--visually\" id=\"sk-estimator-id-34\" type=\"checkbox\" ><label for=\"sk-estimator-id-34\" class=\"sk-toggleable__label sk-toggleable__label-arrow\">PolynomialFeatures</label><div class=\"sk-toggleable__content\"><pre>PolynomialFeatures()</pre></div></div></div><div class=\"sk-item\"><div class=\"sk-estimator sk-toggleable\"><input class=\"sk-toggleable__control sk-hidden--visually\" id=\"sk-estimator-id-35\" type=\"checkbox\" ><label for=\"sk-estimator-id-35\" class=\"sk-toggleable__label sk-toggleable__label-arrow\">StandardScaler</label><div class=\"sk-toggleable__content\"><pre>StandardScaler()</pre></div></div></div><div class=\"sk-item\"><div class=\"sk-estimator sk-toggleable\"><input class=\"sk-toggleable__control sk-hidden--visually\" id=\"sk-estimator-id-36\" type=\"checkbox\" ><label for=\"sk-estimator-id-36\" class=\"sk-toggleable__label sk-toggleable__label-arrow\">LogisticRegression</label><div class=\"sk-toggleable__content\"><pre>LogisticRegression(max_iter=10000, multi_class=&#x27;ovr&#x27;)</pre></div></div></div></div></div></div></div></div></div></div></div></div>"
      ],
      "text/plain": [
       "GridSearchCV(cv=KFold(n_splits=8, random_state=5723991, shuffle=True),\n",
       "             estimator=Pipeline(steps=[('Poly', PolynomialFeatures()),\n",
       "                                       ('scaler', StandardScaler()),\n",
       "                                       ('model',\n",
       "                                        LogisticRegression(max_iter=10000,\n",
       "                                                           multi_class='ovr'))]),\n",
       "             n_jobs=-1,\n",
       "             param_grid={'Poly__degree': array([1, 2]),\n",
       "                         'model__C': array([ 1,  2,  3,  4,  5,  6,  7,  8,  9, 10, 11, 12, 13, 14, 15, 16, 17,\n",
       "       18, 19])},\n",
       "             scoring='accuracy')"
      ]
     },
     "execution_count": 65,
     "metadata": {},
     "output_type": "execute_result"
    }
   ],
   "source": [
    "%%time\n",
    "lregpipe = Pipeline([('Poly', PolynomialFeatures()), ('scaler', StandardScaler()), ('model', LogisticRegression(multi_class = 'ovr', max_iter = 10000))])\n",
    "gslreg = GridSearchCV(lregpipe, param_grid={'Poly__degree': np.arange(1, 3, 1), 'model__C': np.arange(1, 20, 1)}, scoring='accuracy', cv=KFold(n_splits=8, shuffle=True, random_state=0x575757), n_jobs=-1)\n",
    "gslreg.fit(X_train, y_train)"
   ]
  },
  {
   "cell_type": "code",
   "execution_count": 67,
   "id": "c1fbcaf0-46b5-4101-bc87-cbf5fe273e40",
   "metadata": {
    "tags": []
   },
   "outputs": [
    {
     "name": "stdout",
     "output_type": "stream",
     "text": [
      "test score: 0.8791208791208791 train score: 0.9360189573459715\n"
     ]
    }
   ],
   "source": [
    "print('test score:', gslreg.best_estimator_.score(X_test, y_test), 'train score:', gslreg.best_estimator_.score(X_train, y_train))"
   ]
  },
  {
   "cell_type": "code",
   "execution_count": 15,
   "id": "53b49bb8-b69b-477a-98d6-0c7df75fe102",
   "metadata": {
    "tags": []
   },
   "outputs": [],
   "source": [
    "def treatment(datachunk, seedsfordicts, maxdegforretprobs):\n",
    "    g, label = datachunk\n",
    "    target = int(label)\n",
    "    #g = nx.to_numpy_array(to_networkx(g))\n",
    "    g = g - np.diag(np.diag(g))\n",
    "    features = createfeatures(g, seedsfordicts, maxdegforretprobs)\n",
    "    return target, features\n",
    "    \n",
    "\n",
    "def createfeatures(graph, seedsfordicts, maxdegforretprobs):\n",
    "    polyslist = []\n",
    "    # for t in seedsfordicts:\n",
    "    #     polys, Graph = PPfromrandict(graph, t)\n",
    "    #     polyslist.append(polys)\n",
    "    \n",
    "    # polys, Graph = PPbij(graph)\n",
    "    # polyslist.append(polys)\n",
    "    # for t in range(1, maxdegforretprobs):\n",
    "    #     polys, Graph = PPprobs(graph, t)\n",
    "    #     polyslist.append(polys)\n",
    "    \n",
    "    # degs = []\n",
    "    # counts = np.unique(sum(graph), return_counts=True)\n",
    "    # coord = 0\n",
    "    # for t in range(len(graph)):\n",
    "    #     if len(counts[0]) > coord:\n",
    "    #         if counts[0][coord]==t:\n",
    "    #             degs.append(counts[1][coord])\n",
    "    #             coord += 1\n",
    "    #         else:\n",
    "    #             degs.append(0)\n",
    "    #     else: \n",
    "    #         degs.append(0)\n",
    "    # degpoly = tuple((tuple(degs), tuple()))\n",
    "    # polyslist.append(degpoly)  \n",
    "    \n",
    "\n",
    "    polys, Graph = PPfastprobs(graph, maxdegforretprobs)\n",
    "\n",
    "    for t in range(len(polys)):\n",
    "        polyslist.append(list(polys)[t])\n",
    "    return polyslist\n",
    "\n",
    "def createTUDataset(name, seedsfordicts, maxdegforretprobs):\n",
    "    data = TUDataset(name, transform=lambda g: g.adj(scipy_fmt='coo').toarray())\n",
    "\n",
    "\n",
    "\n",
    "    dataset = process_map(treatment, data, repeat(seedsfordicts), repeat(maxdegforretprobs), chunksize = min(int(len(data)/50), 100))\n",
    "    targets, allfeatures = zip(*dataset)\n",
    "\n",
    "\n",
    "    dfs = []\n",
    "    for i, poly in enumerate(zip(*allfeatures)):\n",
    "        x, y = zip(*poly)\n",
    "        dfs.append(pd.DataFrame(map(reversed, x)).add_prefix(f'poly_{i}/x^'))\n",
    "        dfs.append(pd.DataFrame(map(reversed, y)).add_prefix(f'poly_{i}/y^'))\n",
    "    return pd.concat(dfs, axis=1).fillna(0), targets\n"
   ]
  },
  {
   "cell_type": "code",
   "execution_count": 10,
   "id": "ee4b30c5-e95a-4410-a669-96d4dd7cfc41",
   "metadata": {
    "collapsed": true,
    "jupyter": {
     "outputs_hidden": true
    },
    "tags": []
   },
   "outputs": [
    {
     "ename": "KeyboardInterrupt",
     "evalue": "",
     "output_type": "error",
     "traceback": [
      "\u001b[0;31m---------------------------------------------------------------------------\u001b[0m",
      "\u001b[0;31mKeyboardInterrupt\u001b[0m                         Traceback (most recent call last)",
      "Cell \u001b[0;32mIn[10], line 1\u001b[0m\n\u001b[0;32m----> 1\u001b[0m data \u001b[38;5;241m=\u001b[39m \u001b[43mTUDataset\u001b[49m\u001b[43m(\u001b[49m\u001b[38;5;124;43m'\u001b[39;49m\u001b[38;5;124;43mreddit_threads\u001b[39;49m\u001b[38;5;124;43m'\u001b[39;49m\u001b[43m)\u001b[49m\n",
      "File \u001b[0;32m~/.local/lib/python3.11/site-packages/dgl/data/tu.py:327\u001b[0m, in \u001b[0;36mTUDataset.__init__\u001b[0;34m(self, name, raw_dir, force_reload, verbose, transform)\u001b[0m\n\u001b[1;32m    325\u001b[0m \u001b[38;5;28;01mdef\u001b[39;00m \u001b[38;5;21m__init__\u001b[39m(\u001b[38;5;28mself\u001b[39m, name, raw_dir\u001b[38;5;241m=\u001b[39m\u001b[38;5;28;01mNone\u001b[39;00m, force_reload\u001b[38;5;241m=\u001b[39m\u001b[38;5;28;01mFalse\u001b[39;00m, verbose\u001b[38;5;241m=\u001b[39m\u001b[38;5;28;01mFalse\u001b[39;00m, transform\u001b[38;5;241m=\u001b[39m\u001b[38;5;28;01mNone\u001b[39;00m):\n\u001b[1;32m    326\u001b[0m     url \u001b[38;5;241m=\u001b[39m \u001b[38;5;28mself\u001b[39m\u001b[38;5;241m.\u001b[39m_url\u001b[38;5;241m.\u001b[39mformat(name)\n\u001b[0;32m--> 327\u001b[0m     \u001b[38;5;28;43msuper\u001b[39;49m\u001b[43m(\u001b[49m\u001b[43mTUDataset\u001b[49m\u001b[43m,\u001b[49m\u001b[43m \u001b[49m\u001b[38;5;28;43mself\u001b[39;49m\u001b[43m)\u001b[49m\u001b[38;5;241;43m.\u001b[39;49m\u001b[38;5;21;43m__init__\u001b[39;49m\u001b[43m(\u001b[49m\u001b[43mname\u001b[49m\u001b[38;5;241;43m=\u001b[39;49m\u001b[43mname\u001b[49m\u001b[43m,\u001b[49m\u001b[43m \u001b[49m\u001b[43murl\u001b[49m\u001b[38;5;241;43m=\u001b[39;49m\u001b[43murl\u001b[49m\u001b[43m,\u001b[49m\n\u001b[1;32m    328\u001b[0m \u001b[43m                                    \u001b[49m\u001b[43mraw_dir\u001b[49m\u001b[38;5;241;43m=\u001b[39;49m\u001b[43mraw_dir\u001b[49m\u001b[43m,\u001b[49m\u001b[43m \u001b[49m\u001b[43mforce_reload\u001b[49m\u001b[38;5;241;43m=\u001b[39;49m\u001b[43mforce_reload\u001b[49m\u001b[43m,\u001b[49m\n\u001b[1;32m    329\u001b[0m \u001b[43m                                    \u001b[49m\u001b[43mverbose\u001b[49m\u001b[38;5;241;43m=\u001b[39;49m\u001b[43mverbose\u001b[49m\u001b[43m,\u001b[49m\u001b[43m \u001b[49m\u001b[43mtransform\u001b[49m\u001b[38;5;241;43m=\u001b[39;49m\u001b[43mtransform\u001b[49m\u001b[43m)\u001b[49m\n",
      "File \u001b[0;32m~/.local/lib/python3.11/site-packages/dgl/data/dgl_dataset.py:321\u001b[0m, in \u001b[0;36mDGLBuiltinDataset.__init__\u001b[0;34m(self, name, url, raw_dir, hash_key, force_reload, verbose, transform)\u001b[0m\n\u001b[1;32m    311\u001b[0m \u001b[38;5;28;01mdef\u001b[39;00m \u001b[38;5;21m__init__\u001b[39m(\n\u001b[1;32m    312\u001b[0m     \u001b[38;5;28mself\u001b[39m,\n\u001b[1;32m    313\u001b[0m     name,\n\u001b[0;32m   (...)\u001b[0m\n\u001b[1;32m    319\u001b[0m     transform\u001b[38;5;241m=\u001b[39m\u001b[38;5;28;01mNone\u001b[39;00m,\n\u001b[1;32m    320\u001b[0m ):\n\u001b[0;32m--> 321\u001b[0m     \u001b[38;5;28;43msuper\u001b[39;49m\u001b[43m(\u001b[49m\u001b[43mDGLBuiltinDataset\u001b[49m\u001b[43m,\u001b[49m\u001b[43m \u001b[49m\u001b[38;5;28;43mself\u001b[39;49m\u001b[43m)\u001b[49m\u001b[38;5;241;43m.\u001b[39;49m\u001b[38;5;21;43m__init__\u001b[39;49m\u001b[43m(\u001b[49m\n\u001b[1;32m    322\u001b[0m \u001b[43m        \u001b[49m\u001b[43mname\u001b[49m\u001b[43m,\u001b[49m\n\u001b[1;32m    323\u001b[0m \u001b[43m        \u001b[49m\u001b[43murl\u001b[49m\u001b[38;5;241;43m=\u001b[39;49m\u001b[43murl\u001b[49m\u001b[43m,\u001b[49m\n\u001b[1;32m    324\u001b[0m \u001b[43m        \u001b[49m\u001b[43mraw_dir\u001b[49m\u001b[38;5;241;43m=\u001b[39;49m\u001b[43mraw_dir\u001b[49m\u001b[43m,\u001b[49m\n\u001b[1;32m    325\u001b[0m \u001b[43m        \u001b[49m\u001b[43msave_dir\u001b[49m\u001b[38;5;241;43m=\u001b[39;49m\u001b[38;5;28;43;01mNone\u001b[39;49;00m\u001b[43m,\u001b[49m\n\u001b[1;32m    326\u001b[0m \u001b[43m        \u001b[49m\u001b[43mhash_key\u001b[49m\u001b[38;5;241;43m=\u001b[39;49m\u001b[43mhash_key\u001b[49m\u001b[43m,\u001b[49m\n\u001b[1;32m    327\u001b[0m \u001b[43m        \u001b[49m\u001b[43mforce_reload\u001b[49m\u001b[38;5;241;43m=\u001b[39;49m\u001b[43mforce_reload\u001b[49m\u001b[43m,\u001b[49m\n\u001b[1;32m    328\u001b[0m \u001b[43m        \u001b[49m\u001b[43mverbose\u001b[49m\u001b[38;5;241;43m=\u001b[39;49m\u001b[43mverbose\u001b[49m\u001b[43m,\u001b[49m\n\u001b[1;32m    329\u001b[0m \u001b[43m        \u001b[49m\u001b[43mtransform\u001b[49m\u001b[38;5;241;43m=\u001b[39;49m\u001b[43mtransform\u001b[49m\u001b[43m,\u001b[49m\n\u001b[1;32m    330\u001b[0m \u001b[43m    \u001b[49m\u001b[43m)\u001b[49m\n",
      "File \u001b[0;32m~/.local/lib/python3.11/site-packages/dgl/data/dgl_dataset.py:113\u001b[0m, in \u001b[0;36mDGLDataset.__init__\u001b[0;34m(self, name, url, raw_dir, save_dir, hash_key, force_reload, verbose, transform)\u001b[0m\n\u001b[1;32m    110\u001b[0m \u001b[38;5;28;01melse\u001b[39;00m:\n\u001b[1;32m    111\u001b[0m     \u001b[38;5;28mself\u001b[39m\u001b[38;5;241m.\u001b[39m_save_dir \u001b[38;5;241m=\u001b[39m save_dir\n\u001b[0;32m--> 113\u001b[0m \u001b[38;5;28;43mself\u001b[39;49m\u001b[38;5;241;43m.\u001b[39;49m\u001b[43m_load\u001b[49m\u001b[43m(\u001b[49m\u001b[43m)\u001b[49m\n",
      "File \u001b[0;32m~/.local/lib/python3.11/site-packages/dgl/data/dgl_dataset.py:204\u001b[0m, in \u001b[0;36mDGLDataset._load\u001b[0;34m(self)\u001b[0m\n\u001b[1;32m    202\u001b[0m \u001b[38;5;28;01mif\u001b[39;00m \u001b[38;5;129;01mnot\u001b[39;00m load_flag:\n\u001b[1;32m    203\u001b[0m     \u001b[38;5;28mself\u001b[39m\u001b[38;5;241m.\u001b[39m_download()\n\u001b[0;32m--> 204\u001b[0m     \u001b[38;5;28;43mself\u001b[39;49m\u001b[38;5;241;43m.\u001b[39;49m\u001b[43mprocess\u001b[49m\u001b[43m(\u001b[49m\u001b[43m)\u001b[49m\n\u001b[1;32m    205\u001b[0m     \u001b[38;5;28mself\u001b[39m\u001b[38;5;241m.\u001b[39msave()\n\u001b[1;32m    206\u001b[0m     \u001b[38;5;28;01mif\u001b[39;00m \u001b[38;5;28mself\u001b[39m\u001b[38;5;241m.\u001b[39mverbose:\n",
      "File \u001b[0;32m~/.local/lib/python3.11/site-packages/dgl/data/tu.py:356\u001b[0m, in \u001b[0;36mTUDataset.process\u001b[0;34m(self)\u001b[0m\n\u001b[1;32m    354\u001b[0m \u001b[38;5;28mself\u001b[39m\u001b[38;5;241m.\u001b[39mmax_num_node \u001b[38;5;241m=\u001b[39m \u001b[38;5;241m0\u001b[39m\n\u001b[1;32m    355\u001b[0m \u001b[38;5;28;01mfor\u001b[39;00m idx \u001b[38;5;129;01min\u001b[39;00m \u001b[38;5;28mrange\u001b[39m(np\u001b[38;5;241m.\u001b[39mmax(DS_indicator) \u001b[38;5;241m+\u001b[39m \u001b[38;5;241m1\u001b[39m):\n\u001b[0;32m--> 356\u001b[0m     node_idx \u001b[38;5;241m=\u001b[39m \u001b[43mnp\u001b[49m\u001b[38;5;241;43m.\u001b[39;49m\u001b[43mwhere\u001b[49m\u001b[43m(\u001b[49m\u001b[43mDS_indicator\u001b[49m\u001b[43m \u001b[49m\u001b[38;5;241;43m==\u001b[39;49m\u001b[43m \u001b[49m\u001b[43midx\u001b[49m\u001b[43m)\u001b[49m\n\u001b[1;32m    357\u001b[0m     node_idx_list\u001b[38;5;241m.\u001b[39mappend(node_idx[\u001b[38;5;241m0\u001b[39m])\n\u001b[1;32m    358\u001b[0m     \u001b[38;5;28;01mif\u001b[39;00m \u001b[38;5;28mlen\u001b[39m(node_idx[\u001b[38;5;241m0\u001b[39m]) \u001b[38;5;241m>\u001b[39m \u001b[38;5;28mself\u001b[39m\u001b[38;5;241m.\u001b[39mmax_num_node:\n",
      "File \u001b[0;32m<__array_function__ internals>:200\u001b[0m, in \u001b[0;36mwhere\u001b[0;34m(*args, **kwargs)\u001b[0m\n",
      "\u001b[0;31mKeyboardInterrupt\u001b[0m: "
     ]
    }
   ],
   "source": [
    "data = TUDataset('reddit_threads')"
   ]
  },
  {
   "cell_type": "code",
   "execution_count": 137,
   "id": "8d9cd148-edb8-436a-bfa2-32ef64f730d4",
   "metadata": {
    "tags": []
   },
   "outputs": [
    {
     "data": {
      "text/plain": [
       "(Graph(num_nodes=47, num_edges=106,\n",
       "       ndata_schemes={'_ID': Scheme(shape=(), dtype=torch.int64), 'node_attr': Scheme(shape=(4,), dtype=torch.float64), 'node_labels': Scheme(shape=(1,), dtype=torch.int64)}\n",
       "       edata_schemes={'_ID': Scheme(shape=(), dtype=torch.int64), 'edge_labels': Scheme(shape=(1,), dtype=torch.int64)}),\n",
       " tensor([0]))"
      ]
     },
     "execution_count": 137,
     "metadata": {},
     "output_type": "execute_result"
    }
   ],
   "source": [
    "data[0]"
   ]
  },
  {
   "cell_type": "code",
   "execution_count": 78,
   "id": "2df2b4b8-f3f2-4cbe-8728-96a1f27f6068",
   "metadata": {
    "tags": []
   },
   "outputs": [],
   "source": [
    "from pprint import pprint"
   ]
  },
  {
   "cell_type": "code",
   "execution_count": 139,
   "id": "1d430ec2-89a3-47d9-9d9b-12672672212a",
   "metadata": {
    "tags": []
   },
   "outputs": [
    {
     "name": "stdout",
     "output_type": "stream",
     "text": [
      "((((1.0, 15.0), (2.0,)), ((1.0, 1.0, 0.0, 1.0, 0.0, 1.0, 1.0, 1.0, 4.0, 1.0, 3.0, 2.0), (1.0, 0.0, 1.0, 0.0, 0.0, 0.0, 0.0, 0.0, 0.0, 0.0)), ((1.0, 0.0, 0.0, 3.0, 1.0, 4.0, 4.0, 1.0, 2.0), (1.0, 1.0, 0.0, 0.0, 0.0, 0.0, 0.0, 0.0))), array([[0., 1., 0., 0., 0., 1., 1., 0., 0., 0., 0., 0., 0., 0., 0., 0.],\n",
      "       [1., 0., 1., 0., 0., 0., 0., 0., 0., 0., 0., 0., 0., 0., 0., 0.],\n",
      "       [0., 1., 0., 1., 0., 0., 0., 1., 0., 0., 0., 0., 0., 0., 0., 0.],\n",
      "       [0., 0., 1., 0., 1., 0., 0., 0., 0., 0., 0., 0., 0., 0., 0., 0.],\n",
      "       [0., 0., 0., 1., 0., 1., 0., 0., 0., 0., 0., 0., 0., 0., 0., 0.],\n",
      "       [1., 0., 0., 0., 1., 0., 0., 0., 1., 0., 0., 0., 0., 0., 0., 0.],\n",
      "       [1., 0., 0., 0., 0., 0., 0., 0., 0., 0., 0., 0., 0., 0., 0., 0.],\n",
      "       [0., 0., 1., 0., 0., 0., 0., 0., 0., 0., 0., 0., 0., 0., 0., 0.],\n",
      "       [0., 0., 0., 0., 0., 1., 0., 0., 0., 1., 0., 0., 1., 0., 0., 0.],\n",
      "       [0., 0., 0., 0., 0., 0., 0., 0., 1., 0., 1., 0., 0., 0., 0., 0.],\n",
      "       [0., 0., 0., 0., 0., 0., 0., 0., 0., 1., 0., 1., 0., 0., 1., 0.],\n",
      "       [0., 0., 0., 0., 0., 0., 0., 0., 0., 0., 1., 0., 1., 1., 0., 0.],\n",
      "       [0., 0., 0., 0., 0., 0., 0., 0., 1., 0., 0., 1., 0., 0., 0., 0.],\n",
      "       [0., 0., 0., 0., 0., 0., 0., 0., 0., 0., 0., 1., 0., 0., 0., 0.],\n",
      "       [0., 0., 0., 0., 0., 0., 0., 0., 0., 0., 1., 0., 0., 0., 0., 1.],\n",
      "       [0., 0., 0., 0., 0., 0., 0., 0., 0., 0., 0., 0., 0., 0., 1., 0.]]))\n"
     ]
    }
   ],
   "source": [
    "print(PPfastprobs(nx.to_numpy_array(to_networkx(data[4][0])), 3))"
   ]
  },
  {
   "cell_type": "code",
   "execution_count": null,
   "id": "26544195-166d-43ea-bcaf-5dc9a6300bad",
   "metadata": {
    "tags": []
   },
   "outputs": [],
   "source": [
    "data = TUDataset('reddit_threads', transform=lambda g: g.adj(scipy_fmt='coo').toarray())"
   ]
  },
  {
   "cell_type": "code",
   "execution_count": 340,
   "id": "861733dc-99d2-4a42-9689-b882053752cb",
   "metadata": {
    "tags": []
   },
   "outputs": [
    {
     "data": {
      "text/plain": [
       "Dataset(\"AIDS\", num_graphs=2000, save_path=/home/opl1do/.dgl/AIDS)"
      ]
     },
     "execution_count": 340,
     "metadata": {},
     "output_type": "execute_result"
    }
   ],
   "source": [
    "data"
   ]
  },
  {
   "cell_type": "code",
   "execution_count": null,
   "id": "f7b4ad71-3f4b-4020-a7cf-8d2492117f39",
   "metadata": {
    "tags": []
   },
   "outputs": [
    {
     "data": {
      "application/vnd.jupyter.widget-view+json": {
       "model_id": "b751a029c7514f35b99b0ec1dcf7b1be",
       "version_major": 2,
       "version_minor": 0
      },
      "text/plain": [
       "  0%|          | 0/2000 [00:00<?, ?it/s]"
      ]
     },
     "metadata": {},
     "output_type": "display_data"
    }
   ],
   "source": [
    "X, y = createTUDataset('REDDIT-BINARY', [], 1)"
   ]
  },
  {
   "cell_type": "code",
   "execution_count": 335,
   "id": "e85ab310-4815-4a76-a9e0-209bf545092a",
   "metadata": {
    "tags": []
   },
   "outputs": [
    {
     "data": {
      "text/plain": [
       "(1500, 6265)"
      ]
     },
     "execution_count": 335,
     "metadata": {},
     "output_type": "execute_result"
    }
   ],
   "source": [
    "X.shape"
   ]
  },
  {
   "cell_type": "code",
   "execution_count": 336,
   "id": "78886ae8-e73d-4d53-9b43-d130aa9182ce",
   "metadata": {
    "tags": []
   },
   "outputs": [
    {
     "data": {
      "text/html": [
       "<div>\n",
       "<style scoped>\n",
       "    .dataframe tbody tr th:only-of-type {\n",
       "        vertical-align: middle;\n",
       "    }\n",
       "\n",
       "    .dataframe tbody tr th {\n",
       "        vertical-align: top;\n",
       "    }\n",
       "\n",
       "    .dataframe thead th {\n",
       "        text-align: right;\n",
       "    }\n",
       "</style>\n",
       "<table border=\"1\" class=\"dataframe\">\n",
       "  <thead>\n",
       "    <tr style=\"text-align: right;\">\n",
       "      <th></th>\n",
       "      <th>poly_0/x^0</th>\n",
       "      <th>poly_0/x^1</th>\n",
       "      <th>poly_0/x^2</th>\n",
       "      <th>poly_0/x^3</th>\n",
       "      <th>poly_0/x^4</th>\n",
       "      <th>poly_0/x^5</th>\n",
       "      <th>poly_0/x^6</th>\n",
       "      <th>poly_0/x^7</th>\n",
       "      <th>poly_0/x^8</th>\n",
       "      <th>poly_0/x^9</th>\n",
       "      <th>...</th>\n",
       "      <th>poly_10/y^336</th>\n",
       "      <th>poly_10/y^337</th>\n",
       "      <th>poly_10/y^338</th>\n",
       "      <th>poly_10/y^339</th>\n",
       "      <th>poly_10/y^340</th>\n",
       "      <th>poly_10/y^341</th>\n",
       "      <th>poly_10/y^342</th>\n",
       "      <th>poly_10/y^343</th>\n",
       "      <th>poly_10/y^344</th>\n",
       "      <th>poly_10/y^345</th>\n",
       "    </tr>\n",
       "  </thead>\n",
       "  <tbody>\n",
       "    <tr>\n",
       "      <th>0</th>\n",
       "      <td>0</td>\n",
       "      <td>0</td>\n",
       "      <td>0</td>\n",
       "      <td>0</td>\n",
       "      <td>0</td>\n",
       "      <td>0</td>\n",
       "      <td>0</td>\n",
       "      <td>0.0</td>\n",
       "      <td>0.0</td>\n",
       "      <td>0.0</td>\n",
       "      <td>...</td>\n",
       "      <td>0.0</td>\n",
       "      <td>0.0</td>\n",
       "      <td>0.0</td>\n",
       "      <td>0.0</td>\n",
       "      <td>0.0</td>\n",
       "      <td>0.0</td>\n",
       "      <td>0.0</td>\n",
       "      <td>0.0</td>\n",
       "      <td>0.0</td>\n",
       "      <td>0.0</td>\n",
       "    </tr>\n",
       "    <tr>\n",
       "      <th>1</th>\n",
       "      <td>12</td>\n",
       "      <td>0</td>\n",
       "      <td>0</td>\n",
       "      <td>0</td>\n",
       "      <td>0</td>\n",
       "      <td>0</td>\n",
       "      <td>0</td>\n",
       "      <td>0.0</td>\n",
       "      <td>0.0</td>\n",
       "      <td>0.0</td>\n",
       "      <td>...</td>\n",
       "      <td>0.0</td>\n",
       "      <td>0.0</td>\n",
       "      <td>0.0</td>\n",
       "      <td>0.0</td>\n",
       "      <td>0.0</td>\n",
       "      <td>0.0</td>\n",
       "      <td>0.0</td>\n",
       "      <td>0.0</td>\n",
       "      <td>0.0</td>\n",
       "      <td>0.0</td>\n",
       "    </tr>\n",
       "    <tr>\n",
       "      <th>2</th>\n",
       "      <td>0</td>\n",
       "      <td>0</td>\n",
       "      <td>0</td>\n",
       "      <td>0</td>\n",
       "      <td>0</td>\n",
       "      <td>0</td>\n",
       "      <td>0</td>\n",
       "      <td>0.0</td>\n",
       "      <td>0.0</td>\n",
       "      <td>0.0</td>\n",
       "      <td>...</td>\n",
       "      <td>0.0</td>\n",
       "      <td>0.0</td>\n",
       "      <td>0.0</td>\n",
       "      <td>0.0</td>\n",
       "      <td>0.0</td>\n",
       "      <td>0.0</td>\n",
       "      <td>0.0</td>\n",
       "      <td>0.0</td>\n",
       "      <td>0.0</td>\n",
       "      <td>0.0</td>\n",
       "    </tr>\n",
       "    <tr>\n",
       "      <th>3</th>\n",
       "      <td>0</td>\n",
       "      <td>0</td>\n",
       "      <td>0</td>\n",
       "      <td>0</td>\n",
       "      <td>0</td>\n",
       "      <td>0</td>\n",
       "      <td>0</td>\n",
       "      <td>0.0</td>\n",
       "      <td>0.0</td>\n",
       "      <td>0.0</td>\n",
       "      <td>...</td>\n",
       "      <td>0.0</td>\n",
       "      <td>0.0</td>\n",
       "      <td>0.0</td>\n",
       "      <td>0.0</td>\n",
       "      <td>0.0</td>\n",
       "      <td>0.0</td>\n",
       "      <td>0.0</td>\n",
       "      <td>0.0</td>\n",
       "      <td>0.0</td>\n",
       "      <td>0.0</td>\n",
       "    </tr>\n",
       "    <tr>\n",
       "      <th>4</th>\n",
       "      <td>0</td>\n",
       "      <td>0</td>\n",
       "      <td>0</td>\n",
       "      <td>3</td>\n",
       "      <td>0</td>\n",
       "      <td>0</td>\n",
       "      <td>0</td>\n",
       "      <td>0.0</td>\n",
       "      <td>0.0</td>\n",
       "      <td>0.0</td>\n",
       "      <td>...</td>\n",
       "      <td>0.0</td>\n",
       "      <td>0.0</td>\n",
       "      <td>0.0</td>\n",
       "      <td>0.0</td>\n",
       "      <td>0.0</td>\n",
       "      <td>0.0</td>\n",
       "      <td>0.0</td>\n",
       "      <td>0.0</td>\n",
       "      <td>0.0</td>\n",
       "      <td>0.0</td>\n",
       "    </tr>\n",
       "    <tr>\n",
       "      <th>...</th>\n",
       "      <td>...</td>\n",
       "      <td>...</td>\n",
       "      <td>...</td>\n",
       "      <td>...</td>\n",
       "      <td>...</td>\n",
       "      <td>...</td>\n",
       "      <td>...</td>\n",
       "      <td>...</td>\n",
       "      <td>...</td>\n",
       "      <td>...</td>\n",
       "      <td>...</td>\n",
       "      <td>...</td>\n",
       "      <td>...</td>\n",
       "      <td>...</td>\n",
       "      <td>...</td>\n",
       "      <td>...</td>\n",
       "      <td>...</td>\n",
       "      <td>...</td>\n",
       "      <td>...</td>\n",
       "      <td>...</td>\n",
       "      <td>...</td>\n",
       "    </tr>\n",
       "    <tr>\n",
       "      <th>1495</th>\n",
       "      <td>10</td>\n",
       "      <td>0</td>\n",
       "      <td>0</td>\n",
       "      <td>0</td>\n",
       "      <td>0</td>\n",
       "      <td>0</td>\n",
       "      <td>0</td>\n",
       "      <td>0.0</td>\n",
       "      <td>0.0</td>\n",
       "      <td>0.0</td>\n",
       "      <td>...</td>\n",
       "      <td>0.0</td>\n",
       "      <td>0.0</td>\n",
       "      <td>0.0</td>\n",
       "      <td>0.0</td>\n",
       "      <td>0.0</td>\n",
       "      <td>0.0</td>\n",
       "      <td>0.0</td>\n",
       "      <td>0.0</td>\n",
       "      <td>0.0</td>\n",
       "      <td>0.0</td>\n",
       "    </tr>\n",
       "    <tr>\n",
       "      <th>1496</th>\n",
       "      <td>0</td>\n",
       "      <td>0</td>\n",
       "      <td>0</td>\n",
       "      <td>0</td>\n",
       "      <td>0</td>\n",
       "      <td>0</td>\n",
       "      <td>0</td>\n",
       "      <td>0.0</td>\n",
       "      <td>0.0</td>\n",
       "      <td>0.0</td>\n",
       "      <td>...</td>\n",
       "      <td>0.0</td>\n",
       "      <td>0.0</td>\n",
       "      <td>0.0</td>\n",
       "      <td>0.0</td>\n",
       "      <td>0.0</td>\n",
       "      <td>0.0</td>\n",
       "      <td>0.0</td>\n",
       "      <td>0.0</td>\n",
       "      <td>0.0</td>\n",
       "      <td>0.0</td>\n",
       "    </tr>\n",
       "    <tr>\n",
       "      <th>1497</th>\n",
       "      <td>0</td>\n",
       "      <td>0</td>\n",
       "      <td>4</td>\n",
       "      <td>0</td>\n",
       "      <td>0</td>\n",
       "      <td>0</td>\n",
       "      <td>3</td>\n",
       "      <td>0.0</td>\n",
       "      <td>6.0</td>\n",
       "      <td>0.0</td>\n",
       "      <td>...</td>\n",
       "      <td>0.0</td>\n",
       "      <td>0.0</td>\n",
       "      <td>0.0</td>\n",
       "      <td>0.0</td>\n",
       "      <td>0.0</td>\n",
       "      <td>0.0</td>\n",
       "      <td>0.0</td>\n",
       "      <td>0.0</td>\n",
       "      <td>0.0</td>\n",
       "      <td>0.0</td>\n",
       "    </tr>\n",
       "    <tr>\n",
       "      <th>1498</th>\n",
       "      <td>0</td>\n",
       "      <td>0</td>\n",
       "      <td>0</td>\n",
       "      <td>0</td>\n",
       "      <td>0</td>\n",
       "      <td>0</td>\n",
       "      <td>0</td>\n",
       "      <td>0.0</td>\n",
       "      <td>0.0</td>\n",
       "      <td>0.0</td>\n",
       "      <td>...</td>\n",
       "      <td>0.0</td>\n",
       "      <td>0.0</td>\n",
       "      <td>0.0</td>\n",
       "      <td>0.0</td>\n",
       "      <td>0.0</td>\n",
       "      <td>0.0</td>\n",
       "      <td>0.0</td>\n",
       "      <td>0.0</td>\n",
       "      <td>0.0</td>\n",
       "      <td>0.0</td>\n",
       "    </tr>\n",
       "    <tr>\n",
       "      <th>1499</th>\n",
       "      <td>0</td>\n",
       "      <td>0</td>\n",
       "      <td>0</td>\n",
       "      <td>0</td>\n",
       "      <td>0</td>\n",
       "      <td>0</td>\n",
       "      <td>0</td>\n",
       "      <td>0.0</td>\n",
       "      <td>0.0</td>\n",
       "      <td>0.0</td>\n",
       "      <td>...</td>\n",
       "      <td>0.0</td>\n",
       "      <td>0.0</td>\n",
       "      <td>0.0</td>\n",
       "      <td>0.0</td>\n",
       "      <td>0.0</td>\n",
       "      <td>0.0</td>\n",
       "      <td>0.0</td>\n",
       "      <td>0.0</td>\n",
       "      <td>0.0</td>\n",
       "      <td>0.0</td>\n",
       "    </tr>\n",
       "  </tbody>\n",
       "</table>\n",
       "<p>1500 rows × 6265 columns</p>\n",
       "</div>"
      ],
      "text/plain": [
       "      poly_0/x^0  poly_0/x^1  poly_0/x^2  poly_0/x^3  poly_0/x^4  poly_0/x^5  \\\n",
       "0              0           0           0           0           0           0   \n",
       "1             12           0           0           0           0           0   \n",
       "2              0           0           0           0           0           0   \n",
       "3              0           0           0           0           0           0   \n",
       "4              0           0           0           3           0           0   \n",
       "...          ...         ...         ...         ...         ...         ...   \n",
       "1495          10           0           0           0           0           0   \n",
       "1496           0           0           0           0           0           0   \n",
       "1497           0           0           4           0           0           0   \n",
       "1498           0           0           0           0           0           0   \n",
       "1499           0           0           0           0           0           0   \n",
       "\n",
       "      poly_0/x^6  poly_0/x^7  poly_0/x^8  poly_0/x^9  ...  poly_10/y^336  \\\n",
       "0              0         0.0         0.0         0.0  ...            0.0   \n",
       "1              0         0.0         0.0         0.0  ...            0.0   \n",
       "2              0         0.0         0.0         0.0  ...            0.0   \n",
       "3              0         0.0         0.0         0.0  ...            0.0   \n",
       "4              0         0.0         0.0         0.0  ...            0.0   \n",
       "...          ...         ...         ...         ...  ...            ...   \n",
       "1495           0         0.0         0.0         0.0  ...            0.0   \n",
       "1496           0         0.0         0.0         0.0  ...            0.0   \n",
       "1497           3         0.0         6.0         0.0  ...            0.0   \n",
       "1498           0         0.0         0.0         0.0  ...            0.0   \n",
       "1499           0         0.0         0.0         0.0  ...            0.0   \n",
       "\n",
       "      poly_10/y^337  poly_10/y^338  poly_10/y^339  poly_10/y^340  \\\n",
       "0               0.0            0.0            0.0            0.0   \n",
       "1               0.0            0.0            0.0            0.0   \n",
       "2               0.0            0.0            0.0            0.0   \n",
       "3               0.0            0.0            0.0            0.0   \n",
       "4               0.0            0.0            0.0            0.0   \n",
       "...             ...            ...            ...            ...   \n",
       "1495            0.0            0.0            0.0            0.0   \n",
       "1496            0.0            0.0            0.0            0.0   \n",
       "1497            0.0            0.0            0.0            0.0   \n",
       "1498            0.0            0.0            0.0            0.0   \n",
       "1499            0.0            0.0            0.0            0.0   \n",
       "\n",
       "      poly_10/y^341  poly_10/y^342  poly_10/y^343  poly_10/y^344  \\\n",
       "0               0.0            0.0            0.0            0.0   \n",
       "1               0.0            0.0            0.0            0.0   \n",
       "2               0.0            0.0            0.0            0.0   \n",
       "3               0.0            0.0            0.0            0.0   \n",
       "4               0.0            0.0            0.0            0.0   \n",
       "...             ...            ...            ...            ...   \n",
       "1495            0.0            0.0            0.0            0.0   \n",
       "1496            0.0            0.0            0.0            0.0   \n",
       "1497            0.0            0.0            0.0            0.0   \n",
       "1498            0.0            0.0            0.0            0.0   \n",
       "1499            0.0            0.0            0.0            0.0   \n",
       "\n",
       "      poly_10/y^345  \n",
       "0               0.0  \n",
       "1               0.0  \n",
       "2               0.0  \n",
       "3               0.0  \n",
       "4               0.0  \n",
       "...             ...  \n",
       "1495            0.0  \n",
       "1496            0.0  \n",
       "1497            0.0  \n",
       "1498            0.0  \n",
       "1499            0.0  \n",
       "\n",
       "[1500 rows x 6265 columns]"
      ]
     },
     "execution_count": 336,
     "metadata": {},
     "output_type": "execute_result"
    }
   ],
   "source": [
    "X"
   ]
  },
  {
   "cell_type": "code",
   "execution_count": 337,
   "id": "3768d16f-49ef-4536-bbb0-4c789b7c997f",
   "metadata": {
    "tags": []
   },
   "outputs": [
    {
     "name": "stdout",
     "output_type": "stream",
     "text": [
      "47.28888888888889 +- 1.5163308541539537\n",
      "44.822222222222216 +- 1.3628220539077303\n"
     ]
    }
   ],
   "source": [
    "gradboost = GradientBoostingClassifier()\n",
    "meanacc=[]\n",
    "for i in range(10):\n",
    "    X_train, X_test, y_train, y_test = train_test_split(X, y, test_size=0.3, stratify=y)\n",
    "    gradboost.fit(X_train, y_train)\n",
    "    #print(accuracy_score(y_test, gradboost.predict(X_test)), accuracy_score(y_train, gradboost.predict(X_train)))\n",
    "    meanacc.append(accuracy_score(y_test, gradboost.predict(X_test)))\n",
    "print(sum(meanacc) / len(meanacc)*100, '+-', np.std(meanacc)*100)\n",
    "\n",
    "lregpipe = Pipeline([('scaler', StandardScaler()), ('model', LogisticRegression(multi_class = 'ovr', max_iter = 10000))])\n",
    "meanacc=[]\n",
    "for i in range(10):\n",
    "    X_train, X_test, y_train, y_test = train_test_split(X, y, test_size=0.3, stratify=y)\n",
    "    lregpipe.fit(X_train, y_train)\n",
    "    #print(accuracy_score(y_test, gradboost.predict(X_test)), accuracy_score(y_train, gradboost.predict(X_train)))\n",
    "    meanacc.append(accuracy_score(y_test, lregpipe.predict(X_test)))\n",
    "print(sum(meanacc) / len(meanacc)*100, '+-', np.std(meanacc)*100)"
   ]
  },
  {
   "cell_type": "code",
   "execution_count": 161,
   "id": "d492fce1-c865-44cf-9811-73b935648db6",
   "metadata": {
    "tags": []
   },
   "outputs": [
    {
     "data": {
      "application/vnd.jupyter.widget-view+json": {
       "model_id": "381ae24a4b794b11b907938003c0adb3",
       "version_major": 2,
       "version_minor": 0
      },
      "text/plain": [
       "  0%|          | 0/1500 [00:00<?, ?it/s]"
      ]
     },
     "metadata": {},
     "output_type": "display_data"
    },
    {
     "name": "stdout",
     "output_type": "stream",
     "text": [
      "IMDB-MULTI 6\n",
      "47.722222222222236 +- 1.7453642302672236\n",
      "44.6888888888889 +- 1.3312947378444584\n",
      "CPU times: user 3min 14s, sys: 2min 31s, total: 5min 45s\n",
      "Wall time: 2min 13s\n"
     ]
    },
    {
     "data": {
      "text/plain": [
       "[<matplotlib.lines.Line2D at 0x7f6a42ae2f10>]"
      ]
     },
     "execution_count": 161,
     "metadata": {},
     "output_type": "execute_result"
    },
    {
     "data": {
      "image/png": "[encoded data removed]",
      "text/plain": [
       "<Figure size 640x480 with 1 Axes>"
      ]
     },
     "metadata": {},
     "output_type": "display_data"
    }
   ],
   "source": [
    "%%time\n",
    "boostacc=[]\n",
    "linacc=[]\n",
    "for datas in ['IMDB-MULTI']:\n",
    "    for deg in np.arange(6, 7):\n",
    "        X, y = createTUDataset(datas, [], deg)\n",
    "        print(datas, deg)\n",
    "        gradboost = GradientBoostingClassifier()\n",
    "        meanacc=[]\n",
    "        for i in range(20):\n",
    "            X_train, X_test, y_train, y_test = train_test_split(X, y, test_size=0.3, stratify=y)\n",
    "            gradboost.fit(X_train, y_train)\n",
    "            #print(accuracy_score(y_test, gradboost.predict(X_test)), accuracy_score(y_train, gradboost.predict(X_train)))\n",
    "            meanacc.append(accuracy_score(y_test, gradboost.predict(X_test)))\n",
    "        print(sum(meanacc) / len(meanacc)*100, '+-', np.std(meanacc)*100)\n",
    "        boostacc.append(sum(meanacc) / len(meanacc)*100)\n",
    "        \n",
    "        lregpipe = Pipeline([('scaler', StandardScaler()), ('model', LogisticRegression(multi_class = 'ovr', max_iter = 10000))])\n",
    "        meanacc=[]\n",
    "        for i in range(20):\n",
    "            X_train, X_test, y_train, y_test = train_test_split(X, y, test_size=0.3, stratify=y)\n",
    "            lregpipe.fit(X_train, y_train)\n",
    "            #print(accuracy_score(y_test, gradboost.predict(X_test)), accuracy_score(y_train, gradboost.predict(X_train)))\n",
    "            meanacc.append(accuracy_score(y_test, lregpipe.predict(X_test)))\n",
    "        print(sum(meanacc) / len(meanacc)*100, '+-', np.std(meanacc)*100)\n",
    "        linacc.append(sum(meanacc) / len(meanacc)*100)\n",
    "plt.plot(boostacc)\n",
    "plt.plot(linacc)"
   ]
  },
  {
   "cell_type": "code",
   "execution_count": 146,
   "id": "eb879e69-c7ef-4039-88a3-a43a0b7b313e",
   "metadata": {
    "tags": []
   },
   "outputs": [
    {
     "name": "stdout",
     "output_type": "stream",
     "text": [
      "99.44166666666673 +- 0.30219107274114554\n",
      "CPU times: user 18 s, sys: 31.9 s, total: 49.9 s\n",
      "Wall time: 1.56 s\n"
     ]
    }
   ],
   "source": [
    "%%time\n",
    "lregpipe = Pipeline([('scaler', StandardScaler()), ('model', LogisticRegression(multi_class = 'ovr', max_iter = 10000))])\n",
    "meanacc=[]\n",
    "for i in range(100):\n",
    "    X_train, X_test, y_train, y_test = train_test_split(X, y, test_size=0.3, stratify=y)\n",
    "    lregpipe.fit(X_train, y_train)\n",
    "    #print(accuracy_score(y_test, gradboost.predict(X_test)), accuracy_score(y_train, gradboost.predict(X_train)))\n",
    "    meanacc.append(accuracy_score(y_test, lregpipe.predict(X_test)))\n",
    "print(sum(meanacc) / len(meanacc)*100, '+-', np.std(meanacc)*100)\n"
   ]
  },
  {
   "cell_type": "code",
   "execution_count": 120,
   "id": "3098ca0a-3f87-4083-978e-0b24ed277015",
   "metadata": {
    "tags": []
   },
   "outputs": [],
   "source": [
    "X_train, X_test, y_train, y_test = train_test_split(X, y, test_size=0.3, stratify=y)"
   ]
  },
  {
   "cell_type": "code",
   "execution_count": 127,
   "id": "31762de2-341b-4b69-b4c3-e6aa3940ea5d",
   "metadata": {
    "tags": []
   },
   "outputs": [
    {
     "name": "stdout",
     "output_type": "stream",
     "text": [
      "GradientBoostingClassifier(max_depth=1, n_estimators=26)\n"
     ]
    }
   ],
   "source": [
    "gradboost = GradientBoostingClassifier()\n",
    "gsboost = GridSearchCV(gradboost, param_grid={'n_estimators': np.arange(10, 30), 'max_depth': [1, 2]}, scoring='accuracy', cv=KFold(n_splits=7, shuffle=True, random_state=0x575757), n_jobs=-1)\n",
    "gsboost.fit(X_train, y_train)\n",
    "print(gsboost.best_estimator_)"
   ]
  },
  {
   "cell_type": "code",
   "execution_count": 221,
   "id": "fa16e687-d47a-458b-9903-98831e9bb5b4",
   "metadata": {
    "collapsed": true,
    "jupyter": {
     "outputs_hidden": true
    },
    "tags": []
   },
   "outputs": [
    {
     "name": "stdout",
     "output_type": "stream",
     "text": [
      "GradientBoostingClassifier(max_depth=12, n_estimators=46)\n",
      "GradientBoostingClassifier(max_depth=6, n_estimators=46)\n",
      "GradientBoostingClassifier(max_depth=6, n_estimators=48)\n",
      "GradientBoostingClassifier(max_depth=10, n_estimators=42)\n",
      "GradientBoostingClassifier(max_depth=6, n_estimators=41)\n",
      "GradientBoostingClassifier(max_depth=6, n_estimators=56)\n",
      "GradientBoostingClassifier(max_depth=10, n_estimators=44)\n",
      "GradientBoostingClassifier(max_depth=7, n_estimators=42)\n",
      "GradientBoostingClassifier(max_depth=12, n_estimators=53)\n",
      "GradientBoostingClassifier(max_depth=7, n_estimators=51)\n",
      "79.82456140350878 +- 3.4423538369032594\n",
      "GradientBoostingClassifier(max_depth=8, n_estimators=43)\n",
      "GradientBoostingClassifier(max_depth=7, n_estimators=40)\n",
      "GradientBoostingClassifier(max_depth=6, n_estimators=57)\n",
      "GradientBoostingClassifier(max_depth=6, n_estimators=43)\n",
      "GradientBoostingClassifier(max_depth=6, n_estimators=64)\n",
      "GradientBoostingClassifier(max_depth=8, n_estimators=44)\n",
      "GradientBoostingClassifier(max_depth=7, n_estimators=48)\n",
      "GradientBoostingClassifier(max_depth=11, n_estimators=51)\n",
      "GradientBoostingClassifier(max_depth=7, n_estimators=51)\n",
      "GradientBoostingClassifier(max_depth=6, n_estimators=44)\n",
      "81.40350877192984 +- 4.311651132436669\n",
      "CPU times: user 12.1 s, sys: 665 ms, total: 12.8 s\n",
      "Wall time: 56.7 s\n"
     ]
    }
   ],
   "source": [
    "%%time\n",
    "\n",
    "for foldnum in np.arange(7, 9):\n",
    "    meanacc=[]\n",
    "    for i in range(10):\n",
    "        X_train, X_test, y_train, y_test = train_test_split(X, y, test_size=0.3, stratify=y)\n",
    "        gsboost = GridSearchCV(gradboost, param_grid={'n_estimators': np.arange(40, 65), 'max_depth': [6, 7, 8, 9, 10, 11, 12]}, scoring='accuracy', cv=KFold(n_splits=foldnum, shuffle=True, random_state=0x575757), n_jobs=-1)\n",
    "        gsboost.fit(X_train, y_train)\n",
    "        print(gsboost.best_estimator_)\n",
    "        meanacc.append(gsboost.best_estimator_.score(X_test, y_test))\n",
    "    print(sum(meanacc) / len(meanacc)*100, '+-', np.std(meanacc)*100)"
   ]
  },
  {
   "cell_type": "code",
   "execution_count": 170,
   "id": "75f930e9-5c0d-44da-afcc-cb7352e3d9da",
   "metadata": {
    "tags": []
   },
   "outputs": [
    {
     "data": {
      "application/vnd.jupyter.widget-view+json": {
       "model_id": "3f42e287be3143c3bc08cf3b5215b670",
       "version_major": 2,
       "version_minor": 0
      },
      "text/plain": [
       "  0%|          | 0/45000 [00:00<?, ?it/s]"
      ]
     },
     "metadata": {},
     "output_type": "display_data"
    },
    {
     "data": {
      "text/plain": [
       "(45000, 1962)"
      ]
     },
     "execution_count": 170,
     "metadata": {},
     "output_type": "execute_result"
    }
   ],
   "source": [
    "X, y = createTUDataset('TRIANGLES', [], [1, 2, 3, 4, 5, 6])\n",
    "X.shape"
   ]
  },
  {
   "cell_type": "code",
   "execution_count": 53,
   "id": "7ef3e687-782e-4736-9df9-b1a97d2561a7",
   "metadata": {
    "tags": []
   },
   "outputs": [
    {
     "name": "stdout",
     "output_type": "stream",
     "text": [
      "0.6167664670658682 0.9974326059050064\n"
     ]
    }
   ],
   "source": [
    "from sklearn.svm import LinearSVC\n",
    "X_train, X_test, y_train, y_test = train_test_split(X, y, random_state=0x575757, test_size=0.3, stratify=y)\n",
    "lregpipe = Pipeline([('scaler', StandardScaler()), ('model', LinearSVC(penalty = 'l1', loss='squared_hinge', multi_class = 'ovr', tol = 1e-7,  max_iter = 100000, dual=False))])\n",
    "lregpipe.fit(X_train, y_train)\n",
    "print(accuracy_score(y_test, lregpipe.predict(X_test)), accuracy_score(y_train, lregpipe.predict(X_train)))"
   ]
  },
  {
   "cell_type": "code",
   "execution_count": 29,
   "id": "3635f0c1-0a58-4541-af7d-35f5306d82dd",
   "metadata": {
    "collapsed": true,
    "jupyter": {
     "outputs_hidden": true
    },
    "tags": []
   },
   "outputs": [
    {
     "name": "stdout",
     "output_type": "stream",
     "text": [
      "poly_0/x^0      0.056448\n",
      "poly_0/x^1      0.094363\n",
      "poly_0/x^2      0.091680\n",
      "poly_0/x^3      0.102439\n",
      "poly_0/x^4      0.066859\n",
      "                  ...   \n",
      "poly_3/y^353    0.031633\n",
      "poly_3/y^354    0.031633\n",
      "poly_3/y^355    0.031633\n",
      "poly_3/y^356    0.031633\n",
      "target          1.000000\n",
      "Name: target, Length: 2865, dtype: float64\n"
     ]
    }
   ],
   "source": [
    "X['target']=y\n",
    "cor_matrix = X.corr().abs()\n",
    "print(cor_matrix['target'])"
   ]
  },
  {
   "cell_type": "code",
   "execution_count": 34,
   "id": "95680ebf-570a-4570-877b-249edf2a73fd",
   "metadata": {
    "tags": []
   },
   "outputs": [
    {
     "name": "stdout",
     "output_type": "stream",
     "text": [
      "1843\n"
     ]
    }
   ],
   "source": [
    "to_drop = [column for column in X.columns if cor_matrix['target'][column]<0.06]\n",
    "print(len(to_drop))\n",
    "X = X.drop(columns = to_drop, axis=1)"
   ]
  },
  {
   "cell_type": "code",
   "execution_count": 13,
   "id": "b17454f4-f442-41d6-9f8b-9eaac1f12d22",
   "metadata": {
    "tags": []
   },
   "outputs": [],
   "source": [
    "# cor_matrix = X.corr().abs()\n",
    "# upper_tri = cor_matrix.where(np.triu(np.ones(cor_matrix.shape),k=1).astype('bool'))"
   ]
  },
  {
   "cell_type": "code",
   "execution_count": 14,
   "id": "a0854cd4-f7d3-42ff-aaa0-19b5952cc947",
   "metadata": {
    "tags": []
   },
   "outputs": [
    {
     "name": "stdout",
     "output_type": "stream",
     "text": [
      "1248\n"
     ]
    }
   ],
   "source": [
    "# to_drop = [column for column in upper_tri.columns if any(upper_tri[column] > 0.9)]\n",
    "# print(len(to_drop))\n",
    "# X = X.drop(columns = to_drop, axis=1)"
   ]
  },
  {
   "cell_type": "code",
   "execution_count": 170,
   "id": "744d1ce5-74cb-4e43-b318-20f5ebd9f633",
   "metadata": {
    "tags": []
   },
   "outputs": [
    {
     "name": "stdout",
     "output_type": "stream",
     "text": [
      "Best model: Pipeline(steps=[('scaler', StandardScaler()),\n",
      "                ('model',\n",
      "                 LogisticRegression(C=0.0005, max_iter=10000,\n",
      "                                    multi_class='ovr'))])\n",
      "Best score: 0.7356246552675125\n",
      "test score: 0.7245508982035929 train score: 0.7394094993581515\n",
      "CPU times: user 1.48 s, sys: 2.22 s, total: 3.7 s\n",
      "Wall time: 5.74 s\n"
     ]
    }
   ],
   "source": [
    "%%time\n",
    "X_train, X_test, y_train, y_test = train_test_split(X, y, test_size=0.3, stratify=y)\n",
    "lregpipe = Pipeline([('scaler', StandardScaler()), ('model', LogisticRegression(multi_class = 'ovr', max_iter = 10000))])\n",
    "gslreg = GridSearchCV(lregpipe, param_grid={'model__C': np.arange(0.0001, 0.002, 0.0001)}, scoring='accuracy', cv=KFold(n_splits=7, shuffle=True, random_state=0x575757), n_jobs=-1)\n",
    "gslreg.fit(X_train, y_train)\n",
    "print('Best model:', gslreg.best_estimator_)\n",
    "print('Best score:', gslreg.best_score_)\n",
    "print('test score:', gslreg.best_estimator_.score(X_test, y_test), 'train score:', gslreg.best_estimator_.score(X_train, y_train))"
   ]
  },
  {
   "cell_type": "code",
   "execution_count": 231,
   "id": "47f6daef-2f84-4089-916e-36b7cd9980f7",
   "metadata": {
    "tags": []
   },
   "outputs": [
    {
     "name": "stdout",
     "output_type": "stream",
     "text": [
      "85.12280701754379 +- 4.087982824123571\n",
      "CPU times: user 1min 40s, sys: 11.1 s, total: 1min 51s\n",
      "Wall time: 2min 20s\n"
     ]
    }
   ],
   "source": [
    "%%time\n",
    "\n",
    "meanacc=[]\n",
    "for t in range(100):\n",
    "    X_train, X_test, y_train, y_test = train_test_split(X, y, test_size=0.3)\n",
    "    lregpipe = Pipeline([('scaler', StandardScaler()), ('model', LogisticRegression(multi_class = 'ovr', max_iter = 100000, tol=1e-7))])\n",
    "    gslreg = GridSearchCV(lregpipe, param_grid={'model__C': np.arange(0.001, 0.5, 0.001)}, scoring='accuracy', cv=KFold(n_splits=7, shuffle=True), n_jobs=-1)\n",
    "    gslreg.fit(X_train, y_train)\n",
    "    #print('Best model:', gslreg.best_estimator_)\n",
    "        # print('Best score:', gslreg.best_score_)\n",
    "        # print('test score:', gslreg.best_estimator_.score(X_test, y_test), 'train score:', gslreg.best_estimator_.score(X_train, y_train))\n",
    "\n",
    "            # lregpipe = Pipeline([('Poly', PolynomialFeatures()), ('scaler', StandardScaler()), ('model', LogisticRegression(multi_class = 'ovr', max_iter = 10000))])\n",
    "            # gslreg = GridSearchCV(lregpipe, param_grid={ 'model__C': np.arange(0.001, 1, 0.001)}, scoring='accuracy', cv=KFold(n_splits=8, shuffle=True, random_state=0x575757), n_jobs=-1)\n",
    "            # gslreg.fit(X_train, y_train)\n",
    "            # print('Best model:', gslreg.best_estimator_)\n",
    "            # print('Best score:', gslreg.best_score_)\n",
    "            # print('test score:', gslreg.best_estimator_.score(X_test, y_test), 'train score:', gslreg.best_estimator_.score(X_train, y_train))\n",
    "    meanacc.append(gslreg.best_estimator_.score(X_test, y_test))\n",
    "print(sum(meanacc) / len(meanacc)*100, '+-', np.std(meanacc)*100)"
   ]
  },
  {
   "cell_type": "code",
   "execution_count": 51,
   "id": "0249b5a7-587b-4266-8535-49a01cd2bc01",
   "metadata": {
    "tags": []
   },
   "outputs": [
    {
     "name": "stdout",
     "output_type": "stream",
     "text": [
      "tensor([5])\n"
     ]
    },
    {
     "data": {
      "image/png": "[encoded data removed]",
      "text/plain": [
       "<Figure size 640x480 with 1 Axes>"
      ]
     },
     "metadata": {},
     "output_type": "display_data"
    }
   ],
   "source": [
    "k = 12\n",
    "print(data[k][1])\n",
    "nx.draw(nx.from_numpy_array(data[k][0]))\n"
   ]
  },
  {
   "cell_type": "code",
   "execution_count": 313,
   "id": "b99f71ae-2324-4f84-a632-0b8ce9d2ced4",
   "metadata": {
    "tags": []
   },
   "outputs": [
    {
     "data": {
      "text/plain": [
       "1178"
      ]
     },
     "execution_count": 313,
     "metadata": {},
     "output_type": "execute_result"
    }
   ],
   "source": [
    "len(data)"
   ]
  },
  {
   "cell_type": "code",
   "execution_count": 10,
   "id": "98c94620-09e8-42cb-9391-120ca1c79036",
   "metadata": {
    "tags": []
   },
   "outputs": [],
   "source": [
    "from sympy import *\n",
    "x, y, z = symbols(\"x y z\")"
   ]
  },
  {
   "cell_type": "code",
   "execution_count": 11,
   "id": "f9c8c6cf-9b07-47e1-a10f-9d283532e47b",
   "metadata": {
    "tags": []
   },
   "outputs": [],
   "source": [
    "expr=nx.chromatic_polynomial(nx.from_numpy_array(data[50][0]))"
   ]
  },
  {
   "cell_type": "code",
   "execution_count": 12,
   "id": "1e80aca9-3d02-4748-acc2-cbc72ae22927",
   "metadata": {
    "tags": []
   },
   "outputs": [
    {
     "data": {
      "text/plain": [
       "192"
      ]
     },
     "execution_count": 12,
     "metadata": {},
     "output_type": "execute_result"
    }
   ],
   "source": [
    "int(expr.subs(x, 3))"
   ]
  },
  {
   "cell_type": "code",
   "execution_count": 13,
   "id": "6b5ef1c9-0093-4c3c-b088-319daa341757",
   "metadata": {
    "tags": []
   },
   "outputs": [],
   "source": [
    "def toispowers(datachunk, i):\n",
    "    g, label = datachunk\n",
    "    target = int(label)\n",
    "    g = g - np.diag(np.diag(g))\n",
    "    expr=nx.chromatic_polynomial(nx.from_numpy_array(g))\n",
    "    features=[]\n",
    "    for k in range(i+1):\n",
    "        features.append(int(expr.subs(x, k)))\n",
    "    return target, features  \n",
    "\n"
   ]
  },
  {
   "cell_type": "code",
   "execution_count": 20,
   "id": "00d4a974-ad20-424d-8f49-08d1ae20e281",
   "metadata": {
    "collapsed": true,
    "jupyter": {
     "outputs_hidden": true
    },
    "tags": []
   },
   "outputs": [
    {
     "ename": "KeyboardInterrupt",
     "evalue": "",
     "output_type": "error",
     "traceback": [
      "\u001b[0;31m---------------------------------------------------------------------------\u001b[0m",
      "\u001b[0;31mKeyboardInterrupt\u001b[0m                         Traceback (most recent call last)",
      "Cell \u001b[0;32mIn[20], line 5\u001b[0m\n\u001b[1;32m      3\u001b[0m t\u001b[38;5;241m=\u001b[39m\u001b[38;5;241m0\u001b[39m\n\u001b[1;32m      4\u001b[0m \u001b[38;5;28;01mfor\u001b[39;00m datachunk \u001b[38;5;129;01min\u001b[39;00m data:\n\u001b[0;32m----> 5\u001b[0m     tar, feat \u001b[38;5;241m=\u001b[39m \u001b[43mtoispowers\u001b[49m\u001b[43m(\u001b[49m\u001b[43mdatachunk\u001b[49m\u001b[43m,\u001b[49m\u001b[43m \u001b[49m\u001b[38;5;241;43m5\u001b[39;49m\u001b[43m)\u001b[49m\n\u001b[1;32m      6\u001b[0m     allfeats\u001b[38;5;241m.\u001b[39mappend(feat)\n\u001b[1;32m      7\u001b[0m     targets\u001b[38;5;241m.\u001b[39mappend(tar)\n",
      "Cell \u001b[0;32mIn[13], line 5\u001b[0m, in \u001b[0;36mtoispowers\u001b[0;34m(datachunk, i)\u001b[0m\n\u001b[1;32m      3\u001b[0m target \u001b[38;5;241m=\u001b[39m \u001b[38;5;28mint\u001b[39m(label)\n\u001b[1;32m      4\u001b[0m g \u001b[38;5;241m=\u001b[39m g \u001b[38;5;241m-\u001b[39m np\u001b[38;5;241m.\u001b[39mdiag(np\u001b[38;5;241m.\u001b[39mdiag(g))\n\u001b[0;32m----> 5\u001b[0m expr\u001b[38;5;241m=\u001b[39m\u001b[43mnx\u001b[49m\u001b[38;5;241;43m.\u001b[39;49m\u001b[43mchromatic_polynomial\u001b[49m\u001b[43m(\u001b[49m\u001b[43mnx\u001b[49m\u001b[38;5;241;43m.\u001b[39;49m\u001b[43mfrom_numpy_array\u001b[49m\u001b[43m(\u001b[49m\u001b[43mg\u001b[49m\u001b[43m)\u001b[49m\u001b[43m)\u001b[49m\n\u001b[1;32m      6\u001b[0m features\u001b[38;5;241m=\u001b[39m[]\n\u001b[1;32m      7\u001b[0m \u001b[38;5;28;01mfor\u001b[39;00m k \u001b[38;5;129;01min\u001b[39;00m \u001b[38;5;28mrange\u001b[39m(i\u001b[38;5;241m+\u001b[39m\u001b[38;5;241m1\u001b[39m):\n",
      "File \u001b[0;32m<class 'networkx.utils.decorators.argmap'> compilation 8:4\u001b[0m, in \u001b[0;36margmap_chromatic_polynomial_5\u001b[0;34m(G)\u001b[0m\n\u001b[1;32m      2\u001b[0m \u001b[38;5;28;01mimport\u001b[39;00m \u001b[38;5;21;01mcollections\u001b[39;00m\n\u001b[1;32m      3\u001b[0m \u001b[38;5;28;01mimport\u001b[39;00m \u001b[38;5;21;01mgzip\u001b[39;00m\n\u001b[0;32m----> 4\u001b[0m \u001b[38;5;28;01mimport\u001b[39;00m \u001b[38;5;21;01minspect\u001b[39;00m\n\u001b[1;32m      5\u001b[0m \u001b[38;5;28;01mimport\u001b[39;00m \u001b[38;5;21;01mitertools\u001b[39;00m\n\u001b[1;32m      6\u001b[0m \u001b[38;5;28;01mimport\u001b[39;00m \u001b[38;5;21;01mre\u001b[39;00m\n",
      "File \u001b[0;32m~/.local/lib/python3.11/site-packages/networkx/algorithms/polynomials.py:292\u001b[0m, in \u001b[0;36mchromatic_polynomial\u001b[0;34m(G)\u001b[0m\n\u001b[1;32m    290\u001b[0m \u001b[38;5;28;01mwhile\u001b[39;00m stack:\n\u001b[1;32m    291\u001b[0m     G \u001b[38;5;241m=\u001b[39m stack\u001b[38;5;241m.\u001b[39mpop()\n\u001b[0;32m--> 292\u001b[0m     edges \u001b[38;5;241m=\u001b[39m \u001b[38;5;28;43mlist\u001b[39;49m\u001b[43m(\u001b[49m\u001b[43mG\u001b[49m\u001b[38;5;241;43m.\u001b[39;49m\u001b[43medges\u001b[49m\u001b[43m)\u001b[49m\n\u001b[1;32m    293\u001b[0m     \u001b[38;5;28;01mif\u001b[39;00m \u001b[38;5;129;01mnot\u001b[39;00m edges:\n\u001b[1;32m    294\u001b[0m         polynomial \u001b[38;5;241m+\u001b[39m\u001b[38;5;241m=\u001b[39m (\u001b[38;5;241m-\u001b[39m\u001b[38;5;241m1\u001b[39m) \u001b[38;5;241m*\u001b[39m\u001b[38;5;241m*\u001b[39m G\u001b[38;5;241m.\u001b[39mgraph[\u001b[38;5;124m\"\u001b[39m\u001b[38;5;124mcontraction_idx\u001b[39m\u001b[38;5;124m\"\u001b[39m] \u001b[38;5;241m*\u001b[39m x \u001b[38;5;241m*\u001b[39m\u001b[38;5;241m*\u001b[39m \u001b[38;5;28mlen\u001b[39m(G)\n",
      "File \u001b[0;32m~/.local/lib/python3.11/site-packages/networkx/classes/reportviews.py:1383\u001b[0m, in \u001b[0;36mMultiEdgeView.__len__\u001b[0;34m(self)\u001b[0m\n\u001b[1;32m   1382\u001b[0m \u001b[38;5;28;01mdef\u001b[39;00m \u001b[38;5;21m__len__\u001b[39m(\u001b[38;5;28mself\u001b[39m):\n\u001b[0;32m-> 1383\u001b[0m     \u001b[38;5;28;01mreturn\u001b[39;00m \u001b[38;5;28msum\u001b[39m(\u001b[38;5;241m1\u001b[39m \u001b[38;5;28;01mfor\u001b[39;00m e \u001b[38;5;129;01min\u001b[39;00m \u001b[38;5;28mself\u001b[39m)\n",
      "File \u001b[0;32m~/.local/lib/python3.11/site-packages/networkx/classes/reportviews.py:1383\u001b[0m, in \u001b[0;36m<genexpr>\u001b[0;34m(.0)\u001b[0m\n\u001b[1;32m   1382\u001b[0m \u001b[38;5;28;01mdef\u001b[39;00m \u001b[38;5;21m__len__\u001b[39m(\u001b[38;5;28mself\u001b[39m):\n\u001b[0;32m-> 1383\u001b[0m     \u001b[38;5;28;01mreturn\u001b[39;00m \u001b[38;5;28msum\u001b[39m(\u001b[38;5;241m1\u001b[39m \u001b[38;5;28;01mfor\u001b[39;00m e \u001b[38;5;129;01min\u001b[39;00m \u001b[38;5;28mself\u001b[39m)\n",
      "File \u001b[0;32m~/.local/lib/python3.11/site-packages/networkx/classes/reportviews.py:1388\u001b[0m, in \u001b[0;36mMultiEdgeView.__iter__\u001b[0;34m(self)\u001b[0m\n\u001b[1;32m   1386\u001b[0m seen \u001b[38;5;241m=\u001b[39m {}\n\u001b[1;32m   1387\u001b[0m \u001b[38;5;28;01mfor\u001b[39;00m n, nbrs \u001b[38;5;129;01min\u001b[39;00m \u001b[38;5;28mself\u001b[39m\u001b[38;5;241m.\u001b[39m_nodes_nbrs():\n\u001b[0;32m-> 1388\u001b[0m     \u001b[38;5;28;01mfor\u001b[39;00m nbr, kd \u001b[38;5;129;01min\u001b[39;00m nbrs\u001b[38;5;241m.\u001b[39mitems():\n\u001b[1;32m   1389\u001b[0m         \u001b[38;5;28;01mif\u001b[39;00m nbr \u001b[38;5;129;01mnot\u001b[39;00m \u001b[38;5;129;01min\u001b[39;00m seen:\n\u001b[1;32m   1390\u001b[0m             \u001b[38;5;28;01mfor\u001b[39;00m k, dd \u001b[38;5;129;01min\u001b[39;00m kd\u001b[38;5;241m.\u001b[39mitems():\n",
      "\u001b[0;31mKeyboardInterrupt\u001b[0m: "
     ]
    }
   ],
   "source": [
    "allfeats=[]\n",
    "targets=[]\n",
    "t=0\n",
    "for datachunk in data:\n",
    "    tar, feat = toispowers(datachunk, 5)\n",
    "    allfeats.append(feat)\n",
    "    targets.append(tar)\n",
    "    print(t)\n",
    "    t+=1\n"
   ]
  }
 ],
 "metadata": {
  "kernelspec": {
   "display_name": "Python 3 (ipykernel)",
   "language": "python",
   "name": "python3"
  },
  "language_info": {
   "codemirror_mode": {
    "name": "ipython",
    "version": 3
   },
   "file_extension": ".py",
   "mimetype": "text/x-python",
   "name": "python",
   "nbconvert_exporter": "python",
   "pygments_lexer": "ipython3",
   "version": "3.11.3"
  }
 },
 "nbformat": 4,
 "nbformat_minor": 5
}
